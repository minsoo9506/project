{
 "cells": [
  {
   "cell_type": "code",
   "execution_count": 1,
   "metadata": {
    "collapsed": true
   },
   "outputs": [],
   "source": [
    "import pandas as pd\n",
    "import numpy as np\n",
    "import matplotlib.pyplot as plt\n",
    "import seaborn as sns\n",
    "\n",
    "%matplotlib inline \n",
    "%config InlineBackend.figure_format = 'retina' \n",
    "\n",
    "sns.set_style(style='white')\n",
    "sns.set_context(context ='paper')\n",
    "\n",
    "from matplotlib import font_manager, rc\n",
    "font_name = font_manager.FontProperties(fname='font/NanumSquareRoundR.ttf').get_name()\n",
    "rc('font', family=font_name)\n",
    "\n",
    "font_path = 'font/NanumSquareRoundR.ttf'\n",
    "fontprop = font_manager.FontProperties(fname=font_path)\n",
    "\n",
    "pd.set_option('display.max_columns',999)"
   ]
  },
  {
   "cell_type": "code",
   "execution_count": 2,
   "metadata": {},
   "outputs": [
    {
     "name": "stderr",
     "output_type": "stream",
     "text": [
      "C:\\anaconda\\lib\\site-packages\\IPython\\core\\interactiveshell.py:2698: DtypeWarning: Columns (7) have mixed types. Specify dtype option on import or set low_memory=False.\n",
      "  interactivity=interactivity, compiler=compiler, result=result)\n"
     ]
    }
   ],
   "source": [
    "product = pd.read_csv('data/Product.csv')\n",
    "search1 = pd.read_csv('data/Search1.csv')\n",
    "search2 = pd.read_csv('data/Search2.csv')\n",
    "session = pd.read_csv('data/Session.csv')\n",
    "master = pd.read_csv('data/Master.csv')\n",
    "custom = pd.read_csv('data/Custom.csv')"
   ]
  },
  {
   "cell_type": "markdown",
   "metadata": {},
   "source": [
    "# EDA"
   ]
  },
  {
   "cell_type": "markdown",
   "metadata": {},
   "source": [
    "## 1-1 . 데이터 이해"
   ]
  },
  {
   "cell_type": "markdown",
   "metadata": {},
   "source": [
    "### NA 값"
   ]
  },
  {
   "cell_type": "code",
   "execution_count": 19,
   "metadata": {},
   "outputs": [
    {
     "data": {
      "text/plain": [
       "CLNT_ID                0\n",
       "SESS_ID                0\n",
       "SESS_SEQ               0\n",
       "SESS_DT                0\n",
       "TOT_PAG_VIEW_CT      274\n",
       "TOT_SESS_HR_V      14202\n",
       "DVC_CTG_NM             0\n",
       "ZON_NM                 0\n",
       "CITY_NM                0\n",
       "dtype: int64"
      ]
     },
     "execution_count": 19,
     "metadata": {},
     "output_type": "execute_result"
    }
   ],
   "source": [
    "# session 만 na 값 존재\n",
    "session.isnull().sum()"
   ]
  },
  {
   "cell_type": "markdown",
   "metadata": {},
   "source": [
    "### product"
   ]
  },
  {
   "cell_type": "code",
   "execution_count": 7,
   "metadata": {},
   "outputs": [
    {
     "data": {
      "text/html": [
       "<div>\n",
       "<style>\n",
       "    .dataframe thead tr:only-child th {\n",
       "        text-align: right;\n",
       "    }\n",
       "\n",
       "    .dataframe thead th {\n",
       "        text-align: left;\n",
       "    }\n",
       "\n",
       "    .dataframe tbody tr th {\n",
       "        vertical-align: top;\n",
       "    }\n",
       "</style>\n",
       "<table border=\"1\" class=\"dataframe\">\n",
       "  <thead>\n",
       "    <tr style=\"text-align: right;\">\n",
       "      <th></th>\n",
       "      <th>CLNT_ID</th>\n",
       "      <th>SESS_ID</th>\n",
       "      <th>HITS_SEQ</th>\n",
       "      <th>PD_C</th>\n",
       "      <th>PD_ADD_NM</th>\n",
       "      <th>PD_BRA_NM</th>\n",
       "      <th>PD_BUY_AM</th>\n",
       "      <th>PD_BUY_CT</th>\n",
       "    </tr>\n",
       "  </thead>\n",
       "  <tbody>\n",
       "    <tr>\n",
       "      <th>0</th>\n",
       "      <td>4139680</td>\n",
       "      <td>7605037</td>\n",
       "      <td>12</td>\n",
       "      <td>642112</td>\n",
       "      <td>색상:워터멜론</td>\n",
       "      <td>[바비브라운]</td>\n",
       "      <td>39,000</td>\n",
       "      <td>1</td>\n",
       "    </tr>\n",
       "    <tr>\n",
       "      <th>1</th>\n",
       "      <td>4140076</td>\n",
       "      <td>10189797</td>\n",
       "      <td>13</td>\n",
       "      <td>570603</td>\n",
       "      <td>색상:BLK0_(BLK0)BLACK|사이즈:120 / 2개</td>\n",
       "      <td>데상트</td>\n",
       "      <td>39,000</td>\n",
       "      <td>2</td>\n",
       "    </tr>\n",
       "    <tr>\n",
       "      <th>2</th>\n",
       "      <td>4142395</td>\n",
       "      <td>6158159</td>\n",
       "      <td>85</td>\n",
       "      <td>179538</td>\n",
       "      <td>(not set)</td>\n",
       "      <td>[아베다]</td>\n",
       "      <td>39,000</td>\n",
       "      <td>1</td>\n",
       "    </tr>\n",
       "    <tr>\n",
       "      <th>3</th>\n",
       "      <td>4144914</td>\n",
       "      <td>7935714</td>\n",
       "      <td>12</td>\n",
       "      <td>554336</td>\n",
       "      <td>색상:블랙|사이즈:160cm(12~13세) / 1개</td>\n",
       "      <td>아디다스 키즈</td>\n",
       "      <td>39,000</td>\n",
       "      <td>1</td>\n",
       "    </tr>\n",
       "    <tr>\n",
       "      <th>4</th>\n",
       "      <td>4144917</td>\n",
       "      <td>6406509</td>\n",
       "      <td>78</td>\n",
       "      <td>190306</td>\n",
       "      <td>5개</td>\n",
       "      <td>데코르테</td>\n",
       "      <td>39,000</td>\n",
       "      <td>5</td>\n",
       "    </tr>\n",
       "  </tbody>\n",
       "</table>\n",
       "</div>"
      ],
      "text/plain": [
       "   CLNT_ID   SESS_ID  HITS_SEQ    PD_C                         PD_ADD_NM  \\\n",
       "0  4139680   7605037        12  642112                           색상:워터멜론   \n",
       "1  4140076  10189797        13  570603  색상:BLK0_(BLK0)BLACK|사이즈:120 / 2개   \n",
       "2  4142395   6158159        85  179538                         (not set)   \n",
       "3  4144914   7935714        12  554336      색상:블랙|사이즈:160cm(12~13세) / 1개   \n",
       "4  4144917   6406509        78  190306                                5개   \n",
       "\n",
       "  PD_BRA_NM PD_BUY_AM PD_BUY_CT  \n",
       "0   [바비브라운]    39,000         1  \n",
       "1       데상트    39,000         2  \n",
       "2     [아베다]    39,000         1  \n",
       "3   아디다스 키즈    39,000         1  \n",
       "4      데코르테    39,000         5  "
      ]
     },
     "execution_count": 7,
     "metadata": {},
     "output_type": "execute_result"
    }
   ],
   "source": [
    "product.head()"
   ]
  },
  {
   "cell_type": "code",
   "execution_count": 14,
   "metadata": {},
   "outputs": [
    {
     "data": {
      "text/html": [
       "<div>\n",
       "<style>\n",
       "    .dataframe thead tr:only-child th {\n",
       "        text-align: right;\n",
       "    }\n",
       "\n",
       "    .dataframe thead th {\n",
       "        text-align: left;\n",
       "    }\n",
       "\n",
       "    .dataframe tbody tr th {\n",
       "        vertical-align: top;\n",
       "    }\n",
       "</style>\n",
       "<table border=\"1\" class=\"dataframe\">\n",
       "  <thead>\n",
       "    <tr style=\"text-align: right;\">\n",
       "      <th></th>\n",
       "      <th>CLNT_ID</th>\n",
       "      <th>SESS_ID</th>\n",
       "      <th>HITS_SEQ</th>\n",
       "      <th>PD_C</th>\n",
       "      <th>PD_ADD_NM</th>\n",
       "      <th>PD_BRA_NM</th>\n",
       "      <th>PD_BUY_AM</th>\n",
       "      <th>PD_BUY_CT</th>\n",
       "      <th>PD_BUY_TO</th>\n",
       "    </tr>\n",
       "  </thead>\n",
       "  <tbody>\n",
       "    <tr>\n",
       "      <th>647279</th>\n",
       "      <td>4140076</td>\n",
       "      <td>6526651</td>\n",
       "      <td>22</td>\n",
       "      <td>196272</td>\n",
       "      <td>색상:선택3)248(네이비)|사이즈:L(105) / 1개</td>\n",
       "      <td>프레드페리</td>\n",
       "      <td>47600</td>\n",
       "      <td>1</td>\n",
       "      <td>47600</td>\n",
       "    </tr>\n",
       "    <tr>\n",
       "      <th>783221</th>\n",
       "      <td>4140076</td>\n",
       "      <td>6526651</td>\n",
       "      <td>193</td>\n",
       "      <td>196272</td>\n",
       "      <td>색상:선택2)102(블랙)|사이즈:XL(110) / 1개</td>\n",
       "      <td>프레드페리</td>\n",
       "      <td>47600</td>\n",
       "      <td>1</td>\n",
       "      <td>47600</td>\n",
       "    </tr>\n",
       "    <tr>\n",
       "      <th>844514</th>\n",
       "      <td>4140076</td>\n",
       "      <td>6526651</td>\n",
       "      <td>22</td>\n",
       "      <td>365025</td>\n",
       "      <td>색상:WH|사이즈:165 / 1개</td>\n",
       "      <td>닥스 키즈</td>\n",
       "      <td>48300</td>\n",
       "      <td>1</td>\n",
       "      <td>48300</td>\n",
       "    </tr>\n",
       "    <tr>\n",
       "      <th>1667666</th>\n",
       "      <td>4140076</td>\n",
       "      <td>6526651</td>\n",
       "      <td>22</td>\n",
       "      <td>364992</td>\n",
       "      <td>색상:BG|사이즈:165 / 1개</td>\n",
       "      <td>닥스 키즈</td>\n",
       "      <td>71200</td>\n",
       "      <td>1</td>\n",
       "      <td>71200</td>\n",
       "    </tr>\n",
       "    <tr>\n",
       "      <th>2290388</th>\n",
       "      <td>4140076</td>\n",
       "      <td>6526651</td>\n",
       "      <td>22</td>\n",
       "      <td>339321</td>\n",
       "      <td>색상:BU|사이즈:165 / 1개</td>\n",
       "      <td>닥스 키즈</td>\n",
       "      <td>90300</td>\n",
       "      <td>1</td>\n",
       "      <td>90300</td>\n",
       "    </tr>\n",
       "    <tr>\n",
       "      <th>3924326</th>\n",
       "      <td>4140076</td>\n",
       "      <td>6526651</td>\n",
       "      <td>193</td>\n",
       "      <td>507637</td>\n",
       "      <td>색상:블랙(BLK)|사이즈:XXL / 1개</td>\n",
       "      <td>게스(VIP)</td>\n",
       "      <td>23800</td>\n",
       "      <td>1</td>\n",
       "      <td>23800</td>\n",
       "    </tr>\n",
       "    <tr>\n",
       "      <th>4310534</th>\n",
       "      <td>4140076</td>\n",
       "      <td>6526651</td>\n",
       "      <td>193</td>\n",
       "      <td>262956</td>\n",
       "      <td>사이즈:280 / 1개</td>\n",
       "      <td>나이키</td>\n",
       "      <td>29000</td>\n",
       "      <td>1</td>\n",
       "      <td>29000</td>\n",
       "    </tr>\n",
       "  </tbody>\n",
       "</table>\n",
       "</div>"
      ],
      "text/plain": [
       "         CLNT_ID  SESS_ID  HITS_SEQ    PD_C                        PD_ADD_NM  \\\n",
       "647279   4140076  6526651        22  196272  색상:선택3)248(네이비)|사이즈:L(105) / 1개   \n",
       "783221   4140076  6526651       193  196272  색상:선택2)102(블랙)|사이즈:XL(110) / 1개   \n",
       "844514   4140076  6526651        22  365025               색상:WH|사이즈:165 / 1개   \n",
       "1667666  4140076  6526651        22  364992               색상:BG|사이즈:165 / 1개   \n",
       "2290388  4140076  6526651        22  339321               색상:BU|사이즈:165 / 1개   \n",
       "3924326  4140076  6526651       193  507637          색상:블랙(BLK)|사이즈:XXL / 1개   \n",
       "4310534  4140076  6526651       193  262956                     사이즈:280 / 1개   \n",
       "\n",
       "        PD_BRA_NM  PD_BUY_AM  PD_BUY_CT  PD_BUY_TO  \n",
       "647279      프레드페리      47600          1      47600  \n",
       "783221      프레드페리      47600          1      47600  \n",
       "844514      닥스 키즈      48300          1      48300  \n",
       "1667666     닥스 키즈      71200          1      71200  \n",
       "2290388     닥스 키즈      90300          1      90300  \n",
       "3924326   게스(VIP)      23800          1      23800  \n",
       "4310534       나이키      29000          1      29000  "
      ]
     },
     "execution_count": 14,
     "metadata": {},
     "output_type": "execute_result"
    }
   ],
   "source": [
    "product[lambda x : x.SESS_ID == 6526651]"
   ]
  },
  {
   "cell_type": "code",
   "execution_count": 16,
   "metadata": {},
   "outputs": [
    {
     "data": {
      "text/html": [
       "<div>\n",
       "<style>\n",
       "    .dataframe thead tr:only-child th {\n",
       "        text-align: right;\n",
       "    }\n",
       "\n",
       "    .dataframe thead th {\n",
       "        text-align: left;\n",
       "    }\n",
       "\n",
       "    .dataframe tbody tr th {\n",
       "        vertical-align: top;\n",
       "    }\n",
       "</style>\n",
       "<table border=\"1\" class=\"dataframe\">\n",
       "  <thead>\n",
       "    <tr style=\"text-align: right;\">\n",
       "      <th></th>\n",
       "      <th>CLNT_ID</th>\n",
       "      <th>SESS_ID</th>\n",
       "      <th>SESS_SEQ</th>\n",
       "      <th>SESS_DT</th>\n",
       "      <th>TOT_PAG_VIEW_CT</th>\n",
       "      <th>TOT_SESS_HR_V</th>\n",
       "      <th>DVC_CTG_NM</th>\n",
       "      <th>ZON_NM</th>\n",
       "      <th>CITY_NM</th>\n",
       "      <th>MONTH</th>\n",
       "      <th>DAY</th>\n",
       "    </tr>\n",
       "  </thead>\n",
       "  <tbody>\n",
       "    <tr>\n",
       "      <th>1464501</th>\n",
       "      <td>4140076</td>\n",
       "      <td>6526651</td>\n",
       "      <td>272</td>\n",
       "      <td>20180613</td>\n",
       "      <td>192.0</td>\n",
       "      <td>2147.0</td>\n",
       "      <td>mobile</td>\n",
       "      <td>Seoul</td>\n",
       "      <td>Seoul</td>\n",
       "      <td>06</td>\n",
       "      <td>13</td>\n",
       "    </tr>\n",
       "  </tbody>\n",
       "</table>\n",
       "</div>"
      ],
      "text/plain": [
       "         CLNT_ID  SESS_ID  SESS_SEQ   SESS_DT  TOT_PAG_VIEW_CT  TOT_SESS_HR_V  \\\n",
       "1464501  4140076  6526651       272  20180613            192.0         2147.0   \n",
       "\n",
       "        DVC_CTG_NM ZON_NM CITY_NM MONTH DAY  \n",
       "1464501     mobile  Seoul   Seoul    06  13  "
      ]
     },
     "execution_count": 16,
     "metadata": {},
     "output_type": "execute_result"
    }
   ],
   "source": [
    "session[lambda x : x.SESS_ID == 6526651]"
   ]
  },
  {
   "cell_type": "code",
   "execution_count": 7,
   "metadata": {},
   "outputs": [
    {
     "name": "stdout",
     "output_type": "stream",
     "text": [
      "all: 5024906\n",
      "CLNT_ID: 922737\n",
      "SESS_ID: 2425886\n"
     ]
    }
   ],
   "source": [
    "print('all:',len(product))\n",
    "print('CLNT_ID:',len(product.CLNT_ID.unique()))\n",
    "print('SESS_ID:',len(product.SESS_ID.unique()))"
   ]
  },
  {
   "cell_type": "markdown",
   "metadata": {},
   "source": [
    "### search"
   ]
  },
  {
   "cell_type": "code",
   "execution_count": 31,
   "metadata": {},
   "outputs": [
    {
     "name": "stdout",
     "output_type": "stream",
     "text": [
      "search1 : 2884943\n",
      "CLNT_ID: 511477\n",
      "SESS_ID: 1160589\n",
      "search2 : 8051172\n"
     ]
    }
   ],
   "source": [
    "print('search1 :', len(search1))\n",
    "print('CLNT_ID:',len(search1.CLNT_ID.unique()))\n",
    "print('SESS_ID:',len(search1.SESS_ID.unique()))\n",
    "print('search2 :', len(search2))"
   ]
  },
  {
   "cell_type": "code",
   "execution_count": 28,
   "metadata": {},
   "outputs": [
    {
     "data": {
      "text/html": [
       "<div>\n",
       "<style>\n",
       "    .dataframe thead tr:only-child th {\n",
       "        text-align: right;\n",
       "    }\n",
       "\n",
       "    .dataframe thead th {\n",
       "        text-align: left;\n",
       "    }\n",
       "\n",
       "    .dataframe tbody tr th {\n",
       "        vertical-align: top;\n",
       "    }\n",
       "</style>\n",
       "<table border=\"1\" class=\"dataframe\">\n",
       "  <thead>\n",
       "    <tr style=\"text-align: right;\">\n",
       "      <th></th>\n",
       "      <th>CLNT_ID</th>\n",
       "      <th>SESS_ID</th>\n",
       "      <th>KWD_NM</th>\n",
       "      <th>SEARCH_CNT</th>\n",
       "    </tr>\n",
       "  </thead>\n",
       "  <tbody>\n",
       "    <tr>\n",
       "      <th>0</th>\n",
       "      <td>5607714</td>\n",
       "      <td>7112876</td>\n",
       "      <td>빌리프 아이크림</td>\n",
       "      <td>6</td>\n",
       "    </tr>\n",
       "    <tr>\n",
       "      <th>1</th>\n",
       "      <td>5607714</td>\n",
       "      <td>4090791</td>\n",
       "      <td>프리메라 마스크팩</td>\n",
       "      <td>3</td>\n",
       "    </tr>\n",
       "    <tr>\n",
       "      <th>2</th>\n",
       "      <td>5607714</td>\n",
       "      <td>4090791</td>\n",
       "      <td>여성청결제</td>\n",
       "      <td>1</td>\n",
       "    </tr>\n",
       "    <tr>\n",
       "      <th>3</th>\n",
       "      <td>5612428</td>\n",
       "      <td>1876482</td>\n",
       "      <td>명품가방</td>\n",
       "      <td>1</td>\n",
       "    </tr>\n",
       "    <tr>\n",
       "      <th>4</th>\n",
       "      <td>5612428</td>\n",
       "      <td>658123</td>\n",
       "      <td>콩순이 아이스크림</td>\n",
       "      <td>1</td>\n",
       "    </tr>\n",
       "  </tbody>\n",
       "</table>\n",
       "</div>"
      ],
      "text/plain": [
       "   CLNT_ID  SESS_ID     KWD_NM  SEARCH_CNT\n",
       "0  5607714  7112876   빌리프 아이크림           6\n",
       "1  5607714  4090791  프리메라 마스크팩           3\n",
       "2  5607714  4090791      여성청결제           1\n",
       "3  5612428  1876482       명품가방           1\n",
       "4  5612428   658123  콩순이 아이스크림           1"
      ]
     },
     "execution_count": 28,
     "metadata": {},
     "output_type": "execute_result"
    }
   ],
   "source": [
    "search1.head()"
   ]
  },
  {
   "cell_type": "code",
   "execution_count": 6,
   "metadata": {},
   "outputs": [
    {
     "data": {
      "text/html": [
       "<div>\n",
       "<style>\n",
       "    .dataframe thead tr:only-child th {\n",
       "        text-align: right;\n",
       "    }\n",
       "\n",
       "    .dataframe thead th {\n",
       "        text-align: left;\n",
       "    }\n",
       "\n",
       "    .dataframe tbody tr th {\n",
       "        vertical-align: top;\n",
       "    }\n",
       "</style>\n",
       "<table border=\"1\" class=\"dataframe\">\n",
       "  <thead>\n",
       "    <tr style=\"text-align: right;\">\n",
       "      <th></th>\n",
       "      <th>SESS_DT</th>\n",
       "      <th>KWD_NM</th>\n",
       "      <th>SEARCH_CNT</th>\n",
       "    </tr>\n",
       "  </thead>\n",
       "  <tbody>\n",
       "    <tr>\n",
       "      <th>0</th>\n",
       "      <td>20180407</td>\n",
       "      <td>닥스원피스</td>\n",
       "      <td>8</td>\n",
       "    </tr>\n",
       "    <tr>\n",
       "      <th>1</th>\n",
       "      <td>20180407</td>\n",
       "      <td>닥터지 브라이트닝</td>\n",
       "      <td>1</td>\n",
       "    </tr>\n",
       "    <tr>\n",
       "      <th>2</th>\n",
       "      <td>20180407</td>\n",
       "      <td>달팡 인트랄</td>\n",
       "      <td>2</td>\n",
       "    </tr>\n",
       "    <tr>\n",
       "      <th>3</th>\n",
       "      <td>20180407</td>\n",
       "      <td>대상트</td>\n",
       "      <td>1</td>\n",
       "    </tr>\n",
       "    <tr>\n",
       "      <th>4</th>\n",
       "      <td>20180407</td>\n",
       "      <td>더블유닷</td>\n",
       "      <td>6</td>\n",
       "    </tr>\n",
       "  </tbody>\n",
       "</table>\n",
       "</div>"
      ],
      "text/plain": [
       "    SESS_DT     KWD_NM SEARCH_CNT\n",
       "0  20180407      닥스원피스          8\n",
       "1  20180407  닥터지 브라이트닝          1\n",
       "2  20180407     달팡 인트랄          2\n",
       "3  20180407        대상트          1\n",
       "4  20180407       더블유닷          6"
      ]
     },
     "execution_count": 6,
     "metadata": {},
     "output_type": "execute_result"
    }
   ],
   "source": [
    "# 월별 insight , 날짜가 있으므로 해당 날짜의 날씨 등등\n",
    "search2.head()"
   ]
  },
  {
   "cell_type": "code",
   "execution_count": 21,
   "metadata": {},
   "outputs": [
    {
     "data": {
      "text/html": [
       "<div>\n",
       "<style>\n",
       "    .dataframe thead tr:only-child th {\n",
       "        text-align: right;\n",
       "    }\n",
       "\n",
       "    .dataframe thead th {\n",
       "        text-align: left;\n",
       "    }\n",
       "\n",
       "    .dataframe tbody tr th {\n",
       "        vertical-align: top;\n",
       "    }\n",
       "</style>\n",
       "<table border=\"1\" class=\"dataframe\">\n",
       "  <thead>\n",
       "    <tr style=\"text-align: right;\">\n",
       "      <th></th>\n",
       "      <th>SESS_DT</th>\n",
       "      <th>KWD_NM</th>\n",
       "      <th>SEARCH_CNT</th>\n",
       "      <th>month</th>\n",
       "      <th>day</th>\n",
       "    </tr>\n",
       "  </thead>\n",
       "  <tbody>\n",
       "    <tr>\n",
       "      <th>0</th>\n",
       "      <td>20180407</td>\n",
       "      <td>닥스원피스</td>\n",
       "      <td>8</td>\n",
       "      <td>04</td>\n",
       "      <td>07</td>\n",
       "    </tr>\n",
       "    <tr>\n",
       "      <th>1</th>\n",
       "      <td>20180407</td>\n",
       "      <td>닥터지 브라이트닝</td>\n",
       "      <td>1</td>\n",
       "      <td>04</td>\n",
       "      <td>07</td>\n",
       "    </tr>\n",
       "    <tr>\n",
       "      <th>2</th>\n",
       "      <td>20180407</td>\n",
       "      <td>달팡 인트랄</td>\n",
       "      <td>2</td>\n",
       "      <td>04</td>\n",
       "      <td>07</td>\n",
       "    </tr>\n",
       "    <tr>\n",
       "      <th>3</th>\n",
       "      <td>20180407</td>\n",
       "      <td>대상트</td>\n",
       "      <td>1</td>\n",
       "      <td>04</td>\n",
       "      <td>07</td>\n",
       "    </tr>\n",
       "    <tr>\n",
       "      <th>4</th>\n",
       "      <td>20180407</td>\n",
       "      <td>더블유닷</td>\n",
       "      <td>6</td>\n",
       "      <td>04</td>\n",
       "      <td>07</td>\n",
       "    </tr>\n",
       "  </tbody>\n",
       "</table>\n",
       "</div>"
      ],
      "text/plain": [
       "    SESS_DT     KWD_NM SEARCH_CNT month day\n",
       "0  20180407      닥스원피스          8    04  07\n",
       "1  20180407  닥터지 브라이트닝          1    04  07\n",
       "2  20180407     달팡 인트랄          2    04  07\n",
       "3  20180407        대상트          1    04  07\n",
       "4  20180407       더블유닷          6    04  07"
      ]
     },
     "execution_count": 21,
     "metadata": {},
     "output_type": "execute_result"
    }
   ],
   "source": [
    "search2.head()"
   ]
  },
  {
   "cell_type": "markdown",
   "metadata": {},
   "source": [
    "### session"
   ]
  },
  {
   "cell_type": "code",
   "execution_count": 7,
   "metadata": {},
   "outputs": [
    {
     "data": {
      "text/html": [
       "<div>\n",
       "<style>\n",
       "    .dataframe thead tr:only-child th {\n",
       "        text-align: right;\n",
       "    }\n",
       "\n",
       "    .dataframe thead th {\n",
       "        text-align: left;\n",
       "    }\n",
       "\n",
       "    .dataframe tbody tr th {\n",
       "        vertical-align: top;\n",
       "    }\n",
       "</style>\n",
       "<table border=\"1\" class=\"dataframe\">\n",
       "  <thead>\n",
       "    <tr style=\"text-align: right;\">\n",
       "      <th></th>\n",
       "      <th>CLNT_ID</th>\n",
       "      <th>SESS_ID</th>\n",
       "      <th>SESS_SEQ</th>\n",
       "      <th>SESS_DT</th>\n",
       "      <th>TOT_PAG_VIEW_CT</th>\n",
       "      <th>TOT_SESS_HR_V</th>\n",
       "      <th>DVC_CTG_NM</th>\n",
       "      <th>ZON_NM</th>\n",
       "      <th>CITY_NM</th>\n",
       "    </tr>\n",
       "  </thead>\n",
       "  <tbody>\n",
       "    <tr>\n",
       "      <th>0</th>\n",
       "      <td>5873599</td>\n",
       "      <td>8641867</td>\n",
       "      <td>9</td>\n",
       "      <td>20180509</td>\n",
       "      <td>82.0</td>\n",
       "      <td>1,890</td>\n",
       "      <td>mobile</td>\n",
       "      <td>Daejeon</td>\n",
       "      <td>Daejeon</td>\n",
       "    </tr>\n",
       "    <tr>\n",
       "      <th>1</th>\n",
       "      <td>5873599</td>\n",
       "      <td>6616320</td>\n",
       "      <td>21</td>\n",
       "      <td>20180611</td>\n",
       "      <td>105.0</td>\n",
       "      <td>1,604</td>\n",
       "      <td>mobile</td>\n",
       "      <td>Busan</td>\n",
       "      <td>Busan</td>\n",
       "    </tr>\n",
       "    <tr>\n",
       "      <th>2</th>\n",
       "      <td>5873599</td>\n",
       "      <td>5886172</td>\n",
       "      <td>40</td>\n",
       "      <td>20180624</td>\n",
       "      <td>41.0</td>\n",
       "      <td>632</td>\n",
       "      <td>mobile</td>\n",
       "      <td>Daejeon</td>\n",
       "      <td>Daejeon</td>\n",
       "    </tr>\n",
       "    <tr>\n",
       "      <th>3</th>\n",
       "      <td>5873884</td>\n",
       "      <td>1050889</td>\n",
       "      <td>15</td>\n",
       "      <td>20180913</td>\n",
       "      <td>160.0</td>\n",
       "      <td>1,035</td>\n",
       "      <td>mobile</td>\n",
       "      <td>Gyeonggi-do</td>\n",
       "      <td>Anyang</td>\n",
       "    </tr>\n",
       "    <tr>\n",
       "      <th>4</th>\n",
       "      <td>5874461</td>\n",
       "      <td>10298270</td>\n",
       "      <td>5</td>\n",
       "      <td>20180412</td>\n",
       "      <td>13.0</td>\n",
       "      <td>298</td>\n",
       "      <td>mobile</td>\n",
       "      <td>Seoul</td>\n",
       "      <td>Seoul</td>\n",
       "    </tr>\n",
       "  </tbody>\n",
       "</table>\n",
       "</div>"
      ],
      "text/plain": [
       "   CLNT_ID   SESS_ID  SESS_SEQ   SESS_DT  TOT_PAG_VIEW_CT TOT_SESS_HR_V  \\\n",
       "0  5873599   8641867         9  20180509             82.0         1,890   \n",
       "1  5873599   6616320        21  20180611            105.0         1,604   \n",
       "2  5873599   5886172        40  20180624             41.0           632   \n",
       "3  5873884   1050889        15  20180913            160.0         1,035   \n",
       "4  5874461  10298270         5  20180412             13.0           298   \n",
       "\n",
       "  DVC_CTG_NM       ZON_NM  CITY_NM  \n",
       "0     mobile      Daejeon  Daejeon  \n",
       "1     mobile        Busan    Busan  \n",
       "2     mobile      Daejeon  Daejeon  \n",
       "3     mobile  Gyeonggi-do   Anyang  \n",
       "4     mobile        Seoul    Seoul  "
      ]
     },
     "execution_count": 7,
     "metadata": {},
     "output_type": "execute_result"
    }
   ],
   "source": [
    "session.head()"
   ]
  },
  {
   "cell_type": "code",
   "execution_count": 33,
   "metadata": {},
   "outputs": [
    {
     "data": {
      "text/html": [
       "<div>\n",
       "<style>\n",
       "    .dataframe thead tr:only-child th {\n",
       "        text-align: right;\n",
       "    }\n",
       "\n",
       "    .dataframe thead th {\n",
       "        text-align: left;\n",
       "    }\n",
       "\n",
       "    .dataframe tbody tr th {\n",
       "        vertical-align: top;\n",
       "    }\n",
       "</style>\n",
       "<table border=\"1\" class=\"dataframe\">\n",
       "  <thead>\n",
       "    <tr style=\"text-align: right;\">\n",
       "      <th></th>\n",
       "      <th>CLNT_ID</th>\n",
       "      <th>SESS_ID</th>\n",
       "      <th>HITS_SEQ</th>\n",
       "      <th>PD_C</th>\n",
       "      <th>PD_ADD_NM</th>\n",
       "      <th>PD_BRA_NM</th>\n",
       "      <th>PD_BUY_AM</th>\n",
       "      <th>PD_BUY_CT</th>\n",
       "    </tr>\n",
       "  </thead>\n",
       "  <tbody>\n",
       "    <tr>\n",
       "      <th>2172341</th>\n",
       "      <td>5873599</td>\n",
       "      <td>6616320</td>\n",
       "      <td>104</td>\n",
       "      <td>659005</td>\n",
       "      <td>색상:2호 / 1개</td>\n",
       "      <td>조르지오 아르마니</td>\n",
       "      <td>89,000</td>\n",
       "      <td>1</td>\n",
       "    </tr>\n",
       "    <tr>\n",
       "      <th>3718322</th>\n",
       "      <td>5873599</td>\n",
       "      <td>8641867</td>\n",
       "      <td>65</td>\n",
       "      <td>370753</td>\n",
       "      <td>색상:선택(04) 기본체크 4번 세트 / 1개</td>\n",
       "      <td>닥스(손수건)</td>\n",
       "      <td>20,000</td>\n",
       "      <td>1</td>\n",
       "    </tr>\n",
       "    <tr>\n",
       "      <th>3729781</th>\n",
       "      <td>5873599</td>\n",
       "      <td>8641867</td>\n",
       "      <td>65</td>\n",
       "      <td>370753</td>\n",
       "      <td>색상:선택(09) 81번 세트 / 1개</td>\n",
       "      <td>닥스(손수건)</td>\n",
       "      <td>20,000</td>\n",
       "      <td>1</td>\n",
       "    </tr>\n",
       "    <tr>\n",
       "      <th>3736859</th>\n",
       "      <td>5873599</td>\n",
       "      <td>8641867</td>\n",
       "      <td>65</td>\n",
       "      <td>370753</td>\n",
       "      <td>색상:선택(10) 82번 세트 / 1개</td>\n",
       "      <td>닥스(손수건)</td>\n",
       "      <td>20,000</td>\n",
       "      <td>1</td>\n",
       "    </tr>\n",
       "    <tr>\n",
       "      <th>4661967</th>\n",
       "      <td>5873599</td>\n",
       "      <td>5886172</td>\n",
       "      <td>40</td>\n",
       "      <td>809194</td>\n",
       "      <td>색상:리질리언트 루즈 / 1개</td>\n",
       "      <td>맥</td>\n",
       "      <td>34,000</td>\n",
       "      <td>1</td>\n",
       "    </tr>\n",
       "  </tbody>\n",
       "</table>\n",
       "</div>"
      ],
      "text/plain": [
       "         CLNT_ID  SESS_ID  HITS_SEQ    PD_C                  PD_ADD_NM  \\\n",
       "2172341  5873599  6616320       104  659005                 색상:2호 / 1개   \n",
       "3718322  5873599  8641867        65  370753  색상:선택(04) 기본체크 4번 세트 / 1개   \n",
       "3729781  5873599  8641867        65  370753      색상:선택(09) 81번 세트 / 1개   \n",
       "3736859  5873599  8641867        65  370753      색상:선택(10) 82번 세트 / 1개   \n",
       "4661967  5873599  5886172        40  809194           색상:리질리언트 루즈 / 1개   \n",
       "\n",
       "         PD_BRA_NM PD_BUY_AM PD_BUY_CT  \n",
       "2172341  조르지오 아르마니    89,000         1  \n",
       "3718322    닥스(손수건)    20,000         1  \n",
       "3729781    닥스(손수건)    20,000         1  \n",
       "3736859    닥스(손수건)    20,000         1  \n",
       "4661967          맥    34,000         1  "
      ]
     },
     "execution_count": 33,
     "metadata": {},
     "output_type": "execute_result"
    }
   ],
   "source": [
    "product[lambda x : x.CLNT_ID == 5873599]"
   ]
  },
  {
   "cell_type": "code",
   "execution_count": 34,
   "metadata": {},
   "outputs": [
    {
     "data": {
      "text/html": [
       "<div>\n",
       "<style>\n",
       "    .dataframe thead tr:only-child th {\n",
       "        text-align: right;\n",
       "    }\n",
       "\n",
       "    .dataframe thead th {\n",
       "        text-align: left;\n",
       "    }\n",
       "\n",
       "    .dataframe tbody tr th {\n",
       "        vertical-align: top;\n",
       "    }\n",
       "</style>\n",
       "<table border=\"1\" class=\"dataframe\">\n",
       "  <thead>\n",
       "    <tr style=\"text-align: right;\">\n",
       "      <th></th>\n",
       "      <th>CLNT_ID</th>\n",
       "      <th>SESS_ID</th>\n",
       "      <th>SESS_SEQ</th>\n",
       "      <th>SESS_DT</th>\n",
       "      <th>TOT_PAG_VIEW_CT</th>\n",
       "      <th>TOT_SESS_HR_V</th>\n",
       "      <th>DVC_CTG_NM</th>\n",
       "      <th>ZON_NM</th>\n",
       "      <th>CITY_NM</th>\n",
       "    </tr>\n",
       "  </thead>\n",
       "  <tbody>\n",
       "    <tr>\n",
       "      <th>0</th>\n",
       "      <td>5873599</td>\n",
       "      <td>8641867</td>\n",
       "      <td>9</td>\n",
       "      <td>20180509</td>\n",
       "      <td>82.0</td>\n",
       "      <td>1,890</td>\n",
       "      <td>mobile</td>\n",
       "      <td>Daejeon</td>\n",
       "      <td>Daejeon</td>\n",
       "    </tr>\n",
       "    <tr>\n",
       "      <th>1</th>\n",
       "      <td>5873599</td>\n",
       "      <td>6616320</td>\n",
       "      <td>21</td>\n",
       "      <td>20180611</td>\n",
       "      <td>105.0</td>\n",
       "      <td>1,604</td>\n",
       "      <td>mobile</td>\n",
       "      <td>Busan</td>\n",
       "      <td>Busan</td>\n",
       "    </tr>\n",
       "    <tr>\n",
       "      <th>2</th>\n",
       "      <td>5873599</td>\n",
       "      <td>5886172</td>\n",
       "      <td>40</td>\n",
       "      <td>20180624</td>\n",
       "      <td>41.0</td>\n",
       "      <td>632</td>\n",
       "      <td>mobile</td>\n",
       "      <td>Daejeon</td>\n",
       "      <td>Daejeon</td>\n",
       "    </tr>\n",
       "  </tbody>\n",
       "</table>\n",
       "</div>"
      ],
      "text/plain": [
       "   CLNT_ID  SESS_ID  SESS_SEQ   SESS_DT  TOT_PAG_VIEW_CT TOT_SESS_HR_V  \\\n",
       "0  5873599  8641867         9  20180509             82.0         1,890   \n",
       "1  5873599  6616320        21  20180611            105.0         1,604   \n",
       "2  5873599  5886172        40  20180624             41.0           632   \n",
       "\n",
       "  DVC_CTG_NM   ZON_NM  CITY_NM  \n",
       "0     mobile  Daejeon  Daejeon  \n",
       "1     mobile    Busan    Busan  \n",
       "2     mobile  Daejeon  Daejeon  "
      ]
     },
     "execution_count": 34,
     "metadata": {},
     "output_type": "execute_result"
    }
   ],
   "source": [
    "session[lambda x : x.CLNT_ID == 5873599]"
   ]
  },
  {
   "cell_type": "code",
   "execution_count": 30,
   "metadata": {},
   "outputs": [
    {
     "name": "stdout",
     "output_type": "stream",
     "text": [
      "all: 2712907\n",
      "CLNT_ID: 922737\n",
      "SESS_ID: 2425886\n"
     ]
    }
   ],
   "source": [
    "print('all:',len(session))\n",
    "print('CLNT_ID:',len(session.CLNT_ID.unique()))\n",
    "print('SESS_ID:',len(session.SESS_ID.unique()))"
   ]
  },
  {
   "cell_type": "markdown",
   "metadata": {},
   "source": [
    "### custom"
   ]
  },
  {
   "cell_type": "code",
   "execution_count": 32,
   "metadata": {},
   "outputs": [
    {
     "name": "stdout",
     "output_type": "stream",
     "text": [
      "all: 671679\n",
      "CLNT_ID: 671679\n"
     ]
    }
   ],
   "source": [
    "print('all:',len(custom))\n",
    "print('CLNT_ID:',len(custom.CLNT_ID.unique()))"
   ]
  },
  {
   "cell_type": "code",
   "execution_count": 9,
   "metadata": {},
   "outputs": [
    {
     "data": {
      "text/html": [
       "<div>\n",
       "<style>\n",
       "    .dataframe thead tr:only-child th {\n",
       "        text-align: right;\n",
       "    }\n",
       "\n",
       "    .dataframe thead th {\n",
       "        text-align: left;\n",
       "    }\n",
       "\n",
       "    .dataframe tbody tr th {\n",
       "        vertical-align: top;\n",
       "    }\n",
       "</style>\n",
       "<table border=\"1\" class=\"dataframe\">\n",
       "  <thead>\n",
       "    <tr style=\"text-align: right;\">\n",
       "      <th></th>\n",
       "      <th>CLNT_ID</th>\n",
       "      <th>CLNT_GENDER</th>\n",
       "      <th>CLNT_AGE</th>\n",
       "    </tr>\n",
       "  </thead>\n",
       "  <tbody>\n",
       "    <tr>\n",
       "      <th>0</th>\n",
       "      <td>4830726</td>\n",
       "      <td>F</td>\n",
       "      <td>30</td>\n",
       "    </tr>\n",
       "    <tr>\n",
       "      <th>1</th>\n",
       "      <td>4830874</td>\n",
       "      <td>F</td>\n",
       "      <td>40</td>\n",
       "    </tr>\n",
       "    <tr>\n",
       "      <th>2</th>\n",
       "      <td>4830975</td>\n",
       "      <td>F</td>\n",
       "      <td>30</td>\n",
       "    </tr>\n",
       "    <tr>\n",
       "      <th>3</th>\n",
       "      <td>4831275</td>\n",
       "      <td>F</td>\n",
       "      <td>30</td>\n",
       "    </tr>\n",
       "    <tr>\n",
       "      <th>4</th>\n",
       "      <td>4825325</td>\n",
       "      <td>F</td>\n",
       "      <td>30</td>\n",
       "    </tr>\n",
       "  </tbody>\n",
       "</table>\n",
       "</div>"
      ],
      "text/plain": [
       "   CLNT_ID CLNT_GENDER  CLNT_AGE\n",
       "0  4830726           F        30\n",
       "1  4830874           F        40\n",
       "2  4830975           F        30\n",
       "3  4831275           F        30\n",
       "4  4825325           F        30"
      ]
     },
     "execution_count": 9,
     "metadata": {},
     "output_type": "execute_result"
    }
   ],
   "source": [
    "custom.head()"
   ]
  },
  {
   "cell_type": "markdown",
   "metadata": {},
   "source": [
    "### master"
   ]
  },
  {
   "cell_type": "code",
   "execution_count": 8,
   "metadata": {},
   "outputs": [
    {
     "data": {
      "text/html": [
       "<div>\n",
       "<style>\n",
       "    .dataframe thead tr:only-child th {\n",
       "        text-align: right;\n",
       "    }\n",
       "\n",
       "    .dataframe thead th {\n",
       "        text-align: left;\n",
       "    }\n",
       "\n",
       "    .dataframe tbody tr th {\n",
       "        vertical-align: top;\n",
       "    }\n",
       "</style>\n",
       "<table border=\"1\" class=\"dataframe\">\n",
       "  <thead>\n",
       "    <tr style=\"text-align: right;\">\n",
       "      <th></th>\n",
       "      <th>PD_C</th>\n",
       "      <th>PD_NM</th>\n",
       "      <th>CLAC1_NM</th>\n",
       "      <th>CLAC2_NM</th>\n",
       "      <th>CLAC3_NM</th>\n",
       "    </tr>\n",
       "  </thead>\n",
       "  <tbody>\n",
       "    <tr>\n",
       "      <th>0</th>\n",
       "      <td>64382</td>\n",
       "      <td>언더아머 남성 UA HG 아머 모크 LS 1289559-001 - 블랙 / MD[95]</td>\n",
       "      <td>스포츠패션</td>\n",
       "      <td>남성일반스포츠의류</td>\n",
       "      <td>남성스포츠티셔츠</td>\n",
       "    </tr>\n",
       "    <tr>\n",
       "      <th>1</th>\n",
       "      <td>62282</td>\n",
       "      <td>여자 플라워덧신 2족선물세트 17403-2set</td>\n",
       "      <td>속옷/양말/홈웨어</td>\n",
       "      <td>여성양말류</td>\n",
       "      <td>여성일반양말</td>\n",
       "    </tr>\n",
       "    <tr>\n",
       "      <th>2</th>\n",
       "      <td>61729</td>\n",
       "      <td>88A2933253배트맨스웨트티 - 블랙 / 130</td>\n",
       "      <td>유아동의류</td>\n",
       "      <td>유아의류상의</td>\n",
       "      <td>영유아티셔츠/탑</td>\n",
       "    </tr>\n",
       "    <tr>\n",
       "      <th>3</th>\n",
       "      <td>61537</td>\n",
       "      <td>닥터마틴 아드리안 블랙, 체리레드 - 02_체리레드 / 250mm(6)</td>\n",
       "      <td>패션잡화</td>\n",
       "      <td>남성화</td>\n",
       "      <td>남성부츠</td>\n",
       "    </tr>\n",
       "    <tr>\n",
       "      <th>4</th>\n",
       "      <td>58820</td>\n",
       "      <td>여성 그레이 스트라이프 퍼프 소매 블라우스 (128865YQ33) - 회색(앤틱실버...</td>\n",
       "      <td>남성의류</td>\n",
       "      <td>남성의류상의</td>\n",
       "      <td>남성남방셔츠</td>\n",
       "    </tr>\n",
       "  </tbody>\n",
       "</table>\n",
       "</div>"
      ],
      "text/plain": [
       "    PD_C                                              PD_NM   CLAC1_NM  \\\n",
       "0  64382   언더아머 남성 UA HG 아머 모크 LS 1289559-001 - 블랙 / MD[95]      스포츠패션   \n",
       "1  62282                         여자 플라워덧신 2족선물세트 17403-2set  속옷/양말/홈웨어   \n",
       "2  61729                       88A2933253배트맨스웨트티 - 블랙 / 130      유아동의류   \n",
       "3  61537            닥터마틴 아드리안 블랙, 체리레드 - 02_체리레드 / 250mm(6)       패션잡화   \n",
       "4  58820  여성 그레이 스트라이프 퍼프 소매 블라우스 (128865YQ33) - 회색(앤틱실버...       남성의류   \n",
       "\n",
       "    CLAC2_NM  CLAC3_NM  \n",
       "0  남성일반스포츠의류  남성스포츠티셔츠  \n",
       "1      여성양말류    여성일반양말  \n",
       "2     유아의류상의  영유아티셔츠/탑  \n",
       "3        남성화      남성부츠  \n",
       "4     남성의류상의    남성남방셔츠  "
      ]
     },
     "execution_count": 8,
     "metadata": {},
     "output_type": "execute_result"
    }
   ],
   "source": [
    "master.head()"
   ]
  },
  {
   "cell_type": "markdown",
   "metadata": {},
   "source": [
    "## 1-2 . 데이터 전처리"
   ]
  },
  {
   "cell_type": "code",
   "execution_count": 3,
   "metadata": {
    "collapsed": true
   },
   "outputs": [],
   "source": [
    "# product 이상치 제거\n",
    "product = product[lambda x : x.HITS_SEQ != 1]"
   ]
  },
  {
   "cell_type": "code",
   "execution_count": 4,
   "metadata": {
    "collapsed": true
   },
   "outputs": [],
   "source": [
    "# 똑같은 row 지우기\n",
    "product.drop_duplicates(inplace = True)\n",
    "session.drop_duplicates(inplace = True)\n",
    "search1.drop_duplicates(inplace = True)\n",
    "search2.drop_duplicates(inplace = True)\n",
    "master.drop_duplicates(inplace = True)\n",
    "custom.drop_duplicates(inplace = True)"
   ]
  },
  {
   "cell_type": "code",
   "execution_count": 5,
   "metadata": {
    "collapsed": true
   },
   "outputs": [],
   "source": [
    "# str을 int로 !\n",
    "def str_to_int(x):\n",
    "    if type(x) == str:\n",
    "        return int(''.join(x.split(',')))\n",
    "    else: return x\n",
    "\n",
    "product['PD_BUY_AM'] = product.PD_BUY_AM.map(str_to_int)\n",
    "session['TOT_SESS_HR_V'] = session.TOT_SESS_HR_V.map(str_to_int)"
   ]
  },
  {
   "cell_type": "code",
   "execution_count": 6,
   "metadata": {
    "collapsed": true
   },
   "outputs": [],
   "source": [
    "# search2 컬럼 추가\n",
    "def month(x):\n",
    "    return str(x)[4:6]\n",
    "def day(x):\n",
    "    return str(x)[6:]\n",
    "\n",
    "search2['MONTH'] = search2.SESS_DT.map(month)\n",
    "search2['DAY'] = search2.SESS_DT.map(day)\n",
    "\n",
    "session['MONTH'] = session.SESS_DT.map(month)\n",
    "session['DAY'] = session.SESS_DT.map(day)"
   ]
  },
  {
   "cell_type": "code",
   "execution_count": 104,
   "metadata": {},
   "outputs": [
    {
     "data": {
      "text/plain": [
       "CLNT_ID            0.000000\n",
       "SESS_ID            0.000000\n",
       "SESS_SEQ           0.000000\n",
       "SESS_DT            0.000000\n",
       "TOT_PAG_VIEW_CT    0.010100\n",
       "TOT_SESS_HR_V      0.523497\n",
       "DVC_CTG_NM         0.000000\n",
       "ZON_NM             0.000000\n",
       "CITY_NM            0.000000\n",
       "MONTH              0.000000\n",
       "DAY                0.000000\n",
       "dtype: float64"
      ]
     },
     "execution_count": 104,
     "metadata": {},
     "output_type": "execute_result"
    }
   ],
   "source": [
    "# na 값\n",
    "session.isnull().sum() / len(session) *100\n",
    "# 이정도면 dropna 해도 될듯\n",
    "# 아니면 모델로 예측 or 평균 대입"
   ]
  },
  {
   "cell_type": "markdown",
   "metadata": {},
   "source": [
    "## 1-3. 데이터 탐색"
   ]
  },
  {
   "cell_type": "code",
   "execution_count": 44,
   "metadata": {},
   "outputs": [
    {
     "data": {
      "text/html": [
       "<div>\n",
       "<style>\n",
       "    .dataframe thead tr:only-child th {\n",
       "        text-align: right;\n",
       "    }\n",
       "\n",
       "    .dataframe thead th {\n",
       "        text-align: left;\n",
       "    }\n",
       "\n",
       "    .dataframe tbody tr th {\n",
       "        vertical-align: top;\n",
       "    }\n",
       "</style>\n",
       "<table border=\"1\" class=\"dataframe\">\n",
       "  <thead>\n",
       "    <tr style=\"text-align: right;\">\n",
       "      <th></th>\n",
       "      <th>CLNT_ID</th>\n",
       "      <th>SESS_ID</th>\n",
       "      <th>HITS_SEQ</th>\n",
       "      <th>PD_C</th>\n",
       "      <th>PD_ADD_NM</th>\n",
       "      <th>PD_BRA_NM</th>\n",
       "      <th>PD_BUY_AM</th>\n",
       "      <th>PD_BUY_CT</th>\n",
       "    </tr>\n",
       "  </thead>\n",
       "  <tbody>\n",
       "    <tr>\n",
       "      <th>0</th>\n",
       "      <td>4139680</td>\n",
       "      <td>7605037</td>\n",
       "      <td>12</td>\n",
       "      <td>642112</td>\n",
       "      <td>색상:워터멜론</td>\n",
       "      <td>[바비브라운]</td>\n",
       "      <td>39000</td>\n",
       "      <td>1</td>\n",
       "    </tr>\n",
       "    <tr>\n",
       "      <th>1</th>\n",
       "      <td>4140076</td>\n",
       "      <td>10189797</td>\n",
       "      <td>13</td>\n",
       "      <td>570603</td>\n",
       "      <td>색상:BLK0_(BLK0)BLACK|사이즈:120 / 2개</td>\n",
       "      <td>데상트</td>\n",
       "      <td>39000</td>\n",
       "      <td>2</td>\n",
       "    </tr>\n",
       "    <tr>\n",
       "      <th>2</th>\n",
       "      <td>4142395</td>\n",
       "      <td>6158159</td>\n",
       "      <td>85</td>\n",
       "      <td>179538</td>\n",
       "      <td>(not set)</td>\n",
       "      <td>[아베다]</td>\n",
       "      <td>39000</td>\n",
       "      <td>1</td>\n",
       "    </tr>\n",
       "    <tr>\n",
       "      <th>3</th>\n",
       "      <td>4144914</td>\n",
       "      <td>7935714</td>\n",
       "      <td>12</td>\n",
       "      <td>554336</td>\n",
       "      <td>색상:블랙|사이즈:160cm(12~13세) / 1개</td>\n",
       "      <td>아디다스 키즈</td>\n",
       "      <td>39000</td>\n",
       "      <td>1</td>\n",
       "    </tr>\n",
       "    <tr>\n",
       "      <th>4</th>\n",
       "      <td>4144917</td>\n",
       "      <td>6406509</td>\n",
       "      <td>78</td>\n",
       "      <td>190306</td>\n",
       "      <td>5개</td>\n",
       "      <td>데코르테</td>\n",
       "      <td>39000</td>\n",
       "      <td>5</td>\n",
       "    </tr>\n",
       "  </tbody>\n",
       "</table>\n",
       "</div>"
      ],
      "text/plain": [
       "   CLNT_ID   SESS_ID  HITS_SEQ    PD_C                         PD_ADD_NM  \\\n",
       "0  4139680   7605037        12  642112                           색상:워터멜론   \n",
       "1  4140076  10189797        13  570603  색상:BLK0_(BLK0)BLACK|사이즈:120 / 2개   \n",
       "2  4142395   6158159        85  179538                         (not set)   \n",
       "3  4144914   7935714        12  554336      색상:블랙|사이즈:160cm(12~13세) / 1개   \n",
       "4  4144917   6406509        78  190306                                5개   \n",
       "\n",
       "  PD_BRA_NM  PD_BUY_AM PD_BUY_CT  \n",
       "0   [바비브라운]      39000         1  \n",
       "1       데상트      39000         2  \n",
       "2     [아베다]      39000         1  \n",
       "3   아디다스 키즈      39000         1  \n",
       "4      데코르테      39000         5  "
      ]
     },
     "execution_count": 44,
     "metadata": {},
     "output_type": "execute_result"
    }
   ],
   "source": [
    "product.head()"
   ]
  },
  {
   "cell_type": "code",
   "execution_count": 76,
   "metadata": {},
   "outputs": [
    {
     "data": {
      "image/png": "[encoded data removed]",
      "text/plain": [
       "<matplotlib.figure.Figure at 0x1fd8c88f400>"
      ]
     },
     "metadata": {},
     "output_type": "display_data"
    }
   ],
   "source": [
    "plt.figure(figsize = (12,6))\n",
    "plt.subplot(121)\n",
    "product.HITS_SEQ.hist()\n",
    "plt.subplot(122)\n",
    "plt.boxplot(product.HITS_SEQ)\n",
    "plt.show()"
   ]
  },
  {
   "cell_type": "code",
   "execution_count": 7,
   "metadata": {
    "collapsed": true
   },
   "outputs": [],
   "source": [
    "# total 소비가격 생성\n",
    "product.PD_BUY_CT = product.PD_BUY_CT.map(str_to_int)\n",
    "product['PD_BUY_TO'] = product.PD_BUY_CT * product.PD_BUY_AM"
   ]
  },
  {
   "cell_type": "code",
   "execution_count": 75,
   "metadata": {},
   "outputs": [
    {
     "data": {
      "image/png": "[encoded data removed]",
      "text/plain": [
       "<matplotlib.figure.Figure at 0x1fd8c7dc630>"
      ]
     },
     "metadata": {},
     "output_type": "display_data"
    }
   ],
   "source": [
    "plt.figure(figsize = (12,6))\n",
    "plt.subplot(121)\n",
    "product.PD_BUY_TO.hist()\n",
    "plt.subplot(122)\n",
    "plt.boxplot(product.PD_BUY_TO)\n",
    "plt.show()"
   ]
  },
  {
   "cell_type": "code",
   "execution_count": 8,
   "metadata": {},
   "outputs": [
    {
     "data": {
      "text/html": [
       "<div>\n",
       "<style>\n",
       "    .dataframe thead tr:only-child th {\n",
       "        text-align: right;\n",
       "    }\n",
       "\n",
       "    .dataframe thead th {\n",
       "        text-align: left;\n",
       "    }\n",
       "\n",
       "    .dataframe tbody tr th {\n",
       "        vertical-align: top;\n",
       "    }\n",
       "</style>\n",
       "<table border=\"1\" class=\"dataframe\">\n",
       "  <thead>\n",
       "    <tr style=\"text-align: right;\">\n",
       "      <th></th>\n",
       "      <th>CLNT_ID</th>\n",
       "      <th>SESS_ID</th>\n",
       "      <th>SESS_SEQ</th>\n",
       "      <th>SESS_DT</th>\n",
       "      <th>TOT_PAG_VIEW_CT</th>\n",
       "      <th>TOT_SESS_HR_V</th>\n",
       "      <th>DVC_CTG_NM</th>\n",
       "      <th>ZON_NM</th>\n",
       "      <th>CITY_NM</th>\n",
       "      <th>MONTH</th>\n",
       "      <th>DAY</th>\n",
       "    </tr>\n",
       "  </thead>\n",
       "  <tbody>\n",
       "    <tr>\n",
       "      <th>0</th>\n",
       "      <td>5873599</td>\n",
       "      <td>8641867</td>\n",
       "      <td>9</td>\n",
       "      <td>20180509</td>\n",
       "      <td>82.0</td>\n",
       "      <td>1890.0</td>\n",
       "      <td>mobile</td>\n",
       "      <td>Daejeon</td>\n",
       "      <td>Daejeon</td>\n",
       "      <td>05</td>\n",
       "      <td>09</td>\n",
       "    </tr>\n",
       "    <tr>\n",
       "      <th>1</th>\n",
       "      <td>5873599</td>\n",
       "      <td>6616320</td>\n",
       "      <td>21</td>\n",
       "      <td>20180611</td>\n",
       "      <td>105.0</td>\n",
       "      <td>1604.0</td>\n",
       "      <td>mobile</td>\n",
       "      <td>Busan</td>\n",
       "      <td>Busan</td>\n",
       "      <td>06</td>\n",
       "      <td>11</td>\n",
       "    </tr>\n",
       "    <tr>\n",
       "      <th>2</th>\n",
       "      <td>5873599</td>\n",
       "      <td>5886172</td>\n",
       "      <td>40</td>\n",
       "      <td>20180624</td>\n",
       "      <td>41.0</td>\n",
       "      <td>632.0</td>\n",
       "      <td>mobile</td>\n",
       "      <td>Daejeon</td>\n",
       "      <td>Daejeon</td>\n",
       "      <td>06</td>\n",
       "      <td>24</td>\n",
       "    </tr>\n",
       "    <tr>\n",
       "      <th>3</th>\n",
       "      <td>5873884</td>\n",
       "      <td>1050889</td>\n",
       "      <td>15</td>\n",
       "      <td>20180913</td>\n",
       "      <td>160.0</td>\n",
       "      <td>1035.0</td>\n",
       "      <td>mobile</td>\n",
       "      <td>Gyeonggi-do</td>\n",
       "      <td>Anyang</td>\n",
       "      <td>09</td>\n",
       "      <td>13</td>\n",
       "    </tr>\n",
       "    <tr>\n",
       "      <th>4</th>\n",
       "      <td>5874461</td>\n",
       "      <td>10298270</td>\n",
       "      <td>5</td>\n",
       "      <td>20180412</td>\n",
       "      <td>13.0</td>\n",
       "      <td>298.0</td>\n",
       "      <td>mobile</td>\n",
       "      <td>Seoul</td>\n",
       "      <td>Seoul</td>\n",
       "      <td>04</td>\n",
       "      <td>12</td>\n",
       "    </tr>\n",
       "  </tbody>\n",
       "</table>\n",
       "</div>"
      ],
      "text/plain": [
       "   CLNT_ID   SESS_ID  SESS_SEQ   SESS_DT  TOT_PAG_VIEW_CT  TOT_SESS_HR_V  \\\n",
       "0  5873599   8641867         9  20180509             82.0         1890.0   \n",
       "1  5873599   6616320        21  20180611            105.0         1604.0   \n",
       "2  5873599   5886172        40  20180624             41.0          632.0   \n",
       "3  5873884   1050889        15  20180913            160.0         1035.0   \n",
       "4  5874461  10298270         5  20180412             13.0          298.0   \n",
       "\n",
       "  DVC_CTG_NM       ZON_NM  CITY_NM MONTH DAY  \n",
       "0     mobile      Daejeon  Daejeon    05  09  \n",
       "1     mobile        Busan    Busan    06  11  \n",
       "2     mobile      Daejeon  Daejeon    06  24  \n",
       "3     mobile  Gyeonggi-do   Anyang    09  13  \n",
       "4     mobile        Seoul    Seoul    04  12  "
      ]
     },
     "execution_count": 8,
     "metadata": {},
     "output_type": "execute_result"
    }
   ],
   "source": [
    "session.head()"
   ]
  },
  {
   "cell_type": "code",
   "execution_count": 9,
   "metadata": {},
   "outputs": [
    {
     "data": {
      "image/png": "[encoded data removed]",
      "text/plain": [
       "<matplotlib.figure.Figure at 0x17ba88f9ef0>"
      ]
     },
     "metadata": {},
     "output_type": "display_data"
    }
   ],
   "source": [
    "plt.figure(figsize = (12,6))\n",
    "plt.subplot(121)\n",
    "session.groupby('DVC_CTG_NM')['TOT_PAG_VIEW_CT'].mean().plot.bar()\n",
    "plt.subplot(122)\n",
    "session.groupby('DVC_CTG_NM')['TOT_SESS_HR_V'].mean().plot.bar()\n",
    "plt.show()"
   ]
  },
  {
   "cell_type": "code",
   "execution_count": 11,
   "metadata": {},
   "outputs": [
    {
     "data": {
      "image/png": "[encoded data removed]",
      "text/plain": [
       "<matplotlib.figure.Figure at 0x17c1ad41a20>"
      ]
     },
     "metadata": {},
     "output_type": "display_data"
    }
   ],
   "source": [
    "temp = pd.merge(product, session, on = ['CLNT_ID', 'SESS_ID'], how = 'left')\n",
    "plt.figure(figsize = (12,6))\n",
    "plt.subplot(121)\n",
    "temp.groupby('DVC_CTG_NM')['PD_BUY_TO'].mean().plot.bar()\n",
    "plt.subplot(122)\n",
    "temp.groupby('DVC_CTG_NM')['PD_BUY_TO'].mean().plot.bar()\n",
    "plt.show()"
   ]
  },
  {
   "cell_type": "code",
   "execution_count": 14,
   "metadata": {},
   "outputs": [
    {
     "data": {
      "image/png": "[encoded data removed]",
      "text/plain": [
       "<matplotlib.figure.Figure at 0x201f99677b8>"
      ]
     },
     "metadata": {},
     "output_type": "display_data"
    }
   ],
   "source": [
    "plt.figure(figsize = (12,6))\n",
    "plt.subplot(121)\n",
    "session.groupby('ZON_NM')['TOT_PAG_VIEW_CT'].mean().plot.bar()\n",
    "plt.subplot(122)\n",
    "session.groupby('ZON_NM')['TOT_SESS_HR_V'].mean().plot.bar()\n",
    "plt.show()"
   ]
  },
  {
   "cell_type": "code",
   "execution_count": 78,
   "metadata": {},
   "outputs": [
    {
     "data": {
      "image/png": "[encoded data removed]",
      "text/plain": [
       "<matplotlib.figure.Figure at 0x1fd8d6860f0>"
      ]
     },
     "metadata": {},
     "output_type": "display_data"
    }
   ],
   "source": [
    "plt.figure(figsize = (12,6))\n",
    "plt.subplot(121)\n",
    "session.SESS_SEQ.hist()\n",
    "plt.subplot(122)\n",
    "plt.boxplot(session.SESS_SEQ)\n",
    "plt.show()"
   ]
  },
  {
   "cell_type": "code",
   "execution_count": 82,
   "metadata": {},
   "outputs": [
    {
     "data": {
      "image/png": "[encoded data removed]",
      "text/plain": [
       "<matplotlib.figure.Figure at 0x1fd8d912b38>"
      ]
     },
     "metadata": {},
     "output_type": "display_data"
    }
   ],
   "source": [
    "plt.figure(figsize = (12,6))\n",
    "plt.subplot(121)\n",
    "session.TOT_PAG_VIEW_CT.hist()\n",
    "plt.subplot(122)\n",
    "plt.boxplot(session.dropna().TOT_PAG_VIEW_CT)\n",
    "plt.show()"
   ]
  },
  {
   "cell_type": "code",
   "execution_count": 81,
   "metadata": {},
   "outputs": [
    {
     "data": {
      "image/png": "[encoded data removed]",
      "text/plain": [
       "<matplotlib.figure.Figure at 0x1fd8c78b908>"
      ]
     },
     "metadata": {},
     "output_type": "display_data"
    }
   ],
   "source": [
    "plt.figure(figsize = (12,6))\n",
    "plt.subplot(121)\n",
    "session.TOT_SESS_HR_V.hist()\n",
    "plt.subplot(122)\n",
    "plt.boxplot(session.dropna().TOT_SESS_HR_V)\n",
    "plt.show()"
   ]
  },
  {
   "cell_type": "code",
   "execution_count": 85,
   "metadata": {},
   "outputs": [
    {
     "data": {
      "image/png": "[encoded data removed]",
      "text/plain": [
       "<matplotlib.figure.Figure at 0x1fd94f41438>"
      ]
     },
     "metadata": {},
     "output_type": "display_data"
    }
   ],
   "source": [
    "plt.figure(figsize = (12,6))\n",
    "plt.subplot(121)\n",
    "session.DVC_CTG_NM.value_counts().plot.bar()\n",
    "plt.subplot(122)\n",
    "session.ZON_NM.value_counts().plot.bar()\n",
    "plt.show()"
   ]
  },
  {
   "cell_type": "code",
   "execution_count": 90,
   "metadata": {},
   "outputs": [
    {
     "data": {
      "image/png": "[encoded data removed]",
      "text/plain": [
       "<matplotlib.figure.Figure at 0x1fd94ff54a8>"
      ]
     },
     "metadata": {},
     "output_type": "display_data"
    }
   ],
   "source": [
    "plt.figure(figsize = (12,6))\n",
    "plt.subplot(121)\n",
    "custom.CLNT_GENDER.value_counts().plot.bar()\n",
    "plt.subplot(122)\n",
    "custom.CLNT_AGE.value_counts().plot.bar()\n",
    "plt.show()"
   ]
  }
 ],
 "metadata": {
  "kernelspec": {
   "display_name": "Python 3",
   "language": "python",
   "name": "python3"
  },
  "language_info": {
   "codemirror_mode": {
    "name": "ipython",
    "version": 3
   },
   "file_extension": ".py",
   "mimetype": "text/x-python",
   "name": "python",
   "nbconvert_exporter": "python",
   "pygments_lexer": "ipython3",
   "version": "3.6.3"
  }
 },
 "nbformat": 4,
 "nbformat_minor": 2
}
