{
 "cells": [
  {
   "cell_type": "code",
   "execution_count": 8,
   "metadata": {},
   "outputs": [],
   "source": [
    "import pandas as pd\n",
    "import numpy as np\n",
    "import matplotlib.pyplot as plt\n",
    "import seaborn as sns\n",
    "\n",
    "%matplotlib inline \n",
    "%config InlineBackend.figure_format = 'retina' \n",
    "\n",
    "sns.set_style(style='white')\n",
    "sns.set_context(context ='paper')\n",
    "\n",
    "from matplotlib import font_manager, rc\n",
    "font_name = font_manager.FontProperties(fname='C:/Windows/Fonts/malgun.ttf').get_name()\n",
    "rc('font', family=font_name)\n",
    "\n",
    "font_path = 'font/NanumSquareRoundR.ttf'\n",
    "fontprop = font_manager.FontProperties(fname=font_path)\n",
    "\n",
    "pd.set_option('display.max_columns',999)"
   ]
  },
  {
   "cell_type": "code",
   "execution_count": 3,
   "metadata": {},
   "outputs": [
    {
     "name": "stderr",
     "output_type": "stream",
     "text": [
      "C:\\anaconda\\lib\\site-packages\\IPython\\core\\interactiveshell.py:2698: DtypeWarning: Columns (7) have mixed types. Specify dtype option on import or set low_memory=False.\n",
      "  interactivity=interactivity, compiler=compiler, result=result)\n"
     ]
    }
   ],
   "source": [
    "product = pd.read_csv('data/Product.csv')\n",
    "search1 = pd.read_csv('data/Search1.csv')\n",
    "search2 = pd.read_csv('data/Search2.csv')\n",
    "session = pd.read_csv('data/Session.csv')\n",
    "master = pd.read_csv('data/Master.csv')\n",
    "custom = pd.read_csv('data/Custom.csv')"
   ]
  },
  {
   "cell_type": "markdown",
   "metadata": {},
   "source": [
    "# 1. 데이터 전처리, 클렌징"
   ]
  },
  {
   "cell_type": "code",
   "execution_count": 3,
   "metadata": {},
   "outputs": [
    {
     "data": {
      "text/plain": [
       "5024906"
      ]
     },
     "execution_count": 3,
     "metadata": {},
     "output_type": "execute_result"
    }
   ],
   "source": [
    "len(product)"
   ]
  },
  {
   "cell_type": "code",
   "execution_count": 4,
   "metadata": {
    "collapsed": true
   },
   "outputs": [],
   "source": [
    "# product 이상치 제거\n",
    "product = product[lambda x : x.HITS_SEQ != 1]"
   ]
  },
  {
   "cell_type": "code",
   "execution_count": 5,
   "metadata": {
    "collapsed": true
   },
   "outputs": [],
   "source": [
    "# 똑같은 row 지우기\n",
    "product.drop_duplicates(inplace = True)\n",
    "session.drop_duplicates(inplace = True)\n",
    "search1.drop_duplicates(inplace = True)\n",
    "search2.drop_duplicates(inplace = True)\n",
    "master.drop_duplicates(inplace = True)\n",
    "custom.drop_duplicates(inplace = True)"
   ]
  },
  {
   "cell_type": "code",
   "execution_count": 6,
   "metadata": {},
   "outputs": [
    {
     "data": {
      "text/plain": [
       "5019730"
      ]
     },
     "execution_count": 6,
     "metadata": {},
     "output_type": "execute_result"
    }
   ],
   "source": [
    "len(product)"
   ]
  },
  {
   "cell_type": "code",
   "execution_count": 7,
   "metadata": {
    "collapsed": true
   },
   "outputs": [],
   "source": [
    "# int 로 만들기\n",
    "def str_to_int(x):\n",
    "    if type(x) == str:\n",
    "        return int(''.join(x.split(',')))\n",
    "    else: return x\n",
    "\n",
    "product['PD_BUY_AM'] = product.PD_BUY_AM.map(str_to_int)\n",
    "session['TOT_SESS_HR_V'] = session.TOT_SESS_HR_V.map(str_to_int)\n",
    "\n",
    "def for_PD_BUY_CT(x):\n",
    "    if type(x) == str:\n",
    "        if ',' in x : \n",
    "            return int(''.join(x.split(',')))\n",
    "        else : \n",
    "            return int(x)\n",
    "    else : \n",
    "        return x\n",
    "    \n",
    "product.PD_BUY_CT = product.PD_BUY_CT.map(for_PD_BUY_CT)\n",
    "\n",
    "# PD_BUY_TO 추가\n",
    "product['PD_BUY_TO'] = product.PD_BUY_AM * product.PD_BUY_CT"
   ]
  },
  {
   "cell_type": "markdown",
   "metadata": {},
   "source": [
    "# 2. 구매 데이터프레임 만들기"
   ]
  },
  {
   "cell_type": "code",
   "execution_count": 6,
   "metadata": {
    "collapsed": true
   },
   "outputs": [],
   "source": [
    "## data merge\n",
    "merge_df1 = pd.merge(product, session, how = 'inner', on =['CLNT_ID','SESS_ID'])\n",
    "merge_df1.dropna(inplace = True)"
   ]
  },
  {
   "cell_type": "code",
   "execution_count": 7,
   "metadata": {
    "collapsed": true
   },
   "outputs": [],
   "source": [
    "mean_df = merge_df1.groupby(['CLNT_ID','SESS_ID','SESS_DT'])['HITS_SEQ','SESS_SEQ','TOT_PAG_VIEW_CT','TOT_SESS_HR_V'].mean().reset_index()"
   ]
  },
  {
   "cell_type": "code",
   "execution_count": 8,
   "metadata": {
    "collapsed": true
   },
   "outputs": [],
   "source": [
    "sum_df = pd.DataFrame(merge_df1.groupby(['CLNT_ID','SESS_ID','SESS_DT'])['PD_BUY_TO'].sum()).reset_index()"
   ]
  },
  {
   "cell_type": "code",
   "execution_count": 9,
   "metadata": {
    "collapsed": true
   },
   "outputs": [],
   "source": [
    "final_df = pd.merge(mean_df, sum_df, how = 'inner', on = ['CLNT_ID','SESS_ID','SESS_DT'])"
   ]
  },
  {
   "cell_type": "code",
   "execution_count": 10,
   "metadata": {},
   "outputs": [
    {
     "data": {
      "text/html": [
       "<div>\n",
       "<style>\n",
       "    .dataframe thead tr:only-child th {\n",
       "        text-align: right;\n",
       "    }\n",
       "\n",
       "    .dataframe thead th {\n",
       "        text-align: left;\n",
       "    }\n",
       "\n",
       "    .dataframe tbody tr th {\n",
       "        vertical-align: top;\n",
       "    }\n",
       "</style>\n",
       "<table border=\"1\" class=\"dataframe\">\n",
       "  <thead>\n",
       "    <tr style=\"text-align: right;\">\n",
       "      <th></th>\n",
       "      <th>CLNT_ID</th>\n",
       "      <th>SESS_ID</th>\n",
       "      <th>SESS_DT</th>\n",
       "      <th>HITS_SEQ</th>\n",
       "      <th>SESS_SEQ</th>\n",
       "      <th>TOT_PAG_VIEW_CT</th>\n",
       "      <th>TOT_SESS_HR_V</th>\n",
       "      <th>PD_BUY_TO</th>\n",
       "    </tr>\n",
       "  </thead>\n",
       "  <tbody>\n",
       "    <tr>\n",
       "      <th>0</th>\n",
       "      <td>8</td>\n",
       "      <td>6964877</td>\n",
       "      <td>20180606</td>\n",
       "      <td>40.0</td>\n",
       "      <td>7.0</td>\n",
       "      <td>38.0</td>\n",
       "      <td>366.0</td>\n",
       "      <td>38000</td>\n",
       "    </tr>\n",
       "  </tbody>\n",
       "</table>\n",
       "</div>"
      ],
      "text/plain": [
       "   CLNT_ID  SESS_ID   SESS_DT  HITS_SEQ  SESS_SEQ  TOT_PAG_VIEW_CT  \\\n",
       "0        8  6964877  20180606      40.0       7.0             38.0   \n",
       "\n",
       "   TOT_SESS_HR_V  PD_BUY_TO  \n",
       "0          366.0      38000  "
      ]
     },
     "execution_count": 10,
     "metadata": {},
     "output_type": "execute_result"
    }
   ],
   "source": [
    "final_df.head(1)"
   ]
  },
  {
   "cell_type": "code",
   "execution_count": 11,
   "metadata": {
    "collapsed": true
   },
   "outputs": [],
   "source": [
    "session_temp = session[['CLNT_ID','SESS_ID','SESS_DT','DVC_CTG_NM','ZON_NM']]"
   ]
  },
  {
   "cell_type": "code",
   "execution_count": 12,
   "metadata": {
    "collapsed": true
   },
   "outputs": [],
   "source": [
    "final_df = pd.merge(final_df, session_temp, how = 'left', on = ['CLNT_ID','SESS_ID','SESS_DT'])"
   ]
  },
  {
   "cell_type": "code",
   "execution_count": 13,
   "metadata": {
    "collapsed": true
   },
   "outputs": [],
   "source": [
    "final_df = pd.merge(final_df, custom, how = 'left')"
   ]
  },
  {
   "cell_type": "code",
   "execution_count": 14,
   "metadata": {},
   "outputs": [
    {
     "data": {
      "text/html": [
       "<div>\n",
       "<style>\n",
       "    .dataframe thead tr:only-child th {\n",
       "        text-align: right;\n",
       "    }\n",
       "\n",
       "    .dataframe thead th {\n",
       "        text-align: left;\n",
       "    }\n",
       "\n",
       "    .dataframe tbody tr th {\n",
       "        vertical-align: top;\n",
       "    }\n",
       "</style>\n",
       "<table border=\"1\" class=\"dataframe\">\n",
       "  <thead>\n",
       "    <tr style=\"text-align: right;\">\n",
       "      <th></th>\n",
       "      <th>CLNT_ID</th>\n",
       "      <th>SESS_ID</th>\n",
       "      <th>SESS_DT</th>\n",
       "      <th>HITS_SEQ</th>\n",
       "      <th>SESS_SEQ</th>\n",
       "      <th>TOT_PAG_VIEW_CT</th>\n",
       "      <th>TOT_SESS_HR_V</th>\n",
       "      <th>PD_BUY_TO</th>\n",
       "      <th>DVC_CTG_NM</th>\n",
       "      <th>ZON_NM</th>\n",
       "      <th>CLNT_GENDER</th>\n",
       "      <th>CLNT_AGE</th>\n",
       "    </tr>\n",
       "  </thead>\n",
       "  <tbody>\n",
       "    <tr>\n",
       "      <th>0</th>\n",
       "      <td>8</td>\n",
       "      <td>6964877</td>\n",
       "      <td>20180606</td>\n",
       "      <td>40.0</td>\n",
       "      <td>7.0</td>\n",
       "      <td>38.0</td>\n",
       "      <td>366.0</td>\n",
       "      <td>38000</td>\n",
       "      <td>mobile</td>\n",
       "      <td>Gyeonggi-do</td>\n",
       "      <td>M</td>\n",
       "      <td>20.0</td>\n",
       "    </tr>\n",
       "  </tbody>\n",
       "</table>\n",
       "</div>"
      ],
      "text/plain": [
       "   CLNT_ID  SESS_ID   SESS_DT  HITS_SEQ  SESS_SEQ  TOT_PAG_VIEW_CT  \\\n",
       "0        8  6964877  20180606      40.0       7.0             38.0   \n",
       "\n",
       "   TOT_SESS_HR_V  PD_BUY_TO DVC_CTG_NM       ZON_NM CLNT_GENDER  CLNT_AGE  \n",
       "0          366.0      38000     mobile  Gyeonggi-do           M      20.0  "
      ]
     },
     "execution_count": 14,
     "metadata": {},
     "output_type": "execute_result"
    }
   ],
   "source": [
    "final_df.head(1)"
   ]
  },
  {
   "cell_type": "code",
   "execution_count": 16,
   "metadata": {
    "collapsed": true
   },
   "outputs": [],
   "source": [
    "final_df.to_csv('final_df_na.csv', index = False)"
   ]
  },
  {
   "cell_type": "markdown",
   "metadata": {},
   "source": [
    "# 3. 소비별 상품군 구매여부 DF 만들기"
   ]
  },
  {
   "cell_type": "code",
   "execution_count": 95,
   "metadata": {
    "collapsed": true
   },
   "outputs": [],
   "source": [
    "temp_product = product[['CLNT_ID','SESS_ID','PD_C']]\n",
    "temp_product.drop_duplicates(inplace = True)\n",
    "\n",
    "temp_merge = pd.merge(temp_product, master[['PD_C','CLAC1_NM']], how = 'left')\n",
    "temp_merge = temp_merge[['CLNT_ID','SESS_ID','CLAC1_NM']]\n",
    "temp_merge.drop_duplicates(inplace = True)\n",
    "\n",
    "temp_count = temp_merge.groupby(['CLNT_ID','SESS_ID']).count().reset_index()"
   ]
  },
  {
   "cell_type": "code",
   "execution_count": 96,
   "metadata": {
    "collapsed": true
   },
   "outputs": [],
   "source": [
    "product_dummydf = pd.get_dummies(temp_merge, prefix = 'CLAC1_NM').groupby(['CLNT_ID','SESS_ID']).sum().reset_index()"
   ]
  },
  {
   "cell_type": "code",
   "execution_count": 97,
   "metadata": {},
   "outputs": [
    {
     "data": {
      "text/html": [
       "<div>\n",
       "<style>\n",
       "    .dataframe thead tr:only-child th {\n",
       "        text-align: right;\n",
       "    }\n",
       "\n",
       "    .dataframe thead th {\n",
       "        text-align: left;\n",
       "    }\n",
       "\n",
       "    .dataframe tbody tr th {\n",
       "        vertical-align: top;\n",
       "    }\n",
       "</style>\n",
       "<table border=\"1\" class=\"dataframe\">\n",
       "  <thead>\n",
       "    <tr style=\"text-align: right;\">\n",
       "      <th></th>\n",
       "      <th>CLNT_ID</th>\n",
       "      <th>SESS_ID</th>\n",
       "      <th>CLAC1_NM_가구</th>\n",
       "      <th>CLAC1_NM_건강식품</th>\n",
       "      <th>CLAC1_NM_계절가전</th>\n",
       "      <th>CLAC1_NM_과일</th>\n",
       "      <th>CLAC1_NM_구기/필드스포츠</th>\n",
       "      <th>CLAC1_NM_남성의류</th>\n",
       "      <th>CLAC1_NM_냉동식품</th>\n",
       "      <th>CLAC1_NM_냉장/세탁가전</th>\n",
       "      <th>CLAC1_NM_냉장식품</th>\n",
       "      <th>CLAC1_NM_모바일</th>\n",
       "      <th>CLAC1_NM_문구/사무용품</th>\n",
       "      <th>CLAC1_NM_상품권</th>\n",
       "      <th>CLAC1_NM_생활/주방가전</th>\n",
       "      <th>CLAC1_NM_세제/위생</th>\n",
       "      <th>CLAC1_NM_속옷/양말/홈웨어</th>\n",
       "      <th>CLAC1_NM_스포츠패션</th>\n",
       "      <th>CLAC1_NM_시즌스포츠</th>\n",
       "      <th>CLAC1_NM_식기/조리기구</th>\n",
       "      <th>CLAC1_NM_아웃도어/레저</th>\n",
       "      <th>CLAC1_NM_여성의류</th>\n",
       "      <th>CLAC1_NM_영상/음향가전</th>\n",
       "      <th>CLAC1_NM_완구</th>\n",
       "      <th>CLAC1_NM_원예/애완</th>\n",
       "      <th>CLAC1_NM_유아동의류</th>\n",
       "      <th>CLAC1_NM_음료</th>\n",
       "      <th>CLAC1_NM_인테리어/조명</th>\n",
       "      <th>CLAC1_NM_자동차용품</th>\n",
       "      <th>CLAC1_NM_주방잡화</th>\n",
       "      <th>CLAC1_NM_청소/세탁/욕실용품</th>\n",
       "      <th>CLAC1_NM_축산물</th>\n",
       "      <th>CLAC1_NM_출산/육아용품</th>\n",
       "      <th>CLAC1_NM_침구/수예</th>\n",
       "      <th>CLAC1_NM_컴퓨터</th>\n",
       "      <th>CLAC1_NM_패션잡화</th>\n",
       "      <th>CLAC1_NM_퍼스널케어</th>\n",
       "      <th>CLAC1_NM_헬스/피트니스</th>\n",
       "      <th>CLAC1_NM_화장품/뷰티케어</th>\n",
       "    </tr>\n",
       "  </thead>\n",
       "  <tbody>\n",
       "    <tr>\n",
       "      <th>0</th>\n",
       "      <td>8</td>\n",
       "      <td>6964877</td>\n",
       "      <td>0</td>\n",
       "      <td>0</td>\n",
       "      <td>0</td>\n",
       "      <td>0</td>\n",
       "      <td>0</td>\n",
       "      <td>0</td>\n",
       "      <td>0</td>\n",
       "      <td>0</td>\n",
       "      <td>0</td>\n",
       "      <td>0</td>\n",
       "      <td>0</td>\n",
       "      <td>0</td>\n",
       "      <td>0</td>\n",
       "      <td>0</td>\n",
       "      <td>0</td>\n",
       "      <td>0</td>\n",
       "      <td>0</td>\n",
       "      <td>0</td>\n",
       "      <td>0</td>\n",
       "      <td>0</td>\n",
       "      <td>0</td>\n",
       "      <td>0</td>\n",
       "      <td>0</td>\n",
       "      <td>0</td>\n",
       "      <td>0</td>\n",
       "      <td>0</td>\n",
       "      <td>0</td>\n",
       "      <td>0</td>\n",
       "      <td>0</td>\n",
       "      <td>0</td>\n",
       "      <td>0</td>\n",
       "      <td>0</td>\n",
       "      <td>0</td>\n",
       "      <td>1</td>\n",
       "      <td>0</td>\n",
       "      <td>0</td>\n",
       "      <td>0</td>\n",
       "    </tr>\n",
       "  </tbody>\n",
       "</table>\n",
       "</div>"
      ],
      "text/plain": [
       "   CLNT_ID  SESS_ID  CLAC1_NM_가구  CLAC1_NM_건강식품  CLAC1_NM_계절가전  CLAC1_NM_과일  \\\n",
       "0        8  6964877            0              0              0            0   \n",
       "\n",
       "   CLAC1_NM_구기/필드스포츠  CLAC1_NM_남성의류  CLAC1_NM_냉동식품  CLAC1_NM_냉장/세탁가전  \\\n",
       "0                  0              0              0                 0   \n",
       "\n",
       "   CLAC1_NM_냉장식품  CLAC1_NM_모바일  CLAC1_NM_문구/사무용품  CLAC1_NM_상품권  \\\n",
       "0              0             0                 0             0   \n",
       "\n",
       "   CLAC1_NM_생활/주방가전  CLAC1_NM_세제/위생  CLAC1_NM_속옷/양말/홈웨어  CLAC1_NM_스포츠패션  \\\n",
       "0                 0               0                   0               0   \n",
       "\n",
       "   CLAC1_NM_시즌스포츠  CLAC1_NM_식기/조리기구  CLAC1_NM_아웃도어/레저  CLAC1_NM_여성의류  \\\n",
       "0               0                 0                 0              0   \n",
       "\n",
       "   CLAC1_NM_영상/음향가전  CLAC1_NM_완구  CLAC1_NM_원예/애완  CLAC1_NM_유아동의류  CLAC1_NM_음료  \\\n",
       "0                 0            0               0               0            0   \n",
       "\n",
       "   CLAC1_NM_인테리어/조명  CLAC1_NM_자동차용품  CLAC1_NM_주방잡화  CLAC1_NM_청소/세탁/욕실용품  \\\n",
       "0                 0               0              0                    0   \n",
       "\n",
       "   CLAC1_NM_축산물  CLAC1_NM_출산/육아용품  CLAC1_NM_침구/수예  CLAC1_NM_컴퓨터  \\\n",
       "0             0                 0               0             0   \n",
       "\n",
       "   CLAC1_NM_패션잡화  CLAC1_NM_퍼스널케어  CLAC1_NM_헬스/피트니스  CLAC1_NM_화장품/뷰티케어  \n",
       "0              1               0                 0                  0  "
      ]
     },
     "execution_count": 97,
     "metadata": {},
     "output_type": "execute_result"
    }
   ],
   "source": [
    "product_dummydf.head(1)"
   ]
  },
  {
   "cell_type": "code",
   "execution_count": 98,
   "metadata": {
    "collapsed": true
   },
   "outputs": [],
   "source": [
    "product_dummydf.to_csv('data/product_dummydf.csv', index = False)"
   ]
  },
  {
   "cell_type": "markdown",
   "metadata": {},
   "source": [
    "# 4. 모델링을 위한 EDA / FE / FS, 데이터프레임 만들기\n",
    "- NA 값 예측 모델링 -> NA 예측 -> 선호지수 모델링, time series 예측 모델링"
   ]
  },
  {
   "cell_type": "markdown",
   "metadata": {},
   "source": [
    "## 4-1 NA 값 예측 모델링"
   ]
  },
  {
   "cell_type": "code",
   "execution_count": 3,
   "metadata": {},
   "outputs": [
    {
     "data": {
      "text/html": [
       "<div>\n",
       "<style>\n",
       "    .dataframe thead tr:only-child th {\n",
       "        text-align: right;\n",
       "    }\n",
       "\n",
       "    .dataframe thead th {\n",
       "        text-align: left;\n",
       "    }\n",
       "\n",
       "    .dataframe tbody tr th {\n",
       "        vertical-align: top;\n",
       "    }\n",
       "</style>\n",
       "<table border=\"1\" class=\"dataframe\">\n",
       "  <thead>\n",
       "    <tr style=\"text-align: right;\">\n",
       "      <th></th>\n",
       "      <th>CLNT_ID</th>\n",
       "      <th>SESS_ID</th>\n",
       "      <th>SESS_DT</th>\n",
       "      <th>HITS_SEQ</th>\n",
       "      <th>SESS_SEQ</th>\n",
       "      <th>TOT_PAG_VIEW_CT</th>\n",
       "      <th>TOT_SESS_HR_V</th>\n",
       "      <th>PD_BUY_TO</th>\n",
       "      <th>DVC_CTG_NM</th>\n",
       "      <th>ZON_NM</th>\n",
       "      <th>CLNT_GENDER</th>\n",
       "      <th>CLNT_AGE</th>\n",
       "    </tr>\n",
       "  </thead>\n",
       "  <tbody>\n",
       "    <tr>\n",
       "      <th>0</th>\n",
       "      <td>8</td>\n",
       "      <td>6964877</td>\n",
       "      <td>20180606</td>\n",
       "      <td>40.0</td>\n",
       "      <td>7.0</td>\n",
       "      <td>38.0</td>\n",
       "      <td>366.0</td>\n",
       "      <td>38000</td>\n",
       "      <td>mobile</td>\n",
       "      <td>Gyeonggi-do</td>\n",
       "      <td>M</td>\n",
       "      <td>20.0</td>\n",
       "    </tr>\n",
       "  </tbody>\n",
       "</table>\n",
       "</div>"
      ],
      "text/plain": [
       "   CLNT_ID  SESS_ID   SESS_DT  HITS_SEQ  SESS_SEQ  TOT_PAG_VIEW_CT  \\\n",
       "0        8  6964877  20180606      40.0       7.0             38.0   \n",
       "\n",
       "   TOT_SESS_HR_V  PD_BUY_TO DVC_CTG_NM       ZON_NM CLNT_GENDER  CLNT_AGE  \n",
       "0          366.0      38000     mobile  Gyeonggi-do           M      20.0  "
      ]
     },
     "execution_count": 3,
     "metadata": {},
     "output_type": "execute_result"
    }
   ],
   "source": [
    "# 구매데이터\n",
    "final_df_na = pd.read_csv('data/final_df_na.csv')\n",
    "final_df_na.head(1)"
   ]
  },
  {
   "cell_type": "code",
   "execution_count": 11,
   "metadata": {},
   "outputs": [
    {
     "data": {
      "text/plain": [
       "Index(['CLNT_ID', 'SESS_ID', 'SESS_DT', 'HITS_SEQ', 'SESS_SEQ',\n",
       "       'TOT_PAG_VIEW_CT', 'TOT_SESS_HR_V', 'PD_BUY_TO', 'DVC_CTG_NM', 'ZON_NM',\n",
       "       'CLNT_GENDER', 'CLNT_AGE'],\n",
       "      dtype='object')"
      ]
     },
     "execution_count": 11,
     "metadata": {},
     "output_type": "execute_result"
    }
   ],
   "source": [
    "final_df_na.columns"
   ]
  },
  {
   "cell_type": "code",
   "execution_count": 62,
   "metadata": {},
   "outputs": [
    {
     "data": {
      "text/plain": [
       "CLNT_ID            0.00\n",
       "SESS_ID            0.00\n",
       "SESS_DT            0.00\n",
       "HITS_SEQ           0.00\n",
       "SESS_SEQ           0.00\n",
       "TOT_PAG_VIEW_CT    0.00\n",
       "TOT_SESS_HR_V      0.00\n",
       "PD_BUY_TO          0.00\n",
       "DVC_CTG_NM         0.00\n",
       "ZON_NM             0.00\n",
       "CLNT_GENDER        0.18\n",
       "CLNT_AGE           0.18\n",
       "dtype: float64"
      ]
     },
     "execution_count": 62,
     "metadata": {},
     "output_type": "execute_result"
    }
   ],
   "source": [
    "# 예측해야할 NA 값 비율\n",
    "round ( final_df_na.isnull().sum() / len(final_df_na) ,2)"
   ]
  },
  {
   "cell_type": "markdown",
   "metadata": {},
   "source": [
    "- gender : 현재 여 90%, 남 10% 의 상황"
   ]
  },
  {
   "cell_type": "code",
   "execution_count": 4,
   "metadata": {},
   "outputs": [
    {
     "name": "stderr",
     "output_type": "stream",
     "text": [
      "C:\\anaconda\\lib\\site-packages\\matplotlib\\font_manager.py:1316: UserWarning: findfont: Font family ['NanumSquareRound'] not found. Falling back to DejaVu Sans\n",
      "  (prop.get_family(), self.defaultFamily[fontext]))\n"
     ]
    },
    {
     "data": {
      "image/png": "[encoded data removed]",
      "text/plain": [
       "<matplotlib.figure.Figure at 0x1e562c27ef0>"
      ]
     },
     "metadata": {
      "image/png": {
       "height": 257,
       "width": 367
      }
     },
     "output_type": "display_data"
    }
   ],
   "source": [
    "( final_df_na.CLNT_GENDER.value_counts() / final_df_na.CLNT_GENDER.value_counts().sum() ) .plot.bar()\n",
    "plt.title('구매데이터 중 NA 값 제외 CLNT_GENDER 비율')\n",
    "plt.show()"
   ]
  },
  {
   "cell_type": "markdown",
   "metadata": {},
   "source": [
    "- age : 30, 40대가 80%  나머지가 20%"
   ]
  },
  {
   "cell_type": "code",
   "execution_count": 23,
   "metadata": {},
   "outputs": [
    {
     "data": {
      "image/png": "[encoded data removed]",
      "text/plain": [
       "<matplotlib.figure.Figure at 0x1ff0e537ac8>"
      ]
     },
     "metadata": {
      "image/png": {
       "height": 246,
       "width": 365
      }
     },
     "output_type": "display_data"
    }
   ],
   "source": [
    "( final_df_na.CLNT_AGE.value_counts() / final_df_na.CLNT_AGE.value_counts().sum() ) .plot.bar()\n",
    "# plt.title('구매데이터 중 NA 값 제외 CLNT_AGE 비율')\n",
    "sns.despine()\n",
    "plt.xticks(rotation = 360, fontproperties = fontprop)\n",
    "plt.show()"
   ]
  },
  {
   "cell_type": "code",
   "execution_count": 24,
   "metadata": {
    "collapsed": true
   },
   "outputs": [],
   "source": [
    "# 30,40대에 너무 모여 있어서 나머지는 합치기로\n",
    "def for_CLNT_AGE(x):\n",
    "    if x in [50.0,60.0,70.0,80.0]: return 'old'\n",
    "    elif  x in [20.0,10.0] : return 'young'\n",
    "    else : return x\n",
    "    \n",
    "final_df_na.CLNT_AGE = final_df_na.CLNT_AGE.map(for_CLNT_AGE)"
   ]
  },
  {
   "cell_type": "code",
   "execution_count": 25,
   "metadata": {},
   "outputs": [
    {
     "data": {
      "image/png": "[encoded data removed]",
      "text/plain": [
       "<matplotlib.figure.Figure at 0x1ff17fad278>"
      ]
     },
     "metadata": {
      "image/png": {
       "height": 246,
       "width": 369
      }
     },
     "output_type": "display_data"
    }
   ],
   "source": [
    "(final_df_na.CLNT_AGE.value_counts() / len(final_df_na)).plot.bar()\n",
    "# plt.title('구매데이터 중 NA 값 제외 CLNT_AGE 비율')\n",
    "sns.despine()\n",
    "plt.xticks(rotation = 360, fontproperties = fontprop)\n",
    "plt.show()"
   ]
  },
  {
   "cell_type": "markdown",
   "metadata": {},
   "source": [
    "### 변수 추가\n",
    "- MONTH, DAY, WEEKDAY\n",
    "- SEARCH_CNT  : 상품구매시 검색여부\n",
    "- ONE_PAG_HR_V : 한 페이지를 얼마나 보고 있었는지 (TOT_SESS_HR_V\t/ TOT_PAG_VIEW_CT)"
   ]
  },
  {
   "cell_type": "markdown",
   "metadata": {},
   "source": [
    "- MONTH, DAY, WEEKDAY"
   ]
  },
  {
   "cell_type": "code",
   "execution_count": 26,
   "metadata": {
    "collapsed": true
   },
   "outputs": [],
   "source": [
    "# 날짜 컬럼\n",
    "def month(x):\n",
    "    return str(x)[4:6]\n",
    "def day(x):\n",
    "    return str(x)[6:]\n",
    "\n",
    "import datetime\n",
    "\n",
    "def weekday(x):\n",
    "    dt = datetime.datetime(int(str(x)[:4]), int(str(x)[4:6]) , int(str(x)[6:]))\n",
    "    return dt.weekday()\n",
    "\n",
    "final_df_na['MONTH'] = final_df_na.SESS_DT.map(month)\n",
    "final_df_na['DAY'] = final_df_na.SESS_DT.map(day)\n",
    "final_df_na['WEEKDAY'] = final_df_na.SESS_DT.map(weekday)"
   ]
  },
  {
   "cell_type": "markdown",
   "metadata": {},
   "source": [
    "- SEARCH_CNT"
   ]
  },
  {
   "cell_type": "code",
   "execution_count": 50,
   "metadata": {
    "collapsed": true
   },
   "outputs": [],
   "source": [
    "# SEARCH_CNT 변수 추가\n",
    "search_cnt = pd.DataFrame(search1.groupby(['CLNT_ID','SESS_ID'])['SEARCH_CNT'].sum()).reset_index()\n",
    "final_df_na = pd.merge(final_df_na, search_cnt, how = 'left', on = ['CLNT_ID','SESS_ID'])\n",
    "final_df_na['SEARCH_CNT'].fillna(0, inplace = True)\n",
    "\n",
    "# 카테고리화\n",
    "def search(x):\n",
    "    if x == 0: return 0\n",
    "    else : return 1\n",
    "\n",
    "final_df_na.SEARCH_CNT = final_df_na.SEARCH_CNT.map(search) "
   ]
  },
  {
   "cell_type": "code",
   "execution_count": 105,
   "metadata": {},
   "outputs": [
    {
     "data": {
      "text/plain": [
       "CLNT_GENDER\n",
       "F    0.456727\n",
       "M    0.415501\n",
       "Name: SEARCH_CNT, dtype: float64"
      ]
     },
     "execution_count": 105,
     "metadata": {},
     "output_type": "execute_result"
    }
   ],
   "source": [
    "final_df_na.groupby('CLNT_GENDER')['SEARCH_CNT'].mean()\n",
    "# 여자가 조금 더 많이 하는 경향"
   ]
  },
  {
   "cell_type": "code",
   "execution_count": 106,
   "metadata": {},
   "outputs": [
    {
     "data": {
      "text/plain": [
       "CLNT_AGE\n",
       "10.0    0.475879\n",
       "20.0    0.425855\n",
       "30.0    0.449169\n",
       "40.0    0.467579\n",
       "50.0    0.415849\n",
       "60.0    0.417594\n",
       "70.0    0.423923\n",
       "80.0    0.286364\n",
       "Name: SEARCH_CNT, dtype: float64"
      ]
     },
     "execution_count": 106,
     "metadata": {},
     "output_type": "execute_result"
    }
   ],
   "source": [
    "final_df_na.groupby('CLNT_AGE')['SEARCH_CNT'].mean()\n",
    "# 나이가 들수록 더 적게하는 경향"
   ]
  },
  {
   "cell_type": "markdown",
   "metadata": {},
   "source": [
    "- ONE_PAG_HR_V "
   ]
  },
  {
   "cell_type": "code",
   "execution_count": 12,
   "metadata": {
    "collapsed": true
   },
   "outputs": [],
   "source": [
    "# ONE_PAG_HR_V 변수 추가\n",
    "final_df_na['ONE_PAG_HR_V'] = final_df_na.TOT_SESS_HR_V / final_df_na.TOT_PAG_VIEW_CT"
   ]
  },
  {
   "cell_type": "code",
   "execution_count": 104,
   "metadata": {},
   "outputs": [
    {
     "data": {
      "text/plain": [
       "CLNT_GENDER\n",
       "F    16.990209\n",
       "M    17.390554\n",
       "Name: ONE_PAG_HR_V, dtype: float64"
      ]
     },
     "execution_count": 104,
     "metadata": {},
     "output_type": "execute_result"
    }
   ],
   "source": [
    "final_df_na.groupby('CLNT_GENDER')['ONE_PAG_HR_V'].mean()\n",
    "# 남자가 미세하게 높음"
   ]
  },
  {
   "cell_type": "code",
   "execution_count": 103,
   "metadata": {},
   "outputs": [
    {
     "data": {
      "text/plain": [
       "CLNT_AGE\n",
       "10.0    17.985013\n",
       "20.0    16.263884\n",
       "30.0    16.709263\n",
       "40.0    17.295359\n",
       "50.0    18.455220\n",
       "60.0    19.215005\n",
       "70.0    19.098976\n",
       "80.0    20.941990\n",
       "Name: ONE_PAG_HR_V, dtype: float64"
      ]
     },
     "execution_count": 103,
     "metadata": {},
     "output_type": "execute_result"
    }
   ],
   "source": [
    "final_df_na.groupby('CLNT_AGE')['ONE_PAG_HR_V'].mean()\n",
    "# 나이가 들수록 시간이 길어지는 경향"
   ]
  },
  {
   "cell_type": "code",
   "execution_count": 5,
   "metadata": {
    "collapsed": true
   },
   "outputs": [],
   "source": [
    "# numeric columns\n",
    "n_col = ['HITS_SEQ', 'SESS_SEQ','TOT_PAG_VIEW_CT', 'TOT_SESS_HR_V', 'PD_BUY_TO','ONE_PAG_HR_V']\n",
    "# categoric columns\n",
    "c_col = ['DVC_CTG_NM', 'ZON_NM','CLNT_GENDER', 'CLNT_AGE', 'SEARCH_CNT', 'MONTH','DAY','WEEKDAY']"
   ]
  },
  {
   "cell_type": "markdown",
   "metadata": {},
   "source": [
    "### numeric variable analysis"
   ]
  },
  {
   "cell_type": "markdown",
   "metadata": {},
   "source": [
    "- correlation"
   ]
  },
  {
   "cell_type": "code",
   "execution_count": 29,
   "metadata": {
    "collapsed": true
   },
   "outputs": [],
   "source": [
    "final_df_na1 = final_df_na.copy()"
   ]
  },
  {
   "cell_type": "code",
   "execution_count": 15,
   "metadata": {},
   "outputs": [
    {
     "name": "stdout",
     "output_type": "stream",
     "text": [
      "numeric variable : ['HITS_SEQ', 'SESS_SEQ', 'TOT_PAG_VIEW_CT', 'TOT_SESS_HR_V', 'PD_BUY_TO', 'ONE_PAG_HR_V']\n"
     ]
    }
   ],
   "source": [
    "print('numeric variable :' ,n_col)"
   ]
  },
  {
   "cell_type": "code",
   "execution_count": 16,
   "metadata": {},
   "outputs": [
    {
     "data": {
      "text/html": [
       "<div>\n",
       "<style>\n",
       "    .dataframe thead tr:only-child th {\n",
       "        text-align: right;\n",
       "    }\n",
       "\n",
       "    .dataframe thead th {\n",
       "        text-align: left;\n",
       "    }\n",
       "\n",
       "    .dataframe tbody tr th {\n",
       "        vertical-align: top;\n",
       "    }\n",
       "</style>\n",
       "<table border=\"1\" class=\"dataframe\">\n",
       "  <thead>\n",
       "    <tr style=\"text-align: right;\">\n",
       "      <th></th>\n",
       "      <th>HITS_SEQ</th>\n",
       "      <th>SESS_SEQ</th>\n",
       "      <th>TOT_PAG_VIEW_CT</th>\n",
       "      <th>TOT_SESS_HR_V</th>\n",
       "      <th>PD_BUY_TO</th>\n",
       "      <th>ONE_PAG_HR_V</th>\n",
       "    </tr>\n",
       "  </thead>\n",
       "  <tbody>\n",
       "    <tr>\n",
       "      <th>HITS_SEQ</th>\n",
       "      <td>1.000000</td>\n",
       "      <td>0.092533</td>\n",
       "      <td>0.874471</td>\n",
       "      <td>0.604802</td>\n",
       "      <td>0.050179</td>\n",
       "      <td>-0.179028</td>\n",
       "    </tr>\n",
       "    <tr>\n",
       "      <th>SESS_SEQ</th>\n",
       "      <td>0.092533</td>\n",
       "      <td>1.000000</td>\n",
       "      <td>0.156559</td>\n",
       "      <td>0.060961</td>\n",
       "      <td>-0.037359</td>\n",
       "      <td>-0.112020</td>\n",
       "    </tr>\n",
       "    <tr>\n",
       "      <th>TOT_PAG_VIEW_CT</th>\n",
       "      <td>0.874471</td>\n",
       "      <td>0.156559</td>\n",
       "      <td>1.000000</td>\n",
       "      <td>0.680278</td>\n",
       "      <td>0.073343</td>\n",
       "      <td>-0.197959</td>\n",
       "    </tr>\n",
       "    <tr>\n",
       "      <th>TOT_SESS_HR_V</th>\n",
       "      <td>0.604802</td>\n",
       "      <td>0.060961</td>\n",
       "      <td>0.680278</td>\n",
       "      <td>1.000000</td>\n",
       "      <td>0.087916</td>\n",
       "      <td>0.279153</td>\n",
       "    </tr>\n",
       "    <tr>\n",
       "      <th>PD_BUY_TO</th>\n",
       "      <td>0.050179</td>\n",
       "      <td>-0.037359</td>\n",
       "      <td>0.073343</td>\n",
       "      <td>0.087916</td>\n",
       "      <td>1.000000</td>\n",
       "      <td>0.035976</td>\n",
       "    </tr>\n",
       "    <tr>\n",
       "      <th>ONE_PAG_HR_V</th>\n",
       "      <td>-0.179028</td>\n",
       "      <td>-0.112020</td>\n",
       "      <td>-0.197959</td>\n",
       "      <td>0.279153</td>\n",
       "      <td>0.035976</td>\n",
       "      <td>1.000000</td>\n",
       "    </tr>\n",
       "  </tbody>\n",
       "</table>\n",
       "</div>"
      ],
      "text/plain": [
       "                 HITS_SEQ  SESS_SEQ  TOT_PAG_VIEW_CT  TOT_SESS_HR_V  \\\n",
       "HITS_SEQ         1.000000  0.092533         0.874471       0.604802   \n",
       "SESS_SEQ         0.092533  1.000000         0.156559       0.060961   \n",
       "TOT_PAG_VIEW_CT  0.874471  0.156559         1.000000       0.680278   \n",
       "TOT_SESS_HR_V    0.604802  0.060961         0.680278       1.000000   \n",
       "PD_BUY_TO        0.050179 -0.037359         0.073343       0.087916   \n",
       "ONE_PAG_HR_V    -0.179028 -0.112020        -0.197959       0.279153   \n",
       "\n",
       "                 PD_BUY_TO  ONE_PAG_HR_V  \n",
       "HITS_SEQ          0.050179     -0.179028  \n",
       "SESS_SEQ         -0.037359     -0.112020  \n",
       "TOT_PAG_VIEW_CT   0.073343     -0.197959  \n",
       "TOT_SESS_HR_V     0.087916      0.279153  \n",
       "PD_BUY_TO         1.000000      0.035976  \n",
       "ONE_PAG_HR_V      0.035976      1.000000  "
      ]
     },
     "execution_count": 16,
     "metadata": {},
     "output_type": "execute_result"
    }
   ],
   "source": [
    "final_df_na1[n_col].corr()\n",
    "# HITS_SEQ 와 TOT_PAG_VIEW_CT\n",
    "# TOT_SESS_HR_V 와 TOT_PAG_VIEW_CT\n",
    "# 두 개의 묶음이 가장 높다\n",
    "# TOT_PAG_VIEW_CT을 지우도록 한다"
   ]
  },
  {
   "cell_type": "code",
   "execution_count": 20,
   "metadata": {},
   "outputs": [
    {
     "data": {
      "text/plain": [
       "<matplotlib.axes._subplots.AxesSubplot at 0x1ff0e503ba8>"
      ]
     },
     "execution_count": 20,
     "metadata": {},
     "output_type": "execute_result"
    },
    {
     "data": {
      "image/png": "[encoded data removed]",
      "text/plain": [
       "<matplotlib.figure.Figure at 0x1ff0e46c2e8>"
      ]
     },
     "metadata": {
      "image/png": {
       "height": 309,
       "width": 400
      }
     },
     "output_type": "display_data"
    }
   ],
   "source": [
    "sns.heatmap(final_df_na1[n_col].corr(), annot = True, cmap = 'Blues')"
   ]
  },
  {
   "cell_type": "code",
   "execution_count": 55,
   "metadata": {
    "collapsed": true
   },
   "outputs": [],
   "source": [
    "final_df_na1.drop('TOT_PAG_VIEW_CT', axis = 1, inplace  =True)\n",
    "\n",
    "n_col = ['HITS_SEQ',\n",
    " 'SESS_SEQ',\n",
    " 'TOT_SESS_HR_V',\n",
    " 'PD_BUY_TO',\n",
    " 'ONE_PAG_HR_V']"
   ]
  },
  {
   "cell_type": "markdown",
   "metadata": {},
   "source": [
    "- outlier"
   ]
  },
  {
   "cell_type": "code",
   "execution_count": 54,
   "metadata": {},
   "outputs": [
    {
     "name": "stdout",
     "output_type": "stream",
     "text": [
      "HITS_SEQ : 0.006873108310310515\n",
      "SESS_SEQ : 0.016606458845878358\n",
      "TOT_SESS_HR_V : 0.0019511931084289465\n",
      "PD_BUY_TO : 0.022011074679942046\n",
      "ONE_PAG_HR_V : 0.012090501548942582\n"
     ]
    }
   ],
   "source": [
    "for i in n_col:\n",
    "    IQR = final_df_na1[i].quantile(0.75) - final_df_na[i].quantile(0.25)\n",
    "    cut_up = final_df_na1[i].quantile(0.75) + 5*IQR\n",
    "    cut_down = final_df_na1[i].quantile(0.25) - 5*IQR\n",
    "    print(i,':',( (final_df_na1[i] < cut_down).sum() + (final_df_na1[i] > cut_up).sum() )/ len(final_df_na) )"
   ]
  },
  {
   "cell_type": "markdown",
   "metadata": {},
   "source": [
    "모델링을 위해 전체데이터 중 5% 정도로 이상치를 지우도록 해보자."
   ]
  },
  {
   "cell_type": "code",
   "execution_count": 56,
   "metadata": {
    "collapsed": true
   },
   "outputs": [],
   "source": [
    "temp_df = final_df_na1.copy()"
   ]
  },
  {
   "cell_type": "code",
   "execution_count": 57,
   "metadata": {
    "collapsed": true
   },
   "outputs": [],
   "source": [
    "cut_up = list()\n",
    "cut_down = list()\n",
    "\n",
    "for i in n_col:\n",
    "    IQR = final_df_na1[i].quantile(0.75) - final_df_na1[i].quantile(0.25)\n",
    "    cut_up.append(final_df_na1[i].quantile(0.75) + 5*IQR)\n",
    "    cut_down.append(final_df_na1[i].quantile(0.25) - 5*IQR)\n",
    "\n",
    "for i in range(len(cut_up)):\n",
    "    final_df_na1 = final_df_na1[lambda x : x[n_col[i]] < cut_up[i]]\n",
    "    final_df_na1 = final_df_na1[lambda x : x[n_col[i]] > cut_down[i]]"
   ]
  },
  {
   "cell_type": "code",
   "execution_count": 58,
   "metadata": {},
   "outputs": [
    {
     "name": "stdout",
     "output_type": "stream",
     "text": [
      "전체 data 중 지워진 비율 :  0.06\n"
     ]
    }
   ],
   "source": [
    "print('전체 data 중 지워진 비율 : ', round((len(temp_df) -len(final_df_na1)) / len(temp_df),2) ) "
   ]
  },
  {
   "cell_type": "markdown",
   "metadata": {},
   "source": [
    "### categorical variable analysis"
   ]
  },
  {
   "cell_type": "code",
   "execution_count": 33,
   "metadata": {
    "collapsed": true
   },
   "outputs": [],
   "source": [
    "final_df_na2 = final_df_na1.copy()"
   ]
  },
  {
   "cell_type": "code",
   "execution_count": 60,
   "metadata": {},
   "outputs": [
    {
     "name": "stdout",
     "output_type": "stream",
     "text": [
      "categorical variable: ['DVC_CTG_NM', 'ZON_NM', 'CLNT_GENDER', 'CLNT_AGE', 'SEARCH_CNT', 'MONTH', 'DAY', 'WEEKDAY']\n"
     ]
    }
   ],
   "source": [
    "print('categorical variable:', c_col)"
   ]
  },
  {
   "cell_type": "code",
   "execution_count": 31,
   "metadata": {},
   "outputs": [
    {
     "data": {
      "image/png": "[encoded data removed]",
      "text/plain": [
       "<matplotlib.figure.Figure at 0x2b468594400>"
      ]
     },
     "metadata": {
      "image/png": {
       "height": 246,
       "width": 365
      }
     },
     "output_type": "display_data"
    }
   ],
   "source": [
    "# 소비데이터 중 95% 가 mobile\n",
    "(final_df_na2.DVC_CTG_NM.value_counts() / len(final_df_na2)).plot.bar()\n",
    "# plt.title('DVC_CTG_NM 변수 label들의 비율')\n",
    "sns.despine()\n",
    "plt.xticks(rotation = 360, fontproperties = fontprop)\n",
    "plt.show()"
   ]
  },
  {
   "cell_type": "code",
   "execution_count": 148,
   "metadata": {},
   "outputs": [
    {
     "data": {
      "text/html": [
       "<div>\n",
       "<style>\n",
       "    .dataframe thead tr:only-child th {\n",
       "        text-align: right;\n",
       "    }\n",
       "\n",
       "    .dataframe thead th {\n",
       "        text-align: left;\n",
       "    }\n",
       "\n",
       "    .dataframe tbody tr th {\n",
       "        vertical-align: top;\n",
       "    }\n",
       "</style>\n",
       "<table border=\"1\" class=\"dataframe\">\n",
       "  <thead>\n",
       "    <tr style=\"text-align: right;\">\n",
       "      <th></th>\n",
       "      <th>CLNT_GENDER</th>\n",
       "      <th>DVC_CTG_NM</th>\n",
       "      <th>비율</th>\n",
       "      <th>CLNT_GENDER</th>\n",
       "      <th>DVC_CTG_NM</th>\n",
       "      <th>비율</th>\n",
       "    </tr>\n",
       "  </thead>\n",
       "  <tbody>\n",
       "    <tr>\n",
       "      <th>0</th>\n",
       "      <td>F</td>\n",
       "      <td>mobile</td>\n",
       "      <td>0.995404</td>\n",
       "      <td>M</td>\n",
       "      <td>mobile</td>\n",
       "      <td>0.991385</td>\n",
       "    </tr>\n",
       "    <tr>\n",
       "      <th>1</th>\n",
       "      <td>F</td>\n",
       "      <td>tablet</td>\n",
       "      <td>0.004389</td>\n",
       "      <td>M</td>\n",
       "      <td>tablet</td>\n",
       "      <td>0.006937</td>\n",
       "    </tr>\n",
       "    <tr>\n",
       "      <th>2</th>\n",
       "      <td>F</td>\n",
       "      <td>desktop</td>\n",
       "      <td>0.000207</td>\n",
       "      <td>M</td>\n",
       "      <td>desktop</td>\n",
       "      <td>0.001678</td>\n",
       "    </tr>\n",
       "  </tbody>\n",
       "</table>\n",
       "</div>"
      ],
      "text/plain": [
       "  CLNT_GENDER DVC_CTG_NM        비율 CLNT_GENDER DVC_CTG_NM        비율\n",
       "0           F     mobile  0.995404           M     mobile  0.991385\n",
       "1           F     tablet  0.004389           M     tablet  0.006937\n",
       "2           F    desktop  0.000207           M    desktop  0.001678"
      ]
     },
     "execution_count": 148,
     "metadata": {},
     "output_type": "execute_result"
    }
   ],
   "source": [
    "# gender\n",
    "gendergroup = final_df_na2.groupby('CLNT_GENDER')['DVC_CTG_NM'].value_counts()/final_df_na2.groupby('CLNT_GENDER')['DVC_CTG_NM'].count()\n",
    "gendergroup_df = pd.DataFrame(gendergroup)\n",
    "gendergroup_df.columns = ['비율']\n",
    "gendergroup_df.reset_index(inplace = True)\n",
    "pd.concat([ gendergroup_df[lambda x : x.CLNT_GENDER == 'F'], gendergroup_df[lambda x : x.CLNT_GENDER == 'M'].reset_index(drop =True) ], axis = 1)"
   ]
  },
  {
   "cell_type": "code",
   "execution_count": 151,
   "metadata": {},
   "outputs": [
    {
     "data": {
      "text/html": [
       "<div>\n",
       "<style>\n",
       "    .dataframe thead tr:only-child th {\n",
       "        text-align: right;\n",
       "    }\n",
       "\n",
       "    .dataframe thead th {\n",
       "        text-align: left;\n",
       "    }\n",
       "\n",
       "    .dataframe tbody tr th {\n",
       "        vertical-align: top;\n",
       "    }\n",
       "</style>\n",
       "<table border=\"1\" class=\"dataframe\">\n",
       "  <thead>\n",
       "    <tr style=\"text-align: right;\">\n",
       "      <th></th>\n",
       "      <th>CLNT_AGE</th>\n",
       "      <th>DVC_CTG_NM</th>\n",
       "      <th>비율</th>\n",
       "      <th>CLNT_AGE</th>\n",
       "      <th>DVC_CTG_NM</th>\n",
       "      <th>비율</th>\n",
       "      <th>CLNT_AGE</th>\n",
       "      <th>DVC_CTG_NM</th>\n",
       "      <th>비율</th>\n",
       "      <th>CLNT_AGE</th>\n",
       "      <th>DVC_CTG_NM</th>\n",
       "      <th>비율</th>\n",
       "    </tr>\n",
       "  </thead>\n",
       "  <tbody>\n",
       "    <tr>\n",
       "      <th>0</th>\n",
       "      <td>old</td>\n",
       "      <td>mobile</td>\n",
       "      <td>0.98643</td>\n",
       "      <td>young</td>\n",
       "      <td>mobile</td>\n",
       "      <td>0.995987</td>\n",
       "      <td>30</td>\n",
       "      <td>mobile</td>\n",
       "      <td>0.997174</td>\n",
       "      <td>40</td>\n",
       "      <td>mobile</td>\n",
       "      <td>0.993710</td>\n",
       "    </tr>\n",
       "    <tr>\n",
       "      <th>1</th>\n",
       "      <td>old</td>\n",
       "      <td>tablet</td>\n",
       "      <td>0.01230</td>\n",
       "      <td>young</td>\n",
       "      <td>tablet</td>\n",
       "      <td>0.003642</td>\n",
       "      <td>30</td>\n",
       "      <td>tablet</td>\n",
       "      <td>0.002630</td>\n",
       "      <td>40</td>\n",
       "      <td>tablet</td>\n",
       "      <td>0.005845</td>\n",
       "    </tr>\n",
       "    <tr>\n",
       "      <th>2</th>\n",
       "      <td>old</td>\n",
       "      <td>desktop</td>\n",
       "      <td>0.00127</td>\n",
       "      <td>young</td>\n",
       "      <td>desktop</td>\n",
       "      <td>0.000371</td>\n",
       "      <td>30</td>\n",
       "      <td>desktop</td>\n",
       "      <td>0.000196</td>\n",
       "      <td>40</td>\n",
       "      <td>desktop</td>\n",
       "      <td>0.000445</td>\n",
       "    </tr>\n",
       "  </tbody>\n",
       "</table>\n",
       "</div>"
      ],
      "text/plain": [
       "  CLNT_AGE DVC_CTG_NM       비율 CLNT_AGE DVC_CTG_NM        비율 CLNT_AGE  \\\n",
       "0      old     mobile  0.98643    young     mobile  0.995987       30   \n",
       "1      old     tablet  0.01230    young     tablet  0.003642       30   \n",
       "2      old    desktop  0.00127    young    desktop  0.000371       30   \n",
       "\n",
       "  DVC_CTG_NM        비율 CLNT_AGE DVC_CTG_NM        비율  \n",
       "0     mobile  0.997174       40     mobile  0.993710  \n",
       "1     tablet  0.002630       40     tablet  0.005845  \n",
       "2    desktop  0.000196       40    desktop  0.000445  "
      ]
     },
     "execution_count": 151,
     "metadata": {},
     "output_type": "execute_result"
    }
   ],
   "source": [
    "# age\n",
    "agegroup = final_df_na2.groupby('CLNT_AGE')['DVC_CTG_NM'].value_counts()/final_df_na2.groupby('CLNT_AGE')['DVC_CTG_NM'].count()\n",
    "agegroup_df = pd.DataFrame(agegroup)\n",
    "agegroup_df.columns = ['비율']\n",
    "agegroup_df.reset_index(inplace = True)\n",
    "age1 = pd.concat([ agegroup_df[lambda x : x.CLNT_AGE == 'old'].reset_index(drop =True), agegroup_df[lambda x : x.CLNT_AGE == 'young'].reset_index(drop =True) ], axis = 1)\n",
    "age2 = pd.concat([ agegroup_df[lambda x : x.CLNT_AGE == 30.0].reset_index(drop =True), agegroup_df[lambda x : x.CLNT_AGE == 40.0].reset_index(drop =True) ], axis = 1)\n",
    "pd.concat([age1, age2], axis = 1)"
   ]
  },
  {
   "cell_type": "code",
   "execution_count": 32,
   "metadata": {},
   "outputs": [
    {
     "data": {
      "image/png": "[encoded data removed]",
      "text/plain": [
       "<matplotlib.figure.Figure at 0x2b468aee748>"
      ]
     },
     "metadata": {
      "image/png": {
       "height": 246,
       "width": 365
      }
     },
     "output_type": "display_data"
    }
   ],
   "source": [
    "# NA 데이터들은 85% 가 desktop \n",
    "# 오히려 모델링에 방해될 수도\n",
    "na = final_df_na2[final_df_na2.CLNT_GENDER.isnull()].DVC_CTG_NM.value_counts()\n",
    "(na / na.sum()).plot.bar()\n",
    "# plt.title('NA의 DVC_CTG_NM 변수 label들의 비율 ')\n",
    "sns.despine()\n",
    "plt.xticks(rotation = 360, fontproperties = fontprop)\n",
    "plt.show()"
   ]
  },
  {
   "cell_type": "code",
   "execution_count": 61,
   "metadata": {
    "collapsed": true
   },
   "outputs": [],
   "source": [
    "# mobile, not_mobile 로 나누기\n",
    "def for_DVC_CTG_NM(x):\n",
    "    if x in ['desktop','tablet'] : return 'not_mobile'\n",
    "    else : return x\n",
    "    \n",
    "    \n",
    "final_df_na2.DVC_CTG_NM = final_df_na2.DVC_CTG_NM.map(for_DVC_CTG_NM)"
   ]
  },
  {
   "cell_type": "code",
   "execution_count": 34,
   "metadata": {},
   "outputs": [
    {
     "data": {
      "image/png": "[encoded data removed]",
      "text/plain": [
       "<matplotlib.figure.Figure at 0x2b4685a9710>"
      ]
     },
     "metadata": {
      "image/png": {
       "height": 246,
       "width": 365
      }
     },
     "output_type": "display_data"
    }
   ],
   "source": [
    "(final_df_na2.DVC_CTG_NM.value_counts() / len(final_df_na2)).plot.bar()\n",
    "# plt.title('DVC_CTG_NM 변수 label들의 비율')\n",
    "sns.despine()\n",
    "plt.xticks(rotation = 360, fontproperties = fontprop)\n",
    "plt.show()"
   ]
  },
  {
   "cell_type": "markdown",
   "metadata": {},
   "source": [
    "- ZON_NM : 다소 high cardinality의 모습과 편향된 모습이 보이므로 label들을 묶어주는 FE 방법 선택"
   ]
  },
  {
   "cell_type": "code",
   "execution_count": 39,
   "metadata": {},
   "outputs": [
    {
     "data": {
      "image/png": "[encoded data removed]",
      "text/plain": [
       "<matplotlib.figure.Figure at 0x2b4655b39b0>"
      ]
     },
     "metadata": {
      "image/png": {
       "height": 334,
       "width": 369
      }
     },
     "output_type": "display_data"
    }
   ],
   "source": [
    "# plt.title('ZON_NM 변수 label들의 비율')\n",
    "( final_df_na2.ZON_NM.value_counts() / len(final_df_na2) ).plot.bar()\n",
    "sns.despine()\n",
    "plt.xticks( fontproperties = fontprop)\n",
    "plt.show()"
   ]
  },
  {
   "cell_type": "code",
   "execution_count": 40,
   "metadata": {},
   "outputs": [
    {
     "data": {
      "image/png": "[encoded data removed]",
      "text/plain": [
       "<matplotlib.figure.Figure at 0x2b4b3233f60>"
      ]
     },
     "metadata": {
      "image/png": {
       "height": 334,
       "width": 369
      }
     },
     "output_type": "display_data"
    }
   ],
   "source": [
    "# NA 데이터들도 not NA 데이터들과 비슷한 모습\n",
    "na = final_df_na2[final_df_na2.CLNT_GENDER.isnull()].ZON_NM.value_counts()\n",
    "(na / na.sum()).plot.bar()\n",
    "# plt.title('NA의 ZON_NM 변수 label들의 비율 ')\n",
    "sns.despine()\n",
    "plt.xticks(fontproperties = fontprop)\n",
    "plt.show()"
   ]
  },
  {
   "cell_type": "code",
   "execution_count": 135,
   "metadata": {},
   "outputs": [
    {
     "data": {
      "text/html": [
       "<div>\n",
       "<style>\n",
       "    .dataframe thead tr:only-child th {\n",
       "        text-align: right;\n",
       "    }\n",
       "\n",
       "    .dataframe thead th {\n",
       "        text-align: left;\n",
       "    }\n",
       "\n",
       "    .dataframe tbody tr th {\n",
       "        vertical-align: top;\n",
       "    }\n",
       "</style>\n",
       "<table border=\"1\" class=\"dataframe\">\n",
       "  <thead>\n",
       "    <tr style=\"text-align: right;\">\n",
       "      <th></th>\n",
       "      <th>CLNT_GENDER</th>\n",
       "      <th>ZON_NM</th>\n",
       "      <th>비율</th>\n",
       "      <th>CLNT_GENDER</th>\n",
       "      <th>ZON_NM</th>\n",
       "      <th>비율</th>\n",
       "    </tr>\n",
       "  </thead>\n",
       "  <tbody>\n",
       "    <tr>\n",
       "      <th>0</th>\n",
       "      <td>F</td>\n",
       "      <td>Seoul</td>\n",
       "      <td>0.379937</td>\n",
       "      <td>M</td>\n",
       "      <td>Seoul</td>\n",
       "      <td>0.439497</td>\n",
       "    </tr>\n",
       "    <tr>\n",
       "      <th>1</th>\n",
       "      <td>F</td>\n",
       "      <td>Gyeonggi-do</td>\n",
       "      <td>0.170097</td>\n",
       "      <td>M</td>\n",
       "      <td>Gyeonggi-do</td>\n",
       "      <td>0.137754</td>\n",
       "    </tr>\n",
       "    <tr>\n",
       "      <th>2</th>\n",
       "      <td>F</td>\n",
       "      <td>Busan</td>\n",
       "      <td>0.114092</td>\n",
       "      <td>M</td>\n",
       "      <td>Busan</td>\n",
       "      <td>0.129816</td>\n",
       "    </tr>\n",
       "    <tr>\n",
       "      <th>3</th>\n",
       "      <td>F</td>\n",
       "      <td>Gyeongsangnam-do</td>\n",
       "      <td>0.047627</td>\n",
       "      <td>M</td>\n",
       "      <td>Daegu</td>\n",
       "      <td>0.043274</td>\n",
       "    </tr>\n",
       "    <tr>\n",
       "      <th>4</th>\n",
       "      <td>F</td>\n",
       "      <td>Daegu</td>\n",
       "      <td>0.043535</td>\n",
       "      <td>M</td>\n",
       "      <td>Gyeongsangnam-do</td>\n",
       "      <td>0.038026</td>\n",
       "    </tr>\n",
       "    <tr>\n",
       "      <th>5</th>\n",
       "      <td>F</td>\n",
       "      <td>Incheon</td>\n",
       "      <td>0.036828</td>\n",
       "      <td>M</td>\n",
       "      <td>Incheon</td>\n",
       "      <td>0.029163</td>\n",
       "    </tr>\n",
       "    <tr>\n",
       "      <th>6</th>\n",
       "      <td>F</td>\n",
       "      <td>Gyeongsangbuk-do</td>\n",
       "      <td>0.032059</td>\n",
       "      <td>M</td>\n",
       "      <td>Gyeongsangbuk-do</td>\n",
       "      <td>0.027579</td>\n",
       "    </tr>\n",
       "    <tr>\n",
       "      <th>7</th>\n",
       "      <td>F</td>\n",
       "      <td>Chungcheongnam-do</td>\n",
       "      <td>0.028178</td>\n",
       "      <td>M</td>\n",
       "      <td>Chungcheongnam-do</td>\n",
       "      <td>0.024487</td>\n",
       "    </tr>\n",
       "    <tr>\n",
       "      <th>8</th>\n",
       "      <td>F</td>\n",
       "      <td>Jeollabuk-do</td>\n",
       "      <td>0.028177</td>\n",
       "      <td>M</td>\n",
       "      <td>Jeollabuk-do</td>\n",
       "      <td>0.023193</td>\n",
       "    </tr>\n",
       "    <tr>\n",
       "      <th>9</th>\n",
       "      <td>F</td>\n",
       "      <td>Gwangju</td>\n",
       "      <td>0.025625</td>\n",
       "      <td>M</td>\n",
       "      <td>Gwangju</td>\n",
       "      <td>0.022361</td>\n",
       "    </tr>\n",
       "    <tr>\n",
       "      <th>10</th>\n",
       "      <td>F</td>\n",
       "      <td>Daejeon</td>\n",
       "      <td>0.021366</td>\n",
       "      <td>M</td>\n",
       "      <td>Daejeon</td>\n",
       "      <td>0.019017</td>\n",
       "    </tr>\n",
       "    <tr>\n",
       "      <th>11</th>\n",
       "      <td>F</td>\n",
       "      <td>Jeollanam-do</td>\n",
       "      <td>0.017370</td>\n",
       "      <td>M</td>\n",
       "      <td>Ulsan</td>\n",
       "      <td>0.017606</td>\n",
       "    </tr>\n",
       "    <tr>\n",
       "      <th>12</th>\n",
       "      <td>F</td>\n",
       "      <td>Ulsan</td>\n",
       "      <td>0.017215</td>\n",
       "      <td>M</td>\n",
       "      <td>Jeollanam-do</td>\n",
       "      <td>0.016320</td>\n",
       "    </tr>\n",
       "    <tr>\n",
       "      <th>13</th>\n",
       "      <td>F</td>\n",
       "      <td>Chungcheongbuk-do</td>\n",
       "      <td>0.015885</td>\n",
       "      <td>M</td>\n",
       "      <td>Chungcheongbuk-do</td>\n",
       "      <td>0.013050</td>\n",
       "    </tr>\n",
       "    <tr>\n",
       "      <th>14</th>\n",
       "      <td>F</td>\n",
       "      <td>Gangwon-do</td>\n",
       "      <td>0.015367</td>\n",
       "      <td>M</td>\n",
       "      <td>Gangwon-do</td>\n",
       "      <td>0.012005</td>\n",
       "    </tr>\n",
       "    <tr>\n",
       "      <th>15</th>\n",
       "      <td>F</td>\n",
       "      <td>Jeju-do</td>\n",
       "      <td>0.006641</td>\n",
       "      <td>M</td>\n",
       "      <td>Jeju-do</td>\n",
       "      <td>0.006851</td>\n",
       "    </tr>\n",
       "  </tbody>\n",
       "</table>\n",
       "</div>"
      ],
      "text/plain": [
       "   CLNT_GENDER             ZON_NM        비율 CLNT_GENDER             ZON_NM  \\\n",
       "0            F              Seoul  0.379937           M              Seoul   \n",
       "1            F        Gyeonggi-do  0.170097           M        Gyeonggi-do   \n",
       "2            F              Busan  0.114092           M              Busan   \n",
       "3            F   Gyeongsangnam-do  0.047627           M              Daegu   \n",
       "4            F              Daegu  0.043535           M   Gyeongsangnam-do   \n",
       "5            F            Incheon  0.036828           M            Incheon   \n",
       "6            F   Gyeongsangbuk-do  0.032059           M   Gyeongsangbuk-do   \n",
       "7            F  Chungcheongnam-do  0.028178           M  Chungcheongnam-do   \n",
       "8            F       Jeollabuk-do  0.028177           M       Jeollabuk-do   \n",
       "9            F            Gwangju  0.025625           M            Gwangju   \n",
       "10           F            Daejeon  0.021366           M            Daejeon   \n",
       "11           F       Jeollanam-do  0.017370           M              Ulsan   \n",
       "12           F              Ulsan  0.017215           M       Jeollanam-do   \n",
       "13           F  Chungcheongbuk-do  0.015885           M  Chungcheongbuk-do   \n",
       "14           F         Gangwon-do  0.015367           M         Gangwon-do   \n",
       "15           F            Jeju-do  0.006641           M            Jeju-do   \n",
       "\n",
       "          비율  \n",
       "0   0.439497  \n",
       "1   0.137754  \n",
       "2   0.129816  \n",
       "3   0.043274  \n",
       "4   0.038026  \n",
       "5   0.029163  \n",
       "6   0.027579  \n",
       "7   0.024487  \n",
       "8   0.023193  \n",
       "9   0.022361  \n",
       "10  0.019017  \n",
       "11  0.017606  \n",
       "12  0.016320  \n",
       "13  0.013050  \n",
       "14  0.012005  \n",
       "15  0.006851  "
      ]
     },
     "execution_count": 135,
     "metadata": {},
     "output_type": "execute_result"
    }
   ],
   "source": [
    "# gender 에 따른 별 차이는 없어보임\n",
    "gendergroup = final_df_na2.groupby('CLNT_GENDER')['ZON_NM'].value_counts()/final_df_na2.groupby('CLNT_GENDER')['ZON_NM'].count()\n",
    "gendergroup_df = pd.DataFrame(gendergroup)\n",
    "gendergroup_df.columns = ['비율']\n",
    "gendergroup_df.reset_index(inplace = True)\n",
    "pd.concat([ gendergroup_df[lambda x : x.CLNT_GENDER == 'F'], gendergroup_df[lambda x : x.CLNT_GENDER == 'M'].reset_index(drop =True) ], axis = 1)"
   ]
  },
  {
   "cell_type": "code",
   "execution_count": 152,
   "metadata": {},
   "outputs": [
    {
     "data": {
      "text/html": [
       "<div>\n",
       "<style>\n",
       "    .dataframe thead tr:only-child th {\n",
       "        text-align: right;\n",
       "    }\n",
       "\n",
       "    .dataframe thead th {\n",
       "        text-align: left;\n",
       "    }\n",
       "\n",
       "    .dataframe tbody tr th {\n",
       "        vertical-align: top;\n",
       "    }\n",
       "</style>\n",
       "<table border=\"1\" class=\"dataframe\">\n",
       "  <thead>\n",
       "    <tr style=\"text-align: right;\">\n",
       "      <th></th>\n",
       "      <th>CLNT_AGE</th>\n",
       "      <th>ZON_NM</th>\n",
       "      <th>비율</th>\n",
       "      <th>CLNT_AGE</th>\n",
       "      <th>ZON_NM</th>\n",
       "      <th>비율</th>\n",
       "      <th>CLNT_AGE</th>\n",
       "      <th>ZON_NM</th>\n",
       "      <th>비율</th>\n",
       "      <th>CLNT_AGE</th>\n",
       "      <th>ZON_NM</th>\n",
       "      <th>비율</th>\n",
       "    </tr>\n",
       "  </thead>\n",
       "  <tbody>\n",
       "    <tr>\n",
       "      <th>0</th>\n",
       "      <td>old</td>\n",
       "      <td>Seoul</td>\n",
       "      <td>0.384784</td>\n",
       "      <td>young</td>\n",
       "      <td>Seoul</td>\n",
       "      <td>0.498069</td>\n",
       "      <td>30</td>\n",
       "      <td>Seoul</td>\n",
       "      <td>0.392647</td>\n",
       "      <td>40</td>\n",
       "      <td>Seoul</td>\n",
       "      <td>0.352167</td>\n",
       "    </tr>\n",
       "    <tr>\n",
       "      <th>1</th>\n",
       "      <td>old</td>\n",
       "      <td>Gyeonggi-do</td>\n",
       "      <td>0.195857</td>\n",
       "      <td>young</td>\n",
       "      <td>Gyeonggi-do</td>\n",
       "      <td>0.129494</td>\n",
       "      <td>30</td>\n",
       "      <td>Gyeonggi-do</td>\n",
       "      <td>0.156956</td>\n",
       "      <td>40</td>\n",
       "      <td>Gyeonggi-do</td>\n",
       "      <td>0.180234</td>\n",
       "    </tr>\n",
       "    <tr>\n",
       "      <th>2</th>\n",
       "      <td>old</td>\n",
       "      <td>Busan</td>\n",
       "      <td>0.110906</td>\n",
       "      <td>young</td>\n",
       "      <td>Busan</td>\n",
       "      <td>0.099687</td>\n",
       "      <td>30</td>\n",
       "      <td>Busan</td>\n",
       "      <td>0.119454</td>\n",
       "      <td>40</td>\n",
       "      <td>Busan</td>\n",
       "      <td>0.117679</td>\n",
       "    </tr>\n",
       "    <tr>\n",
       "      <th>3</th>\n",
       "      <td>old</td>\n",
       "      <td>Incheon</td>\n",
       "      <td>0.039908</td>\n",
       "      <td>young</td>\n",
       "      <td>Daegu</td>\n",
       "      <td>0.037388</td>\n",
       "      <td>30</td>\n",
       "      <td>Gyeongsangnam-do</td>\n",
       "      <td>0.047952</td>\n",
       "      <td>40</td>\n",
       "      <td>Gyeongsangnam-do</td>\n",
       "      <td>0.049466</td>\n",
       "    </tr>\n",
       "    <tr>\n",
       "      <th>4</th>\n",
       "      <td>old</td>\n",
       "      <td>Daegu</td>\n",
       "      <td>0.039038</td>\n",
       "      <td>young</td>\n",
       "      <td>Gyeongsangnam-do</td>\n",
       "      <td>0.034461</td>\n",
       "      <td>30</td>\n",
       "      <td>Daegu</td>\n",
       "      <td>0.042294</td>\n",
       "      <td>40</td>\n",
       "      <td>Daegu</td>\n",
       "      <td>0.047425</td>\n",
       "    </tr>\n",
       "    <tr>\n",
       "      <th>5</th>\n",
       "      <td>old</td>\n",
       "      <td>Gyeongsangnam-do</td>\n",
       "      <td>0.038600</td>\n",
       "      <td>young</td>\n",
       "      <td>Incheon</td>\n",
       "      <td>0.030128</td>\n",
       "      <td>30</td>\n",
       "      <td>Incheon</td>\n",
       "      <td>0.034117</td>\n",
       "      <td>40</td>\n",
       "      <td>Incheon</td>\n",
       "      <td>0.038588</td>\n",
       "    </tr>\n",
       "    <tr>\n",
       "      <th>6</th>\n",
       "      <td>old</td>\n",
       "      <td>Gyeongsangbuk-do</td>\n",
       "      <td>0.031436</td>\n",
       "      <td>young</td>\n",
       "      <td>Gyeongsangbuk-do</td>\n",
       "      <td>0.023541</td>\n",
       "      <td>30</td>\n",
       "      <td>Chungcheongnam-do</td>\n",
       "      <td>0.030955</td>\n",
       "      <td>40</td>\n",
       "      <td>Gyeongsangbuk-do</td>\n",
       "      <td>0.034281</td>\n",
       "    </tr>\n",
       "    <tr>\n",
       "      <th>7</th>\n",
       "      <td>old</td>\n",
       "      <td>Jeollabuk-do</td>\n",
       "      <td>0.025764</td>\n",
       "      <td>young</td>\n",
       "      <td>Jeollabuk-do</td>\n",
       "      <td>0.022702</td>\n",
       "      <td>30</td>\n",
       "      <td>Gyeongsangbuk-do</td>\n",
       "      <td>0.030946</td>\n",
       "      <td>40</td>\n",
       "      <td>Jeollabuk-do</td>\n",
       "      <td>0.028692</td>\n",
       "    </tr>\n",
       "    <tr>\n",
       "      <th>8</th>\n",
       "      <td>old</td>\n",
       "      <td>Gwangju</td>\n",
       "      <td>0.024926</td>\n",
       "      <td>young</td>\n",
       "      <td>Chungcheongnam-do</td>\n",
       "      <td>0.021800</td>\n",
       "      <td>30</td>\n",
       "      <td>Jeollabuk-do</td>\n",
       "      <td>0.028009</td>\n",
       "      <td>40</td>\n",
       "      <td>Gwangju</td>\n",
       "      <td>0.028320</td>\n",
       "    </tr>\n",
       "    <tr>\n",
       "      <th>9</th>\n",
       "      <td>old</td>\n",
       "      <td>Chungcheongnam-do</td>\n",
       "      <td>0.020259</td>\n",
       "      <td>young</td>\n",
       "      <td>Gwangju</td>\n",
       "      <td>0.021333</td>\n",
       "      <td>30</td>\n",
       "      <td>Gwangju</td>\n",
       "      <td>0.023458</td>\n",
       "      <td>40</td>\n",
       "      <td>Chungcheongnam-do</td>\n",
       "      <td>0.027111</td>\n",
       "    </tr>\n",
       "    <tr>\n",
       "      <th>10</th>\n",
       "      <td>old</td>\n",
       "      <td>Daejeon</td>\n",
       "      <td>0.020086</td>\n",
       "      <td>young</td>\n",
       "      <td>Daejeon</td>\n",
       "      <td>0.020174</td>\n",
       "      <td>30</td>\n",
       "      <td>Daejeon</td>\n",
       "      <td>0.019664</td>\n",
       "      <td>40</td>\n",
       "      <td>Daejeon</td>\n",
       "      <td>0.023111</td>\n",
       "    </tr>\n",
       "    <tr>\n",
       "      <th>11</th>\n",
       "      <td>old</td>\n",
       "      <td>Ulsan</td>\n",
       "      <td>0.017633</td>\n",
       "      <td>young</td>\n",
       "      <td>Chungcheongbuk-do</td>\n",
       "      <td>0.015730</td>\n",
       "      <td>30</td>\n",
       "      <td>Jeollanam-do</td>\n",
       "      <td>0.017798</td>\n",
       "      <td>40</td>\n",
       "      <td>Ulsan</td>\n",
       "      <td>0.019213</td>\n",
       "    </tr>\n",
       "    <tr>\n",
       "      <th>12</th>\n",
       "      <td>old</td>\n",
       "      <td>Gangwon-do</td>\n",
       "      <td>0.016597</td>\n",
       "      <td>young</td>\n",
       "      <td>Jeollanam-do</td>\n",
       "      <td>0.015346</td>\n",
       "      <td>30</td>\n",
       "      <td>Ulsan</td>\n",
       "      <td>0.016992</td>\n",
       "      <td>40</td>\n",
       "      <td>Jeollanam-do</td>\n",
       "      <td>0.017568</td>\n",
       "    </tr>\n",
       "    <tr>\n",
       "      <th>13</th>\n",
       "      <td>old</td>\n",
       "      <td>Jeollanam-do</td>\n",
       "      <td>0.014957</td>\n",
       "      <td>young</td>\n",
       "      <td>Gangwon-do</td>\n",
       "      <td>0.012712</td>\n",
       "      <td>30</td>\n",
       "      <td>Chungcheongbuk-do</td>\n",
       "      <td>0.016525</td>\n",
       "      <td>40</td>\n",
       "      <td>Chungcheongbuk-do</td>\n",
       "      <td>0.015088</td>\n",
       "    </tr>\n",
       "    <tr>\n",
       "      <th>14</th>\n",
       "      <td>old</td>\n",
       "      <td>Chungcheongbuk-do</td>\n",
       "      <td>0.011794</td>\n",
       "      <td>young</td>\n",
       "      <td>Ulsan</td>\n",
       "      <td>0.010925</td>\n",
       "      <td>30</td>\n",
       "      <td>Gangwon-do</td>\n",
       "      <td>0.015358</td>\n",
       "      <td>40</td>\n",
       "      <td>Gangwon-do</td>\n",
       "      <td>0.014743</td>\n",
       "    </tr>\n",
       "    <tr>\n",
       "      <th>15</th>\n",
       "      <td>old</td>\n",
       "      <td>Jeju-do</td>\n",
       "      <td>0.007454</td>\n",
       "      <td>young</td>\n",
       "      <td>Jeju-do</td>\n",
       "      <td>0.006509</td>\n",
       "      <td>30</td>\n",
       "      <td>Jeju-do</td>\n",
       "      <td>0.006876</td>\n",
       "      <td>40</td>\n",
       "      <td>Jeju-do</td>\n",
       "      <td>0.006315</td>\n",
       "    </tr>\n",
       "  </tbody>\n",
       "</table>\n",
       "</div>"
      ],
      "text/plain": [
       "   CLNT_AGE             ZON_NM        비율 CLNT_AGE             ZON_NM  \\\n",
       "0       old              Seoul  0.384784    young              Seoul   \n",
       "1       old        Gyeonggi-do  0.195857    young        Gyeonggi-do   \n",
       "2       old              Busan  0.110906    young              Busan   \n",
       "3       old            Incheon  0.039908    young              Daegu   \n",
       "4       old              Daegu  0.039038    young   Gyeongsangnam-do   \n",
       "5       old   Gyeongsangnam-do  0.038600    young            Incheon   \n",
       "6       old   Gyeongsangbuk-do  0.031436    young   Gyeongsangbuk-do   \n",
       "7       old       Jeollabuk-do  0.025764    young       Jeollabuk-do   \n",
       "8       old            Gwangju  0.024926    young  Chungcheongnam-do   \n",
       "9       old  Chungcheongnam-do  0.020259    young            Gwangju   \n",
       "10      old            Daejeon  0.020086    young            Daejeon   \n",
       "11      old              Ulsan  0.017633    young  Chungcheongbuk-do   \n",
       "12      old         Gangwon-do  0.016597    young       Jeollanam-do   \n",
       "13      old       Jeollanam-do  0.014957    young         Gangwon-do   \n",
       "14      old  Chungcheongbuk-do  0.011794    young              Ulsan   \n",
       "15      old            Jeju-do  0.007454    young            Jeju-do   \n",
       "\n",
       "          비율 CLNT_AGE             ZON_NM        비율 CLNT_AGE  \\\n",
       "0   0.498069       30              Seoul  0.392647       40   \n",
       "1   0.129494       30        Gyeonggi-do  0.156956       40   \n",
       "2   0.099687       30              Busan  0.119454       40   \n",
       "3   0.037388       30   Gyeongsangnam-do  0.047952       40   \n",
       "4   0.034461       30              Daegu  0.042294       40   \n",
       "5   0.030128       30            Incheon  0.034117       40   \n",
       "6   0.023541       30  Chungcheongnam-do  0.030955       40   \n",
       "7   0.022702       30   Gyeongsangbuk-do  0.030946       40   \n",
       "8   0.021800       30       Jeollabuk-do  0.028009       40   \n",
       "9   0.021333       30            Gwangju  0.023458       40   \n",
       "10  0.020174       30            Daejeon  0.019664       40   \n",
       "11  0.015730       30       Jeollanam-do  0.017798       40   \n",
       "12  0.015346       30              Ulsan  0.016992       40   \n",
       "13  0.012712       30  Chungcheongbuk-do  0.016525       40   \n",
       "14  0.010925       30         Gangwon-do  0.015358       40   \n",
       "15  0.006509       30            Jeju-do  0.006876       40   \n",
       "\n",
       "               ZON_NM        비율  \n",
       "0               Seoul  0.352167  \n",
       "1         Gyeonggi-do  0.180234  \n",
       "2               Busan  0.117679  \n",
       "3    Gyeongsangnam-do  0.049466  \n",
       "4               Daegu  0.047425  \n",
       "5             Incheon  0.038588  \n",
       "6    Gyeongsangbuk-do  0.034281  \n",
       "7        Jeollabuk-do  0.028692  \n",
       "8             Gwangju  0.028320  \n",
       "9   Chungcheongnam-do  0.027111  \n",
       "10            Daejeon  0.023111  \n",
       "11              Ulsan  0.019213  \n",
       "12       Jeollanam-do  0.017568  \n",
       "13  Chungcheongbuk-do  0.015088  \n",
       "14         Gangwon-do  0.014743  \n",
       "15            Jeju-do  0.006315  "
      ]
     },
     "execution_count": 152,
     "metadata": {},
     "output_type": "execute_result"
    }
   ],
   "source": [
    "# age\n",
    "agegroup = final_df_na2.groupby('CLNT_AGE')['ZON_NM'].value_counts()/final_df_na2.groupby('CLNT_AGE')['ZON_NM'].count()\n",
    "agegroup_df = pd.DataFrame(agegroup)\n",
    "agegroup_df.columns = ['비율']\n",
    "agegroup_df.reset_index(inplace = True)\n",
    "age1 = pd.concat([ agegroup_df[lambda x : x.CLNT_AGE == 'old'].reset_index(drop =True), agegroup_df[lambda x : x.CLNT_AGE == 'young'].reset_index(drop =True) ], axis = 1)\n",
    "age2 = pd.concat([ agegroup_df[lambda x : x.CLNT_AGE == 30.0].reset_index(drop =True), agegroup_df[lambda x : x.CLNT_AGE == 40.0].reset_index(drop =True) ], axis = 1)\n",
    "pd.concat([age1, age2], axis = 1)"
   ]
  },
  {
   "cell_type": "code",
   "execution_count": 62,
   "metadata": {},
   "outputs": [
    {
     "data": {
      "image/png": "[encoded data removed]",
      "text/plain": [
       "<matplotlib.figure.Figure at 0x2b43917d400>"
      ]
     },
     "metadata": {
      "image/png": {
       "height": 246,
       "width": 369
      }
     },
     "output_type": "display_data"
    }
   ],
   "source": [
    "# 다른 변수와의 관계를 살펴봤는데 유의미한 결과 발견 불가\n",
    "# 서울 / 도 / 광역시\n",
    "# 도시화가 진행될수록 소비금액, 나이, 소비종류에 있어서 미세한 차이가 있을거라 예상\n",
    "\n",
    "def for_ZON_NM(x):\n",
    "    if x in ['Busan', 'Incheon', 'Daejeon', 'Daegu', 'Ulsan','Gwangju'] : return 'city'\n",
    "    elif x in ['Gyeongsangbuk-do', 'Gyeongsangnam-do','Chungcheongbuk-do', 'Chungcheongnam-do',\n",
    "               'Jeollabuk-do', 'Jeollanam-do','Jeju-do','Gangwon-do'] :  return 'not_city'\n",
    "    else : return x \n",
    "    \n",
    "final_df_na2.ZON_NM = final_df_na2.ZON_NM.map(for_ZON_NM)\n",
    "\n",
    "( final_df_na2.ZON_NM.value_counts() / len(final_df_na2)).plot.bar()\n",
    "# plt.title('ZON_NM 변수 label들의 비율 ')\n",
    "sns.despine()\n",
    "plt.xticks(rotation = 360, fontproperties = fontprop)\n",
    "plt.show()"
   ]
  },
  {
   "cell_type": "markdown",
   "metadata": {},
   "source": [
    "- DAY : 예측에 도움이 될지는 모르겠지만 high cardinality의 문제가 있기 때문에 묶는다"
   ]
  },
  {
   "cell_type": "code",
   "execution_count": 34,
   "metadata": {},
   "outputs": [
    {
     "data": {
      "image/png": "[encoded data removed]",
      "text/plain": [
       "<matplotlib.figure.Figure at 0x1ff186b2d68>"
      ]
     },
     "metadata": {
      "image/png": {
       "height": 246,
       "width": 381
      }
     },
     "output_type": "display_data"
    }
   ],
   "source": [
    "final_df_na2.DAY.value_counts().plot.bar()\n",
    "sns.despine()\n",
    "plt.xticks(rotation = 360, fontproperties = fontprop)\n",
    "plt.show()"
   ]
  },
  {
   "cell_type": "code",
   "execution_count": 31,
   "metadata": {
    "collapsed": true,
    "scrolled": true
   },
   "outputs": [],
   "source": [
    "def for_DAY(x):\n",
    "    if x < 11 : return 'first'\n",
    "    elif (x >= 11 and x < 21): return 'second'\n",
    "    else : return 'third'\n",
    "\n",
    "final_df_na2.DAY = final_df_na2.DAY.map(int)\n",
    "final_df_na2.DAY = final_df_na2.DAY.map(for_DAY)"
   ]
  },
  {
   "cell_type": "code",
   "execution_count": 32,
   "metadata": {},
   "outputs": [
    {
     "data": {
      "image/png": "[encoded data removed]",
      "text/plain": [
       "<matplotlib.figure.Figure at 0x1ff186b29b0>"
      ]
     },
     "metadata": {
      "image/png": {
       "height": 246,
       "width": 381
      }
     },
     "output_type": "display_data"
    }
   ],
   "source": [
    "final_df_na2.DAY.value_counts().plot.bar()\n",
    "sns.despine()\n",
    "plt.xticks(rotation = 360, fontproperties = fontprop)\n",
    "plt.show()"
   ]
  },
  {
   "cell_type": "code",
   "execution_count": 64,
   "metadata": {
    "collapsed": true
   },
   "outputs": [],
   "source": [
    "# MONTH\n",
    "final_df_na2.MONTH = final_df_na2.MONTH.map(int)"
   ]
  },
  {
   "cell_type": "markdown",
   "metadata": {
    "collapsed": true
   },
   "source": [
    "###  Numeric variable 정규분포화, categoric variable 더미화"
   ]
  },
  {
   "cell_type": "code",
   "execution_count": 65,
   "metadata": {
    "collapsed": true
   },
   "outputs": [],
   "source": [
    "fillna_df = final_df_na2.copy()"
   ]
  },
  {
   "cell_type": "code",
   "execution_count": 66,
   "metadata": {
    "collapsed": true
   },
   "outputs": [],
   "source": [
    "not_na_df = fillna_df.dropna().reset_index(drop = True)\n",
    "na_df = fillna_df[fillna_df.CLNT_GENDER.isnull()].reset_index(drop = True)"
   ]
  },
  {
   "cell_type": "code",
   "execution_count": 67,
   "metadata": {
    "collapsed": true
   },
   "outputs": [],
   "source": [
    "train_df = fillna_df.dropna().reset_index(drop = True)\n",
    "test_df = fillna_df[fillna_df.CLNT_GENDER.isnull()].reset_index(drop = True)"
   ]
  },
  {
   "cell_type": "markdown",
   "metadata": {},
   "source": [
    "- boxcox 알고리즘"
   ]
  },
  {
   "cell_type": "code",
   "execution_count": 68,
   "metadata": {},
   "outputs": [
    {
     "data": {
      "image/png": "[encoded data removed]",
      "text/plain": [
       "<matplotlib.figure.Figure at 0x2b437898668>"
      ]
     },
     "metadata": {
      "image/png": {
       "height": 207,
       "width": 887
      }
     },
     "output_type": "display_data"
    }
   ],
   "source": [
    "fig, axes = plt.subplots(1, len(n_col),figsize = (15,3))\n",
    "for i in range(len(n_col)):\n",
    "    axes[i].hist(fillna_df[n_col[i]])\n",
    "    axes[i].set_xlabel(n_col[i])"
   ]
  },
  {
   "cell_type": "code",
   "execution_count": 69,
   "metadata": {
    "collapsed": true
   },
   "outputs": [],
   "source": [
    "import scipy.stats as stats\n",
    "\n",
    "for i in n_col:\n",
    "    train_df[i] = stats.boxcox(train_df[i])[0]\n",
    "    \n",
    "for i in n_col:\n",
    "    test_df[i] = stats.boxcox(test_df[i])[0]"
   ]
  },
  {
   "cell_type": "code",
   "execution_count": 70,
   "metadata": {},
   "outputs": [
    {
     "data": {
      "image/png": "[encoded data removed]",
      "text/plain": [
       "<matplotlib.figure.Figure at 0x2b4b3233eb8>"
      ]
     },
     "metadata": {
      "image/png": {
       "height": 206,
       "width": 883
      }
     },
     "output_type": "display_data"
    }
   ],
   "source": [
    "fig, axes = plt.subplots(1, len(n_col),figsize = (15,3))\n",
    "for i in range(len(n_col)):\n",
    "    axes[i].hist(train_df[n_col[i]])\n",
    "    axes[i].set_xlabel(n_col[i])"
   ]
  },
  {
   "cell_type": "markdown",
   "metadata": {},
   "source": [
    "- 더미화"
   ]
  },
  {
   "cell_type": "code",
   "execution_count": 71,
   "metadata": {
    "collapsed": true
   },
   "outputs": [],
   "source": [
    "DVC_CTG_NM_dict = {k:i for i, k in enumerate(train_df.DVC_CTG_NM.unique(), 0)}\n",
    "ZON_NM_dict = {k:i for i, k in enumerate(train_df.ZON_NM.unique(), 0)}\n",
    "CLNT_GENDER_dict = {k:i for i, k in enumerate(train_df.CLNT_GENDER.unique(), 0)}\n",
    "CLNT_AGE_dict = {k:i for i, k in enumerate(train_df.CLNT_AGE.unique(), 0)}\n",
    "DAY_dict = {k:i for i, k in enumerate(train_df.DAY.unique(), 0)}\n",
    "\n",
    "train_df.DVC_CTG_NM = train_df.DVC_CTG_NM.map(DVC_CTG_NM_dict)\n",
    "train_df.ZON_NM = train_df.ZON_NM.map(ZON_NM_dict) \n",
    "train_df.CLNT_GENDER = train_df.CLNT_GENDER.map(CLNT_GENDER_dict) \n",
    "train_df.CLNT_AGE = train_df.CLNT_AGE.map(CLNT_AGE_dict) \n",
    "train_df.DAY = train_df.DAY.map(DAY_dict)\n",
    "\n",
    "test_df.DVC_CTG_NM = test_df.DVC_CTG_NM.map(DVC_CTG_NM_dict)\n",
    "test_df.ZON_NM = test_df.ZON_NM.map(ZON_NM_dict) \n",
    "test_df.DAY = test_df.DAY.map(DAY_dict)"
   ]
  },
  {
   "cell_type": "markdown",
   "metadata": {},
   "source": [
    "### 상품군 구매 데이터 추가\n",
    "- 너무 sparse 하고 변수의 수가 많아 PCA를 통해 차원축소하기로 결정\n",
    "- 최종 변수 갯수는 37개에서 8개"
   ]
  },
  {
   "cell_type": "code",
   "execution_count": 72,
   "metadata": {
    "collapsed": true
   },
   "outputs": [],
   "source": [
    "# 상품군 구매 데이터\n",
    "product_dummydf = pd.read_csv('data/product_dummydf.csv', encoding = 'euc-kr')"
   ]
  },
  {
   "cell_type": "code",
   "execution_count": 73,
   "metadata": {
    "collapsed": true
   },
   "outputs": [],
   "source": [
    "pca_df = product_dummydf.drop(['CLNT_ID', 'SESS_ID'], axis = 1)\n",
    "pca_id = product_dummydf[['CLNT_ID', 'SESS_ID']]"
   ]
  },
  {
   "cell_type": "code",
   "execution_count": 74,
   "metadata": {},
   "outputs": [
    {
     "name": "stdout",
     "output_type": "stream",
     "text": [
      "variance :  [0.13386583 0.13014018 0.1160242  0.09781802 0.07826719 0.05716686\n",
      " 0.04954836 0.03351927]\n",
      "variance 합 :  0.6963499139612885\n"
     ]
    }
   ],
   "source": [
    "# components 의 갯수는 gender 2 * age 4 = 8개\n",
    "from sklearn.decomposition import PCA\n",
    "\n",
    "X_pca = np.array(pca_df)\n",
    "pca = PCA(n_components=8, random_state = 0)\n",
    "pca.fit(X_pca)\n",
    "pca_result = pca.transform(X_pca)\n",
    "\n",
    "print('variance : ', pca.explained_variance_ratio_)\n",
    "print('variance 합 : ', sum(pca.explained_variance_ratio_))"
   ]
  },
  {
   "cell_type": "code",
   "execution_count": 75,
   "metadata": {
    "collapsed": true
   },
   "outputs": [],
   "source": [
    "pca_result_df = pd.DataFrame(pca_result, columns = ['pca1','pca2','pca3','pca4','pca5','pca6','pca7','pca8'])"
   ]
  },
  {
   "cell_type": "code",
   "execution_count": 76,
   "metadata": {
    "collapsed": true
   },
   "outputs": [],
   "source": [
    "product_buy = pd.concat([pca_id, pca_result_df], axis = 1)"
   ]
  },
  {
   "cell_type": "code",
   "execution_count": 77,
   "metadata": {
    "collapsed": true
   },
   "outputs": [],
   "source": [
    "train_df = pd.merge(train_df, product_buy, how = 'left', on = ['CLNT_ID','SESS_ID'])\n",
    "test_df = pd.merge(test_df, product_buy, how = 'left', on = ['CLNT_ID','SESS_ID'])"
   ]
  },
  {
   "cell_type": "code",
   "execution_count": 78,
   "metadata": {},
   "outputs": [
    {
     "data": {
      "text/html": [
       "<div>\n",
       "<style>\n",
       "    .dataframe thead tr:only-child th {\n",
       "        text-align: right;\n",
       "    }\n",
       "\n",
       "    .dataframe thead th {\n",
       "        text-align: left;\n",
       "    }\n",
       "\n",
       "    .dataframe tbody tr th {\n",
       "        vertical-align: top;\n",
       "    }\n",
       "</style>\n",
       "<table border=\"1\" class=\"dataframe\">\n",
       "  <thead>\n",
       "    <tr style=\"text-align: right;\">\n",
       "      <th></th>\n",
       "      <th>CLNT_ID</th>\n",
       "      <th>SESS_ID</th>\n",
       "      <th>SESS_DT</th>\n",
       "      <th>HITS_SEQ</th>\n",
       "      <th>SESS_SEQ</th>\n",
       "      <th>TOT_SESS_HR_V</th>\n",
       "      <th>PD_BUY_TO</th>\n",
       "      <th>DVC_CTG_NM</th>\n",
       "      <th>ZON_NM</th>\n",
       "      <th>CLNT_GENDER</th>\n",
       "      <th>CLNT_AGE</th>\n",
       "      <th>MONTH</th>\n",
       "      <th>DAY</th>\n",
       "      <th>WEEKDAY</th>\n",
       "      <th>SEARCH_CNT</th>\n",
       "      <th>ONE_PAG_HR_V</th>\n",
       "      <th>pca1</th>\n",
       "      <th>pca2</th>\n",
       "      <th>pca3</th>\n",
       "      <th>pca4</th>\n",
       "      <th>pca5</th>\n",
       "      <th>pca6</th>\n",
       "      <th>pca7</th>\n",
       "      <th>pca8</th>\n",
       "    </tr>\n",
       "  </thead>\n",
       "  <tbody>\n",
       "    <tr>\n",
       "      <th>0</th>\n",
       "      <td>8</td>\n",
       "      <td>6964877</td>\n",
       "      <td>20180606</td>\n",
       "      <td>3.866404</td>\n",
       "      <td>2.192006</td>\n",
       "      <td>9.248459</td>\n",
       "      <td>20.106578</td>\n",
       "      <td>0</td>\n",
       "      <td>0</td>\n",
       "      <td>0</td>\n",
       "      <td>0</td>\n",
       "      <td>6</td>\n",
       "      <td>0</td>\n",
       "      <td>2</td>\n",
       "      <td>0</td>\n",
       "      <td>1.935502</td>\n",
       "      <td>-0.039979</td>\n",
       "      <td>0.082366</td>\n",
       "      <td>0.853637</td>\n",
       "      <td>0.271311</td>\n",
       "      <td>0.193870</td>\n",
       "      <td>0.043453</td>\n",
       "      <td>-0.002423</td>\n",
       "      <td>0.010233</td>\n",
       "    </tr>\n",
       "    <tr>\n",
       "      <th>1</th>\n",
       "      <td>8</td>\n",
       "      <td>7017688</td>\n",
       "      <td>20180605</td>\n",
       "      <td>4.547016</td>\n",
       "      <td>0.722806</td>\n",
       "      <td>9.827804</td>\n",
       "      <td>20.106578</td>\n",
       "      <td>0</td>\n",
       "      <td>1</td>\n",
       "      <td>0</td>\n",
       "      <td>0</td>\n",
       "      <td>6</td>\n",
       "      <td>0</td>\n",
       "      <td>1</td>\n",
       "      <td>0</td>\n",
       "      <td>1.845009</td>\n",
       "      <td>-0.039979</td>\n",
       "      <td>0.082366</td>\n",
       "      <td>0.853637</td>\n",
       "      <td>0.271311</td>\n",
       "      <td>0.193870</td>\n",
       "      <td>0.043453</td>\n",
       "      <td>-0.002423</td>\n",
       "      <td>0.010233</td>\n",
       "    </tr>\n",
       "    <tr>\n",
       "      <th>2</th>\n",
       "      <td>14</td>\n",
       "      <td>1156991</td>\n",
       "      <td>20180911</td>\n",
       "      <td>6.072351</td>\n",
       "      <td>1.775453</td>\n",
       "      <td>17.789226</td>\n",
       "      <td>22.147222</td>\n",
       "      <td>0</td>\n",
       "      <td>0</td>\n",
       "      <td>1</td>\n",
       "      <td>1</td>\n",
       "      <td>9</td>\n",
       "      <td>1</td>\n",
       "      <td>1</td>\n",
       "      <td>1</td>\n",
       "      <td>2.645942</td>\n",
       "      <td>-0.039979</td>\n",
       "      <td>0.082366</td>\n",
       "      <td>0.853637</td>\n",
       "      <td>0.271311</td>\n",
       "      <td>0.193870</td>\n",
       "      <td>0.043453</td>\n",
       "      <td>-0.002423</td>\n",
       "      <td>0.010233</td>\n",
       "    </tr>\n",
       "    <tr>\n",
       "      <th>3</th>\n",
       "      <td>32</td>\n",
       "      <td>759569</td>\n",
       "      <td>20180917</td>\n",
       "      <td>3.780905</td>\n",
       "      <td>6.234343</td>\n",
       "      <td>12.002059</td>\n",
       "      <td>18.067199</td>\n",
       "      <td>0</td>\n",
       "      <td>2</td>\n",
       "      <td>0</td>\n",
       "      <td>2</td>\n",
       "      <td>9</td>\n",
       "      <td>1</td>\n",
       "      <td>0</td>\n",
       "      <td>0</td>\n",
       "      <td>1.874271</td>\n",
       "      <td>-0.027294</td>\n",
       "      <td>0.001086</td>\n",
       "      <td>0.059112</td>\n",
       "      <td>-0.170289</td>\n",
       "      <td>-0.669826</td>\n",
       "      <td>0.691596</td>\n",
       "      <td>0.014597</td>\n",
       "      <td>-0.007453</td>\n",
       "    </tr>\n",
       "    <tr>\n",
       "      <th>4</th>\n",
       "      <td>32</td>\n",
       "      <td>1136737</td>\n",
       "      <td>20180911</td>\n",
       "      <td>4.516477</td>\n",
       "      <td>6.131823</td>\n",
       "      <td>14.803582</td>\n",
       "      <td>21.451906</td>\n",
       "      <td>0</td>\n",
       "      <td>2</td>\n",
       "      <td>0</td>\n",
       "      <td>2</td>\n",
       "      <td>9</td>\n",
       "      <td>1</td>\n",
       "      <td>1</td>\n",
       "      <td>0</td>\n",
       "      <td>2.798674</td>\n",
       "      <td>0.069695</td>\n",
       "      <td>0.061687</td>\n",
       "      <td>0.028139</td>\n",
       "      <td>-0.854651</td>\n",
       "      <td>0.388392</td>\n",
       "      <td>0.061367</td>\n",
       "      <td>0.004929</td>\n",
       "      <td>0.007470</td>\n",
       "    </tr>\n",
       "  </tbody>\n",
       "</table>\n",
       "</div>"
      ],
      "text/plain": [
       "   CLNT_ID  SESS_ID   SESS_DT  HITS_SEQ  SESS_SEQ  TOT_SESS_HR_V  PD_BUY_TO  \\\n",
       "0        8  6964877  20180606  3.866404  2.192006       9.248459  20.106578   \n",
       "1        8  7017688  20180605  4.547016  0.722806       9.827804  20.106578   \n",
       "2       14  1156991  20180911  6.072351  1.775453      17.789226  22.147222   \n",
       "3       32   759569  20180917  3.780905  6.234343      12.002059  18.067199   \n",
       "4       32  1136737  20180911  4.516477  6.131823      14.803582  21.451906   \n",
       "\n",
       "   DVC_CTG_NM  ZON_NM  CLNT_GENDER  CLNT_AGE  MONTH  DAY  WEEKDAY  SEARCH_CNT  \\\n",
       "0           0       0            0         0      6    0        2           0   \n",
       "1           0       1            0         0      6    0        1           0   \n",
       "2           0       0            1         1      9    1        1           1   \n",
       "3           0       2            0         2      9    1        0           0   \n",
       "4           0       2            0         2      9    1        1           0   \n",
       "\n",
       "   ONE_PAG_HR_V      pca1      pca2      pca3      pca4      pca5      pca6  \\\n",
       "0      1.935502 -0.039979  0.082366  0.853637  0.271311  0.193870  0.043453   \n",
       "1      1.845009 -0.039979  0.082366  0.853637  0.271311  0.193870  0.043453   \n",
       "2      2.645942 -0.039979  0.082366  0.853637  0.271311  0.193870  0.043453   \n",
       "3      1.874271 -0.027294  0.001086  0.059112 -0.170289 -0.669826  0.691596   \n",
       "4      2.798674  0.069695  0.061687  0.028139 -0.854651  0.388392  0.061367   \n",
       "\n",
       "       pca7      pca8  \n",
       "0 -0.002423  0.010233  \n",
       "1 -0.002423  0.010233  \n",
       "2 -0.002423  0.010233  \n",
       "3  0.014597 -0.007453  \n",
       "4  0.004929  0.007470  "
      ]
     },
     "execution_count": 78,
     "metadata": {},
     "output_type": "execute_result"
    }
   ],
   "source": [
    "train_df.head()"
   ]
  },
  {
   "cell_type": "code",
   "execution_count": 79,
   "metadata": {
    "collapsed": true
   },
   "outputs": [],
   "source": [
    "col_for_predict = [ 'HITS_SEQ', 'SESS_SEQ', 'TOT_SESS_HR_V', 'PD_BUY_TO','ONE_PAG_HR_V', 'DVC_CTG_NM', 'ZON_NM', 'SEARCH_CNT','MONTH','DAY','WEEKDAY', 'pca1', 'pca2', 'pca3', 'pca4',\n",
    "       'pca5', 'pca6', 'pca7', 'pca8']"
   ]
  },
  {
   "cell_type": "markdown",
   "metadata": {},
   "source": [
    "### oversampling for predict CLNT_GENDER\n",
    "SMOTE 를 활용한 oversampling \n",
    "- gender의 경우 전부 F 로 예측\n",
    "- age의 경우 전부 30,40 대로 예측\n",
    "- 따라서 oversampling을 통해 문제해결"
   ]
  },
  {
   "cell_type": "code",
   "execution_count": 80,
   "metadata": {
    "collapsed": true
   },
   "outputs": [],
   "source": [
    "# 시간이 오래걸리므로 random 추출 0.1\n",
    "sam_df = train_df.sample(frac = 0.1, random_state = 0)\n",
    "\n",
    "from imblearn.over_sampling import SMOTE\n",
    "\n",
    "X = sam_df[col_for_predict]\n",
    "y_gender = sam_df.CLNT_GENDER\n",
    "y_age = sam_df.CLNT_AGE"
   ]
  },
  {
   "cell_type": "code",
   "execution_count": null,
   "metadata": {
    "collapsed": true
   },
   "outputs": [],
   "source": [
    "X_gender, y_gender = SMOTE(random_state = 0).fit_resample(X, y_gender)"
   ]
  },
  {
   "cell_type": "code",
   "execution_count": null,
   "metadata": {
    "collapsed": true
   },
   "outputs": [],
   "source": [
    "X_age, y_age = SMOTE(random_state = 0).fit_resample(X, y_age)"
   ]
  },
  {
   "cell_type": "markdown",
   "metadata": {},
   "source": [
    "BayesSearchCV와 Random Foreset 를 활용한 분류 예측 모델링(score는 f1score)\n",
    "1. gender"
   ]
  },
  {
   "cell_type": "code",
   "execution_count": 118,
   "metadata": {
    "collapsed": true
   },
   "outputs": [],
   "source": [
    "from sklearn.metrics import make_scorer\n",
    "from sklearn.metrics import f1_score\n",
    "scorer = make_scorer(f1_score)"
   ]
  },
  {
   "cell_type": "code",
   "execution_count": 120,
   "metadata": {
    "collapsed": true
   },
   "outputs": [],
   "source": [
    "import warnings\n",
    "warnings.filterwarnings('ignore')\n",
    "\n",
    "from skopt import BayesSearchCV\n",
    "from sklearn.model_selection import train_test_split\n",
    "from sklearn.ensemble import RandomForestClassifier\n",
    "\n",
    "# we're using a logistic regression model\n",
    "clf_gender = RandomForestClassifier(random_state=0, verbose=0)\n",
    "\n",
    "# this is our parameter grid\n",
    "param_grid = {\n",
    "    'n_estimators': (50,100,200),  \n",
    "    'max_depth': (None, 7, 5),\n",
    "    'criterion' : ['gini', 'entropy'],\n",
    "    'max_features' : ['auto', 'log2']\n",
    "}\n",
    "\n",
    "# set up our optimiser to find the best params in 30 searches\n",
    "opt_gender = BayesSearchCV(\n",
    "    clf_gender,\n",
    "    param_grid,\n",
    "    n_iter=9,\n",
    "    random_state=0,\n",
    "    scoring = scorer,\n",
    "    verbose=0,\n",
    "    cv = 3\n",
    ")"
   ]
  },
  {
   "cell_type": "code",
   "execution_count": 121,
   "metadata": {},
   "outputs": [
    {
     "data": {
      "text/plain": [
       "BayesSearchCV(cv=3, error_score='raise',\n",
       "       estimator=RandomForestClassifier(bootstrap=True, class_weight=None, criterion='gini',\n",
       "            max_depth=None, max_features='auto', max_leaf_nodes=None,\n",
       "            min_impurity_decrease=0.0, min_impurity_split=None,\n",
       "            min_samples_leaf=1, min_samples_split=2,\n",
       "            min_weight_fraction_leaf=0.0, n_estimators='warn', n_jobs=None,\n",
       "            oob_score=False, random_state=0, verbose=0, warm_start=False),\n",
       "       fit_params=None, iid=True, n_iter=9, n_jobs=1, n_points=1,\n",
       "       optimizer_kwargs=None, pre_dispatch='2*n_jobs', random_state=0,\n",
       "       refit=True, return_train_score=False, scoring=make_scorer(f1_score),\n",
       "       search_spaces={'n_estimators': (50, 100, 200), 'max_depth': (None, 7, 5), 'criterion': ['gini', 'entropy'], 'max_features': ['auto', 'log2']},\n",
       "       verbose=0)"
      ]
     },
     "execution_count": 121,
     "metadata": {},
     "output_type": "execute_result"
    }
   ],
   "source": [
    "opt_gender.fit(X_gender, y_gender)"
   ]
  },
  {
   "cell_type": "code",
   "execution_count": 122,
   "metadata": {},
   "outputs": [
    {
     "name": "stdout",
     "output_type": "stream",
     "text": [
      "Best Score : 0.9269467587566824\n",
      "Best Params : {'criterion': 'entropy', 'max_depth': None, 'max_features': 'auto', 'n_estimators': 50}\n"
     ]
    }
   ],
   "source": [
    "print(\"Best Score : {}\".format(opt_gender.best_score_))\n",
    "print(\"Best Params : {}\".format(opt_gender.best_params_))"
   ]
  },
  {
   "cell_type": "code",
   "execution_count": 123,
   "metadata": {},
   "outputs": [
    {
     "data": {
      "text/plain": [
       "['best_RF1_model.pkl']"
      ]
     },
     "execution_count": 123,
     "metadata": {},
     "output_type": "execute_result"
    }
   ],
   "source": [
    "RF1 = RandomForestClassifier(**opt_gender.best_params_)\n",
    "RF1.fit(X_gender, y_gender)\n",
    "\n",
    "from sklearn.externals import joblib\n",
    "joblib.dump(RF1, 'best_RF1_model.pkl')"
   ]
  },
  {
   "cell_type": "code",
   "execution_count": 125,
   "metadata": {
    "collapsed": true
   },
   "outputs": [],
   "source": [
    "clnt_gender = RF1.predict(test_df[col_for_predict])"
   ]
  },
  {
   "cell_type": "code",
   "execution_count": 126,
   "metadata": {},
   "outputs": [
    {
     "data": {
      "text/plain": [
       "Counter({0: 42544, 1: 388155})"
      ]
     },
     "execution_count": 126,
     "metadata": {},
     "output_type": "execute_result"
    }
   ],
   "source": [
    "import collections\n",
    "collections.Counter(clnt_gender)"
   ]
  },
  {
   "cell_type": "markdown",
   "metadata": {
    "collapsed": true
   },
   "source": [
    "2.age"
   ]
  },
  {
   "cell_type": "code",
   "execution_count": 127,
   "metadata": {
    "collapsed": true
   },
   "outputs": [],
   "source": [
    "from sklearn.metrics import make_scorer\n",
    "from sklearn.metrics import f1_score\n",
    "scorer2 = make_scorer(f1_score,average = 'micro')"
   ]
  },
  {
   "cell_type": "code",
   "execution_count": 131,
   "metadata": {
    "collapsed": true
   },
   "outputs": [],
   "source": [
    "import warnings\n",
    "warnings.filterwarnings('ignore')\n",
    "\n",
    "from skopt import BayesSearchCV\n",
    "from sklearn.model_selection import train_test_split\n",
    "from sklearn.ensemble import RandomForestClassifier\n",
    "\n",
    "# we're using a logistic regression model\n",
    "clf_age = RandomForestClassifier(random_state=0, verbose=0)\n",
    "\n",
    "# this is our parameter grid\n",
    "param_grid = {\n",
    "    'n_estimators': (50,100,200),  \n",
    "    'max_depth': (None, 7, 5),\n",
    "    'criterion' : ['gini', 'entropy']\n",
    "}\n",
    "\n",
    "# set up our optimiser to find the best params in 30 searches\n",
    "opt_age = BayesSearchCV(\n",
    "    clf_age,\n",
    "    param_grid,\n",
    "    n_iter=9,\n",
    "    random_state=0,\n",
    "    scoring = scorer2,\n",
    "    verbose=0,\n",
    "    cv = 3\n",
    ")"
   ]
  },
  {
   "cell_type": "code",
   "execution_count": 132,
   "metadata": {},
   "outputs": [
    {
     "data": {
      "text/plain": [
       "BayesSearchCV(cv=3, error_score='raise',\n",
       "       estimator=RandomForestClassifier(bootstrap=True, class_weight=None, criterion='gini',\n",
       "            max_depth=None, max_features='auto', max_leaf_nodes=None,\n",
       "            min_impurity_decrease=0.0, min_impurity_split=None,\n",
       "            min_samples_leaf=1, min_samples_split=2,\n",
       "            min_weight_fraction_leaf=0.0, n_estimators='warn', n_jobs=None,\n",
       "            oob_score=False, random_state=0, verbose=0, warm_start=False),\n",
       "       fit_params=None, iid=True, n_iter=9, n_jobs=1, n_points=1,\n",
       "       optimizer_kwargs=None, pre_dispatch='2*n_jobs', random_state=0,\n",
       "       refit=True, return_train_score=False,\n",
       "       scoring=make_scorer(f1_score, average=micro),\n",
       "       search_spaces={'n_estimators': (50, 100, 200), 'max_depth': (None, 7, 5), 'criterion': ['gini', 'entropy']},\n",
       "       verbose=0)"
      ]
     },
     "execution_count": 132,
     "metadata": {},
     "output_type": "execute_result"
    }
   ],
   "source": [
    "opt_age.fit(X_age, y_age)"
   ]
  },
  {
   "cell_type": "code",
   "execution_count": 133,
   "metadata": {
    "scrolled": true
   },
   "outputs": [
    {
     "name": "stdout",
     "output_type": "stream",
     "text": [
      "Best Score : 0.6101757746966696\n",
      "Best Params : {'criterion': 'gini', 'max_depth': None, 'n_estimators': 200}\n"
     ]
    }
   ],
   "source": [
    "print(\"Best Score : {}\".format(opt_age.best_score_))\n",
    "print(\"Best Params : {}\".format(opt_age.best_params_))"
   ]
  },
  {
   "cell_type": "code",
   "execution_count": 134,
   "metadata": {},
   "outputs": [
    {
     "data": {
      "text/plain": [
       "['best_RF2_model.pkl']"
      ]
     },
     "execution_count": 134,
     "metadata": {},
     "output_type": "execute_result"
    }
   ],
   "source": [
    "RF2 = RandomForestClassifier(**opt_age.best_params_)\n",
    "RF2.fit(X_age, y_age)\n",
    "\n",
    "from sklearn.externals import joblib\n",
    "joblib.dump(RF2, 'best_RF2_model.pkl')"
   ]
  },
  {
   "cell_type": "code",
   "execution_count": 136,
   "metadata": {
    "collapsed": true
   },
   "outputs": [],
   "source": [
    "clnt_age = RF2.predict(test_df[col_for_predict])"
   ]
  },
  {
   "cell_type": "code",
   "execution_count": 137,
   "metadata": {},
   "outputs": [
    {
     "data": {
      "text/plain": [
       "Counter({0: 32393, 1: 251130, 2: 123214, 3: 23962})"
      ]
     },
     "execution_count": 137,
     "metadata": {},
     "output_type": "execute_result"
    }
   ],
   "source": [
    "import collections\n",
    "collections.Counter(clnt_age)"
   ]
  },
  {
   "cell_type": "code",
   "execution_count": 138,
   "metadata": {
    "collapsed": true
   },
   "outputs": [],
   "source": [
    "test_df.CLNT_GENDER = clnt_gender\n",
    "test_df.CLNT_AGE = clnt_age"
   ]
  },
  {
   "cell_type": "code",
   "execution_count": 139,
   "metadata": {
    "collapsed": true
   },
   "outputs": [],
   "source": [
    "final_df_fillna = pd.concat([train_df,test_df])"
   ]
  },
  {
   "cell_type": "code",
   "execution_count": 140,
   "metadata": {},
   "outputs": [
    {
     "data": {
      "text/html": [
       "<div>\n",
       "<style>\n",
       "    .dataframe thead tr:only-child th {\n",
       "        text-align: right;\n",
       "    }\n",
       "\n",
       "    .dataframe thead th {\n",
       "        text-align: left;\n",
       "    }\n",
       "\n",
       "    .dataframe tbody tr th {\n",
       "        vertical-align: top;\n",
       "    }\n",
       "</style>\n",
       "<table border=\"1\" class=\"dataframe\">\n",
       "  <thead>\n",
       "    <tr style=\"text-align: right;\">\n",
       "      <th></th>\n",
       "      <th>CLNT_ID</th>\n",
       "      <th>SESS_ID</th>\n",
       "      <th>SESS_DT</th>\n",
       "      <th>HITS_SEQ</th>\n",
       "      <th>SESS_SEQ</th>\n",
       "      <th>TOT_SESS_HR_V</th>\n",
       "      <th>PD_BUY_TO</th>\n",
       "      <th>DVC_CTG_NM</th>\n",
       "      <th>ZON_NM</th>\n",
       "      <th>CLNT_GENDER</th>\n",
       "      <th>CLNT_AGE</th>\n",
       "      <th>MONTH</th>\n",
       "      <th>DAY</th>\n",
       "      <th>WEEKDAY</th>\n",
       "      <th>SEARCH_CNT</th>\n",
       "      <th>ONE_PAG_HR_V</th>\n",
       "      <th>pca1</th>\n",
       "      <th>pca2</th>\n",
       "      <th>pca3</th>\n",
       "      <th>pca4</th>\n",
       "      <th>pca5</th>\n",
       "      <th>pca6</th>\n",
       "      <th>pca7</th>\n",
       "      <th>pca8</th>\n",
       "    </tr>\n",
       "  </thead>\n",
       "  <tbody>\n",
       "    <tr>\n",
       "      <th>0</th>\n",
       "      <td>8</td>\n",
       "      <td>6964877</td>\n",
       "      <td>20180606</td>\n",
       "      <td>3.866404</td>\n",
       "      <td>2.192006</td>\n",
       "      <td>9.248459</td>\n",
       "      <td>20.106578</td>\n",
       "      <td>0</td>\n",
       "      <td>0</td>\n",
       "      <td>0</td>\n",
       "      <td>0</td>\n",
       "      <td>6</td>\n",
       "      <td>0</td>\n",
       "      <td>2</td>\n",
       "      <td>0</td>\n",
       "      <td>1.935502</td>\n",
       "      <td>-0.039979</td>\n",
       "      <td>0.082366</td>\n",
       "      <td>0.853637</td>\n",
       "      <td>0.271311</td>\n",
       "      <td>0.193870</td>\n",
       "      <td>0.043454</td>\n",
       "      <td>-0.002416</td>\n",
       "      <td>-0.010310</td>\n",
       "    </tr>\n",
       "    <tr>\n",
       "      <th>1</th>\n",
       "      <td>8</td>\n",
       "      <td>7017688</td>\n",
       "      <td>20180605</td>\n",
       "      <td>4.547016</td>\n",
       "      <td>0.722806</td>\n",
       "      <td>9.827804</td>\n",
       "      <td>20.106578</td>\n",
       "      <td>0</td>\n",
       "      <td>1</td>\n",
       "      <td>0</td>\n",
       "      <td>0</td>\n",
       "      <td>6</td>\n",
       "      <td>0</td>\n",
       "      <td>1</td>\n",
       "      <td>0</td>\n",
       "      <td>1.845009</td>\n",
       "      <td>-0.039979</td>\n",
       "      <td>0.082366</td>\n",
       "      <td>0.853637</td>\n",
       "      <td>0.271311</td>\n",
       "      <td>0.193870</td>\n",
       "      <td>0.043454</td>\n",
       "      <td>-0.002416</td>\n",
       "      <td>-0.010310</td>\n",
       "    </tr>\n",
       "    <tr>\n",
       "      <th>2</th>\n",
       "      <td>14</td>\n",
       "      <td>1156991</td>\n",
       "      <td>20180911</td>\n",
       "      <td>6.072351</td>\n",
       "      <td>1.775453</td>\n",
       "      <td>17.789226</td>\n",
       "      <td>22.147222</td>\n",
       "      <td>0</td>\n",
       "      <td>0</td>\n",
       "      <td>1</td>\n",
       "      <td>1</td>\n",
       "      <td>9</td>\n",
       "      <td>1</td>\n",
       "      <td>1</td>\n",
       "      <td>1</td>\n",
       "      <td>2.645942</td>\n",
       "      <td>-0.039979</td>\n",
       "      <td>0.082366</td>\n",
       "      <td>0.853637</td>\n",
       "      <td>0.271311</td>\n",
       "      <td>0.193870</td>\n",
       "      <td>0.043454</td>\n",
       "      <td>-0.002416</td>\n",
       "      <td>-0.010310</td>\n",
       "    </tr>\n",
       "    <tr>\n",
       "      <th>3</th>\n",
       "      <td>32</td>\n",
       "      <td>759569</td>\n",
       "      <td>20180917</td>\n",
       "      <td>3.780905</td>\n",
       "      <td>6.234343</td>\n",
       "      <td>12.002059</td>\n",
       "      <td>18.067199</td>\n",
       "      <td>0</td>\n",
       "      <td>2</td>\n",
       "      <td>0</td>\n",
       "      <td>2</td>\n",
       "      <td>9</td>\n",
       "      <td>1</td>\n",
       "      <td>0</td>\n",
       "      <td>0</td>\n",
       "      <td>1.874271</td>\n",
       "      <td>-0.027294</td>\n",
       "      <td>0.001086</td>\n",
       "      <td>0.059112</td>\n",
       "      <td>-0.170289</td>\n",
       "      <td>-0.669826</td>\n",
       "      <td>0.691596</td>\n",
       "      <td>0.014599</td>\n",
       "      <td>0.007369</td>\n",
       "    </tr>\n",
       "    <tr>\n",
       "      <th>4</th>\n",
       "      <td>32</td>\n",
       "      <td>1136737</td>\n",
       "      <td>20180911</td>\n",
       "      <td>4.516477</td>\n",
       "      <td>6.131823</td>\n",
       "      <td>14.803582</td>\n",
       "      <td>21.451906</td>\n",
       "      <td>0</td>\n",
       "      <td>2</td>\n",
       "      <td>0</td>\n",
       "      <td>2</td>\n",
       "      <td>9</td>\n",
       "      <td>1</td>\n",
       "      <td>1</td>\n",
       "      <td>0</td>\n",
       "      <td>2.798674</td>\n",
       "      <td>0.069695</td>\n",
       "      <td>0.061687</td>\n",
       "      <td>0.028139</td>\n",
       "      <td>-0.854651</td>\n",
       "      <td>0.388392</td>\n",
       "      <td>0.061368</td>\n",
       "      <td>0.004936</td>\n",
       "      <td>-0.007543</td>\n",
       "    </tr>\n",
       "  </tbody>\n",
       "</table>\n",
       "</div>"
      ],
      "text/plain": [
       "   CLNT_ID  SESS_ID   SESS_DT  HITS_SEQ  SESS_SEQ  TOT_SESS_HR_V  PD_BUY_TO  \\\n",
       "0        8  6964877  20180606  3.866404  2.192006       9.248459  20.106578   \n",
       "1        8  7017688  20180605  4.547016  0.722806       9.827804  20.106578   \n",
       "2       14  1156991  20180911  6.072351  1.775453      17.789226  22.147222   \n",
       "3       32   759569  20180917  3.780905  6.234343      12.002059  18.067199   \n",
       "4       32  1136737  20180911  4.516477  6.131823      14.803582  21.451906   \n",
       "\n",
       "   DVC_CTG_NM  ZON_NM  CLNT_GENDER  CLNT_AGE  MONTH  DAY  WEEKDAY  SEARCH_CNT  \\\n",
       "0           0       0            0         0      6    0        2           0   \n",
       "1           0       1            0         0      6    0        1           0   \n",
       "2           0       0            1         1      9    1        1           1   \n",
       "3           0       2            0         2      9    1        0           0   \n",
       "4           0       2            0         2      9    1        1           0   \n",
       "\n",
       "   ONE_PAG_HR_V      pca1      pca2      pca3      pca4      pca5      pca6  \\\n",
       "0      1.935502 -0.039979  0.082366  0.853637  0.271311  0.193870  0.043454   \n",
       "1      1.845009 -0.039979  0.082366  0.853637  0.271311  0.193870  0.043454   \n",
       "2      2.645942 -0.039979  0.082366  0.853637  0.271311  0.193870  0.043454   \n",
       "3      1.874271 -0.027294  0.001086  0.059112 -0.170289 -0.669826  0.691596   \n",
       "4      2.798674  0.069695  0.061687  0.028139 -0.854651  0.388392  0.061368   \n",
       "\n",
       "       pca7      pca8  \n",
       "0 -0.002416 -0.010310  \n",
       "1 -0.002416 -0.010310  \n",
       "2 -0.002416 -0.010310  \n",
       "3  0.014599  0.007369  \n",
       "4  0.004936 -0.007543  "
      ]
     },
     "execution_count": 140,
     "metadata": {},
     "output_type": "execute_result"
    }
   ],
   "source": [
    "final_df_fillna.head()"
   ]
  },
  {
   "cell_type": "code",
   "execution_count": 141,
   "metadata": {
    "collapsed": true
   },
   "outputs": [],
   "source": [
    "final_df_fillna.to_csv('data/final_df_formodeling_RF.csv', index = False)"
   ]
  },
  {
   "cell_type": "markdown",
   "metadata": {},
   "source": [
    "## 4-2 time series 를 위한 DF"
   ]
  },
  {
   "cell_type": "code",
   "execution_count": 142,
   "metadata": {
    "collapsed": true
   },
   "outputs": [],
   "source": [
    "CLNT_GENDER_dict2 = {y:x for x,y in CLNT_GENDER_dict.items()}\n",
    "CLNT_AGE_dict2 = {y:x for x,y in CLNT_AGE_dict.items()}"
   ]
  },
  {
   "cell_type": "code",
   "execution_count": 143,
   "metadata": {},
   "outputs": [
    {
     "data": {
      "text/html": [
       "<div>\n",
       "<style>\n",
       "    .dataframe thead tr:only-child th {\n",
       "        text-align: right;\n",
       "    }\n",
       "\n",
       "    .dataframe thead th {\n",
       "        text-align: left;\n",
       "    }\n",
       "\n",
       "    .dataframe tbody tr th {\n",
       "        vertical-align: top;\n",
       "    }\n",
       "</style>\n",
       "<table border=\"1\" class=\"dataframe\">\n",
       "  <thead>\n",
       "    <tr style=\"text-align: right;\">\n",
       "      <th></th>\n",
       "      <th>CLNT_ID</th>\n",
       "      <th>SESS_ID</th>\n",
       "      <th>SESS_DT</th>\n",
       "      <th>HITS_SEQ</th>\n",
       "      <th>SESS_SEQ</th>\n",
       "      <th>TOT_SESS_HR_V</th>\n",
       "      <th>PD_BUY_TO</th>\n",
       "      <th>DVC_CTG_NM</th>\n",
       "      <th>ZON_NM</th>\n",
       "      <th>CLNT_GENDER</th>\n",
       "      <th>CLNT_AGE</th>\n",
       "      <th>MONTH</th>\n",
       "      <th>DAY</th>\n",
       "      <th>WEEKDAY</th>\n",
       "      <th>SEARCH_CNT</th>\n",
       "      <th>ONE_PAG_HR_V</th>\n",
       "    </tr>\n",
       "  </thead>\n",
       "  <tbody>\n",
       "    <tr>\n",
       "      <th>0</th>\n",
       "      <td>25</td>\n",
       "      <td>5317297</td>\n",
       "      <td>20180703</td>\n",
       "      <td>8.0</td>\n",
       "      <td>213.0</td>\n",
       "      <td>865.0</td>\n",
       "      <td>39800</td>\n",
       "      <td>not_mobile</td>\n",
       "      <td>Gyeonggi-do</td>\n",
       "      <td>F</td>\n",
       "      <td>30</td>\n",
       "      <td>7</td>\n",
       "      <td>first</td>\n",
       "      <td>1</td>\n",
       "      <td>1</td>\n",
       "      <td>26.212121</td>\n",
       "    </tr>\n",
       "  </tbody>\n",
       "</table>\n",
       "</div>"
      ],
      "text/plain": [
       "   CLNT_ID  SESS_ID   SESS_DT  HITS_SEQ  SESS_SEQ  TOT_SESS_HR_V  PD_BUY_TO  \\\n",
       "0       25  5317297  20180703       8.0     213.0          865.0      39800   \n",
       "\n",
       "   DVC_CTG_NM       ZON_NM CLNT_GENDER CLNT_AGE  MONTH    DAY  WEEKDAY  \\\n",
       "0  not_mobile  Gyeonggi-do           F       30      7  first        1   \n",
       "\n",
       "   SEARCH_CNT  ONE_PAG_HR_V  \n",
       "0           1     26.212121  "
      ]
     },
     "execution_count": 143,
     "metadata": {},
     "output_type": "execute_result"
    }
   ],
   "source": [
    "na_df.CLNT_GENDER = test_df.CLNT_GENDER.map(CLNT_GENDER_dict2)\n",
    "na_df.CLNT_AGE = test_df.CLNT_AGE.map(CLNT_AGE_dict2)\n",
    "\n",
    "na_df.head(1)"
   ]
  },
  {
   "cell_type": "code",
   "execution_count": 144,
   "metadata": {
    "collapsed": true
   },
   "outputs": [],
   "source": [
    "time_df = pd.concat([not_na_df, na_df])"
   ]
  },
  {
   "cell_type": "code",
   "execution_count": 145,
   "metadata": {
    "collapsed": true
   },
   "outputs": [],
   "source": [
    "time_df.to_csv('time_df_RF.csv', index = False)"
   ]
  },
  {
   "cell_type": "code",
   "execution_count": 147,
   "metadata": {
    "collapsed": true
   },
   "outputs": [],
   "source": [
    "temp_dummy =pd.get_dummies(time_df[['DVC_CTG_NM','ZON_NM','CLNT_GENDER','CLNT_AGE','MONTH', 'DAY', 'WEEKDAY']])\n",
    "\n",
    "temp_notdummy = time_df[['CLNT_ID', 'SESS_ID', 'SESS_DT', 'HITS_SEQ', 'SESS_SEQ',\n",
    "       'ONE_PAG_HR_V', 'TOT_SESS_HR_V', 'PD_BUY_TO', 'SEARCH_CNT']]"
   ]
  },
  {
   "cell_type": "code",
   "execution_count": 149,
   "metadata": {
    "collapsed": true
   },
   "outputs": [],
   "source": [
    "time_for_sum = pd.concat([temp_notdummy, temp_dummy], axis = 1)"
   ]
  },
  {
   "cell_type": "code",
   "execution_count": 150,
   "metadata": {
    "collapsed": true
   },
   "outputs": [],
   "source": [
    "time_for_sum.to_csv('time_for_sum_RF.csv', index = False)"
   ]
  }
 ],
 "metadata": {
  "kernelspec": {
   "display_name": "Python 3",
   "language": "python",
   "name": "python3"
  },
  "language_info": {
   "codemirror_mode": {
    "name": "ipython",
    "version": 3
   },
   "file_extension": ".py",
   "mimetype": "text/x-python",
   "name": "python",
   "nbconvert_exporter": "python",
   "pygments_lexer": "ipython3",
   "version": "3.6.3"
  }
 },
 "nbformat": 4,
 "nbformat_minor": 2
}
