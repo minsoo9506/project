{
 "cells": [
  {
   "cell_type": "code",
   "execution_count": 3,
   "metadata": {
    "collapsed": true
   },
   "outputs": [],
   "source": [
    "import pandas as pd\n",
    "import numpy as np\n",
    "import matplotlib.pyplot as plt\n",
    "import seaborn as sns\n",
    "\n",
    "%matplotlib inline \n",
    "%config InlineBackend.figure_format = 'retina' \n",
    "\n",
    "sns.set_style(style='white')\n",
    "sns.set_context(context ='paper')\n",
    "\n",
    "from matplotlib import font_manager, rc\n",
    "font_name = font_manager.FontProperties(fname='C:/Windows/Fonts/malgun.ttf').get_name()\n",
    "rc('font', family=font_name)\n",
    "\n",
    "font_path = 'font/NanumSquareRoundR.ttf'\n",
    "fontprop = font_manager.FontProperties(fname=font_path)\n",
    "\n",
    "pd.set_option('display.max_columns',999)"
   ]
  },
  {
   "cell_type": "code",
   "execution_count": 4,
   "metadata": {},
   "outputs": [
    {
     "name": "stderr",
     "output_type": "stream",
     "text": [
      "C:\\anaconda\\lib\\site-packages\\IPython\\core\\interactiveshell.py:2698: DtypeWarning: Columns (7) have mixed types. Specify dtype option on import or set low_memory=False.\n",
      "  interactivity=interactivity, compiler=compiler, result=result)\n"
     ]
    }
   ],
   "source": [
    "product = pd.read_csv('data/Product.csv')\n",
    "search1 = pd.read_csv('data/Search1.csv')\n",
    "search2 = pd.read_csv('data/Search2.csv')\n",
    "session = pd.read_csv('data/Session.csv')\n",
    "master = pd.read_csv('data/Master.csv')\n",
    "custom = pd.read_csv('data/Custom.csv')"
   ]
  },
  {
   "cell_type": "code",
   "execution_count": 5,
   "metadata": {
    "collapsed": true
   },
   "outputs": [],
   "source": [
    "# product 이상치 제거\n",
    "product = product[lambda x : x.HITS_SEQ != 1]\n",
    "\n",
    "# 똑같은 row 지우기\n",
    "product.drop_duplicates(inplace = True)\n",
    "session.drop_duplicates(inplace = True)\n",
    "search1.drop_duplicates(inplace = True)\n",
    "search2.drop_duplicates(inplace = True)\n",
    "master.drop_duplicates(inplace = True)\n",
    "custom.drop_duplicates(inplace = True)"
   ]
  },
  {
   "cell_type": "markdown",
   "metadata": {},
   "source": [
    "# 4. 상품군별 선호지수"
   ]
  },
  {
   "cell_type": "markdown",
   "metadata": {},
   "source": [
    "## data 준비"
   ]
  },
  {
   "cell_type": "code",
   "execution_count": 4,
   "metadata": {},
   "outputs": [
    {
     "data": {
      "text/html": [
       "<div>\n",
       "<style>\n",
       "    .dataframe thead tr:only-child th {\n",
       "        text-align: right;\n",
       "    }\n",
       "\n",
       "    .dataframe thead th {\n",
       "        text-align: left;\n",
       "    }\n",
       "\n",
       "    .dataframe tbody tr th {\n",
       "        vertical-align: top;\n",
       "    }\n",
       "</style>\n",
       "<table border=\"1\" class=\"dataframe\">\n",
       "  <thead>\n",
       "    <tr style=\"text-align: right;\">\n",
       "      <th></th>\n",
       "      <th>CLNT_ID</th>\n",
       "      <th>SESS_ID</th>\n",
       "      <th>SESS_DT</th>\n",
       "      <th>HITS_SEQ</th>\n",
       "      <th>SESS_SEQ</th>\n",
       "      <th>TOT_SESS_HR_V</th>\n",
       "      <th>PD_BUY_TO</th>\n",
       "      <th>DVC_CTG_NM</th>\n",
       "      <th>ZON_NM</th>\n",
       "      <th>CLNT_GENDER</th>\n",
       "      <th>CLNT_AGE</th>\n",
       "      <th>MONTH</th>\n",
       "      <th>DAY</th>\n",
       "      <th>WEEKDAY</th>\n",
       "      <th>SEARCH_CNT</th>\n",
       "      <th>ONE_PAG_HR_V</th>\n",
       "      <th>pca1</th>\n",
       "      <th>pca2</th>\n",
       "      <th>pca3</th>\n",
       "      <th>pca4</th>\n",
       "      <th>pca5</th>\n",
       "      <th>pca6</th>\n",
       "      <th>pca7</th>\n",
       "      <th>pca8</th>\n",
       "    </tr>\n",
       "  </thead>\n",
       "  <tbody>\n",
       "    <tr>\n",
       "      <th>0</th>\n",
       "      <td>8</td>\n",
       "      <td>6964877</td>\n",
       "      <td>20180606</td>\n",
       "      <td>3.866404</td>\n",
       "      <td>2.192006</td>\n",
       "      <td>9.248459</td>\n",
       "      <td>20.106578</td>\n",
       "      <td>0</td>\n",
       "      <td>0</td>\n",
       "      <td>0</td>\n",
       "      <td>0</td>\n",
       "      <td>6</td>\n",
       "      <td>0</td>\n",
       "      <td>2</td>\n",
       "      <td>0</td>\n",
       "      <td>1.935502</td>\n",
       "      <td>-0.039979</td>\n",
       "      <td>0.082366</td>\n",
       "      <td>0.853637</td>\n",
       "      <td>0.271311</td>\n",
       "      <td>0.19387</td>\n",
       "      <td>0.043454</td>\n",
       "      <td>-0.002416</td>\n",
       "      <td>-0.01031</td>\n",
       "    </tr>\n",
       "  </tbody>\n",
       "</table>\n",
       "</div>"
      ],
      "text/plain": [
       "   CLNT_ID  SESS_ID   SESS_DT  HITS_SEQ  SESS_SEQ  TOT_SESS_HR_V  PD_BUY_TO  \\\n",
       "0        8  6964877  20180606  3.866404  2.192006       9.248459  20.106578   \n",
       "\n",
       "   DVC_CTG_NM  ZON_NM  CLNT_GENDER  CLNT_AGE  MONTH  DAY  WEEKDAY  SEARCH_CNT  \\\n",
       "0           0       0            0         0      6    0        2           0   \n",
       "\n",
       "   ONE_PAG_HR_V      pca1      pca2      pca3      pca4     pca5      pca6  \\\n",
       "0      1.935502 -0.039979  0.082366  0.853637  0.271311  0.19387  0.043454   \n",
       "\n",
       "       pca7     pca8  \n",
       "0 -0.002416 -0.01031  "
      ]
     },
     "execution_count": 4,
     "metadata": {},
     "output_type": "execute_result"
    }
   ],
   "source": [
    "score_df = pd.read_csv('data/final_df_formodeling_RF.csv')\n",
    "score_df.head(1)"
   ]
  },
  {
   "cell_type": "markdown",
   "metadata": {},
   "source": [
    "## FE"
   ]
  },
  {
   "cell_type": "code",
   "execution_count": 5,
   "metadata": {
    "collapsed": true
   },
   "outputs": [],
   "source": [
    "score_df = score_df[['CLNT_ID', 'SESS_ID', 'HITS_SEQ', 'SESS_SEQ',\n",
    "       'TOT_SESS_HR_V', 'PD_BUY_TO', 'DVC_CTG_NM', 'ZON_NM', 'CLNT_GENDER',\n",
    "       'CLNT_AGE']]"
   ]
  },
  {
   "cell_type": "code",
   "execution_count": 6,
   "metadata": {},
   "outputs": [
    {
     "data": {
      "text/plain": [
       "127055"
      ]
     },
     "execution_count": 6,
     "metadata": {},
     "output_type": "execute_result"
    }
   ],
   "source": [
    "cluster_df = score_df.sample(frac = 0.05,random_state = 0).reset_index(drop = True)\n",
    "len(cluster_df)"
   ]
  },
  {
   "cell_type": "markdown",
   "metadata": {},
   "source": [
    "## 상품군 clustering 와 RF importance를 통한 변수 추출"
   ]
  },
  {
   "cell_type": "markdown",
   "metadata": {},
   "source": [
    "- kmeans"
   ]
  },
  {
   "cell_type": "code",
   "execution_count": 7,
   "metadata": {
    "collapsed": true
   },
   "outputs": [],
   "source": [
    "numeric_list = ['SESS_SEQ','HITS_SEQ','TOT_SESS_HR_V','PD_BUY_TO']"
   ]
  },
  {
   "cell_type": "code",
   "execution_count": 8,
   "metadata": {
    "collapsed": true
   },
   "outputs": [],
   "source": [
    "# scaling\n",
    "from sklearn.preprocessing import StandardScaler\n",
    "\n",
    "scaler = StandardScaler() \n",
    "cluster_df_scale = cluster_df[numeric_list]\n",
    "\n",
    "scaled_df = pd.DataFrame(scaler.fit_transform(cluster_df_scale), columns = cluster_df_scale.columns)"
   ]
  },
  {
   "cell_type": "code",
   "execution_count": 28,
   "metadata": {
    "collapsed": true
   },
   "outputs": [],
   "source": [
    "from sklearn.cluster import KMeans\n",
    "from sklearn.metrics import silhouette_score\n",
    "\n",
    "Sum_of_squared_distances = []\n",
    "X = np.array(scaled_df[numeric_list])\n",
    "sil_coeff = list()\n",
    "    \n",
    "K = [2,4,6,8,10]\n",
    "for k in K:\n",
    "    \n",
    "    km = KMeans(n_clusters=k,random_state=0)\n",
    "    km = km.fit(X)\n",
    "    Sum_of_squared_distances.append(km.inertia_)\n",
    "    \n",
    "    label = km.labels_\n",
    "    sil_coeff.append(silhouette_score(X, label, metric='euclidean'))"
   ]
  },
  {
   "cell_type": "code",
   "execution_count": 29,
   "metadata": {},
   "outputs": [
    {
     "data": {
      "image/png": "[encoded data removed]",
      "text/plain": [
       "<matplotlib.figure.Figure at 0x29ecba2acf8>"
      ]
     },
     "metadata": {},
     "output_type": "display_data"
    }
   ],
   "source": [
    "plt.plot(K, sil_coeff)\n",
    "plt.xlabel('k')\n",
    "plt.ylabel('sil_coeff')\n",
    "plt.title('sil_coeff For Optimal k')\n",
    "plt.show()"
   ]
  },
  {
   "cell_type": "code",
   "execution_count": 30,
   "metadata": {},
   "outputs": [
    {
     "data": {
      "image/png": "[encoded data removed]",
      "text/plain": [
       "<matplotlib.figure.Figure at 0x29ecba2aa20>"
      ]
     },
     "metadata": {},
     "output_type": "display_data"
    }
   ],
   "source": [
    "plt.plot(K, Sum_of_squared_distances, 'bx-')\n",
    "plt.xlabel('k')\n",
    "plt.ylabel('Sum_of_squared_distances')\n",
    "plt.title('Elbow Method For Optimal k')\n",
    "plt.show()"
   ]
  },
  {
   "cell_type": "markdown",
   "metadata": {},
   "source": [
    "- 클러스터의 갯수는 6"
   ]
  },
  {
   "cell_type": "code",
   "execution_count": 31,
   "metadata": {
    "collapsed": true
   },
   "outputs": [],
   "source": [
    "from sklearn.ensemble import RandomForestClassifier"
   ]
  },
  {
   "cell_type": "code",
   "execution_count": 33,
   "metadata": {},
   "outputs": [
    {
     "data": {
      "text/html": [
       "<div>\n",
       "<style>\n",
       "    .dataframe thead tr:only-child th {\n",
       "        text-align: right;\n",
       "    }\n",
       "\n",
       "    .dataframe thead th {\n",
       "        text-align: left;\n",
       "    }\n",
       "\n",
       "    .dataframe tbody tr th {\n",
       "        vertical-align: top;\n",
       "    }\n",
       "</style>\n",
       "<table border=\"1\" class=\"dataframe\">\n",
       "  <thead>\n",
       "    <tr style=\"text-align: right;\">\n",
       "      <th></th>\n",
       "      <th>0</th>\n",
       "    </tr>\n",
       "  </thead>\n",
       "  <tbody>\n",
       "    <tr>\n",
       "      <th>0</th>\n",
       "      <td>0.278624</td>\n",
       "    </tr>\n",
       "    <tr>\n",
       "      <th>1</th>\n",
       "      <td>0.270044</td>\n",
       "    </tr>\n",
       "    <tr>\n",
       "      <th>2</th>\n",
       "      <td>0.285304</td>\n",
       "    </tr>\n",
       "    <tr>\n",
       "      <th>3</th>\n",
       "      <td>0.166028</td>\n",
       "    </tr>\n",
       "  </tbody>\n",
       "</table>\n",
       "</div>"
      ],
      "text/plain": [
       "          0\n",
       "0  0.278624\n",
       "1  0.270044\n",
       "2  0.285304\n",
       "3  0.166028"
      ]
     },
     "execution_count": 33,
     "metadata": {},
     "output_type": "execute_result"
    }
   ],
   "source": [
    "X = np.array(scaled_df[numeric_list])\n",
    "\n",
    "kmeans = KMeans(n_clusters=6, random_state = 42).fit(X)\n",
    "scaled_df['numeric_labels'] = kmeans.labels_\n",
    "X1 = scaled_df[numeric_list]\n",
    "y1 = scaled_df.numeric_labels\n",
    "RF1 = RandomForestClassifier(n_estimators = 100)\n",
    "RF1.fit(X1,y1)\n",
    "pd.DataFrame(RF1.feature_importances_)"
   ]
  },
  {
   "cell_type": "markdown",
   "metadata": {},
   "source": [
    "- kmodes : kmodes 는 k 갯수를 정하는 방법론이 없어서 k를 여러개 해서 importance를 살표보았다."
   ]
  },
  {
   "cell_type": "code",
   "execution_count": 34,
   "metadata": {
    "collapsed": true
   },
   "outputs": [],
   "source": [
    "categoric_list = ['DVC_CTG_NM', 'ZON_NM', 'CLNT_GENDER', 'CLNT_AGE']"
   ]
  },
  {
   "cell_type": "code",
   "execution_count": 36,
   "metadata": {
    "collapsed": true
   },
   "outputs": [],
   "source": [
    "from kmodes.kmodes import KModes\n",
    "\n",
    "X = np.array(cluster_df[categoric_list])\n",
    "imp_list2 = list()\n",
    "for k in  [2,3,4,5,6,7]:\n",
    "    kmodes = KModes(n_clusters=k, init='Huang',n_init=2).fit(X)\n",
    "    cluster_df['categoric_labels'] = kmodes.labels_\n",
    "    X2 = cluster_df[categoric_list]\n",
    "    y2 = cluster_df.categoric_labels\n",
    "    RF2 = RandomForestClassifier(n_estimators = 100)\n",
    "    RF2.fit(X2,y2)\n",
    "    imp_list2.append(RF2.feature_importances_)"
   ]
  },
  {
   "cell_type": "code",
   "execution_count": 37,
   "metadata": {},
   "outputs": [
    {
     "data": {
      "text/html": [
       "<div>\n",
       "<style>\n",
       "    .dataframe thead tr:only-child th {\n",
       "        text-align: right;\n",
       "    }\n",
       "\n",
       "    .dataframe thead th {\n",
       "        text-align: left;\n",
       "    }\n",
       "\n",
       "    .dataframe tbody tr th {\n",
       "        vertical-align: top;\n",
       "    }\n",
       "</style>\n",
       "<table border=\"1\" class=\"dataframe\">\n",
       "  <thead>\n",
       "    <tr style=\"text-align: right;\">\n",
       "      <th></th>\n",
       "      <th>DVC_CTG_NM</th>\n",
       "      <th>ZON_NM</th>\n",
       "      <th>CLNT_GENDER</th>\n",
       "      <th>CLNT_AGE</th>\n",
       "    </tr>\n",
       "  </thead>\n",
       "  <tbody>\n",
       "    <tr>\n",
       "      <th>0</th>\n",
       "      <td>0.001342</td>\n",
       "      <td>0.433592</td>\n",
       "      <td>0.000587</td>\n",
       "      <td>0.564479</td>\n",
       "    </tr>\n",
       "    <tr>\n",
       "      <th>1</th>\n",
       "      <td>0.001070</td>\n",
       "      <td>0.336095</td>\n",
       "      <td>0.000398</td>\n",
       "      <td>0.662436</td>\n",
       "    </tr>\n",
       "    <tr>\n",
       "      <th>2</th>\n",
       "      <td>0.001035</td>\n",
       "      <td>0.496796</td>\n",
       "      <td>0.000351</td>\n",
       "      <td>0.501818</td>\n",
       "    </tr>\n",
       "    <tr>\n",
       "      <th>3</th>\n",
       "      <td>0.001420</td>\n",
       "      <td>0.563965</td>\n",
       "      <td>0.086555</td>\n",
       "      <td>0.348061</td>\n",
       "    </tr>\n",
       "    <tr>\n",
       "      <th>4</th>\n",
       "      <td>0.212091</td>\n",
       "      <td>0.414820</td>\n",
       "      <td>0.000340</td>\n",
       "      <td>0.372748</td>\n",
       "    </tr>\n",
       "    <tr>\n",
       "      <th>5</th>\n",
       "      <td>0.001362</td>\n",
       "      <td>0.566748</td>\n",
       "      <td>0.042804</td>\n",
       "      <td>0.389086</td>\n",
       "    </tr>\n",
       "  </tbody>\n",
       "</table>\n",
       "</div>"
      ],
      "text/plain": [
       "   DVC_CTG_NM    ZON_NM  CLNT_GENDER  CLNT_AGE\n",
       "0    0.001342  0.433592     0.000587  0.564479\n",
       "1    0.001070  0.336095     0.000398  0.662436\n",
       "2    0.001035  0.496796     0.000351  0.501818\n",
       "3    0.001420  0.563965     0.086555  0.348061\n",
       "4    0.212091  0.414820     0.000340  0.372748\n",
       "5    0.001362  0.566748     0.042804  0.389086"
      ]
     },
     "execution_count": 37,
     "metadata": {},
     "output_type": "execute_result"
    }
   ],
   "source": [
    "pd.DataFrame(imp_list2, columns =categoric_list)"
   ]
  },
  {
   "cell_type": "code",
   "execution_count": 39,
   "metadata": {},
   "outputs": [
    {
     "data": {
      "text/plain": [
       "DVC_CTG_NM     0.036387\n",
       "ZON_NM         0.468670\n",
       "CLNT_GENDER    0.021839\n",
       "CLNT_AGE       0.473105\n",
       "dtype: float64"
      ]
     },
     "execution_count": 39,
     "metadata": {},
     "output_type": "execute_result"
    }
   ],
   "source": [
    "pd.DataFrame(imp_list2, columns =categoric_list).mean()"
   ]
  },
  {
   "cell_type": "markdown",
   "metadata": {},
   "source": [
    "## 선호지수 예시"
   ]
  },
  {
   "cell_type": "code",
   "execution_count": 6,
   "metadata": {
    "collapsed": true
   },
   "outputs": [],
   "source": [
    "score1_list = ['TOT_SESS_HR_V']\n",
    "score2_list = ['CLNT_AGE']"
   ]
  },
  {
   "cell_type": "code",
   "execution_count": 7,
   "metadata": {},
   "outputs": [
    {
     "data": {
      "text/html": [
       "<div>\n",
       "<style>\n",
       "    .dataframe thead tr:only-child th {\n",
       "        text-align: right;\n",
       "    }\n",
       "\n",
       "    .dataframe thead th {\n",
       "        text-align: left;\n",
       "    }\n",
       "\n",
       "    .dataframe tbody tr th {\n",
       "        vertical-align: top;\n",
       "    }\n",
       "</style>\n",
       "<table border=\"1\" class=\"dataframe\">\n",
       "  <thead>\n",
       "    <tr style=\"text-align: right;\">\n",
       "      <th></th>\n",
       "      <th>CLNT_ID</th>\n",
       "      <th>SESS_ID</th>\n",
       "      <th>SESS_DT</th>\n",
       "      <th>HITS_SEQ</th>\n",
       "      <th>SESS_SEQ</th>\n",
       "      <th>TOT_SESS_HR_V</th>\n",
       "      <th>PD_BUY_TO</th>\n",
       "      <th>DVC_CTG_NM</th>\n",
       "      <th>ZON_NM</th>\n",
       "      <th>CLNT_GENDER</th>\n",
       "      <th>CLNT_AGE</th>\n",
       "      <th>MONTH</th>\n",
       "      <th>DAY</th>\n",
       "      <th>WEEKDAY</th>\n",
       "      <th>SEARCH_CNT</th>\n",
       "      <th>ONE_PAG_HR_V</th>\n",
       "    </tr>\n",
       "  </thead>\n",
       "  <tbody>\n",
       "    <tr>\n",
       "      <th>0</th>\n",
       "      <td>8</td>\n",
       "      <td>6964877</td>\n",
       "      <td>20180606</td>\n",
       "      <td>40.0</td>\n",
       "      <td>7.0</td>\n",
       "      <td>366.0</td>\n",
       "      <td>38000</td>\n",
       "      <td>mobile</td>\n",
       "      <td>Gyeonggi-do</td>\n",
       "      <td>M</td>\n",
       "      <td>young</td>\n",
       "      <td>6</td>\n",
       "      <td>first</td>\n",
       "      <td>2</td>\n",
       "      <td>0</td>\n",
       "      <td>9.631579</td>\n",
       "    </tr>\n",
       "    <tr>\n",
       "      <th>1</th>\n",
       "      <td>8</td>\n",
       "      <td>7017688</td>\n",
       "      <td>20180605</td>\n",
       "      <td>74.0</td>\n",
       "      <td>2.0</td>\n",
       "      <td>468.0</td>\n",
       "      <td>38000</td>\n",
       "      <td>mobile</td>\n",
       "      <td>Seoul</td>\n",
       "      <td>M</td>\n",
       "      <td>young</td>\n",
       "      <td>6</td>\n",
       "      <td>first</td>\n",
       "      <td>1</td>\n",
       "      <td>0</td>\n",
       "      <td>8.509091</td>\n",
       "    </tr>\n",
       "    <tr>\n",
       "      <th>2</th>\n",
       "      <td>14</td>\n",
       "      <td>1156991</td>\n",
       "      <td>20180911</td>\n",
       "      <td>284.0</td>\n",
       "      <td>5.0</td>\n",
       "      <td>7098.0</td>\n",
       "      <td>69800</td>\n",
       "      <td>mobile</td>\n",
       "      <td>Gyeonggi-do</td>\n",
       "      <td>F</td>\n",
       "      <td>30.0</td>\n",
       "      <td>9</td>\n",
       "      <td>second</td>\n",
       "      <td>1</td>\n",
       "      <td>1</td>\n",
       "      <td>27.726562</td>\n",
       "    </tr>\n",
       "    <tr>\n",
       "      <th>3</th>\n",
       "      <td>32</td>\n",
       "      <td>759569</td>\n",
       "      <td>20180917</td>\n",
       "      <td>37.0</td>\n",
       "      <td>105.0</td>\n",
       "      <td>1098.0</td>\n",
       "      <td>19800</td>\n",
       "      <td>mobile</td>\n",
       "      <td>city</td>\n",
       "      <td>M</td>\n",
       "      <td>40.0</td>\n",
       "      <td>9</td>\n",
       "      <td>second</td>\n",
       "      <td>0</td>\n",
       "      <td>0</td>\n",
       "      <td>8.854839</td>\n",
       "    </tr>\n",
       "    <tr>\n",
       "      <th>4</th>\n",
       "      <td>32</td>\n",
       "      <td>1136737</td>\n",
       "      <td>20180911</td>\n",
       "      <td>72.0</td>\n",
       "      <td>99.0</td>\n",
       "      <td>2883.0</td>\n",
       "      <td>57000</td>\n",
       "      <td>mobile</td>\n",
       "      <td>city</td>\n",
       "      <td>M</td>\n",
       "      <td>40.0</td>\n",
       "      <td>9</td>\n",
       "      <td>second</td>\n",
       "      <td>1</td>\n",
       "      <td>0</td>\n",
       "      <td>35.592593</td>\n",
       "    </tr>\n",
       "  </tbody>\n",
       "</table>\n",
       "</div>"
      ],
      "text/plain": [
       "   CLNT_ID  SESS_ID   SESS_DT  HITS_SEQ  SESS_SEQ  TOT_SESS_HR_V  PD_BUY_TO  \\\n",
       "0        8  6964877  20180606      40.0       7.0          366.0      38000   \n",
       "1        8  7017688  20180605      74.0       2.0          468.0      38000   \n",
       "2       14  1156991  20180911     284.0       5.0         7098.0      69800   \n",
       "3       32   759569  20180917      37.0     105.0         1098.0      19800   \n",
       "4       32  1136737  20180911      72.0      99.0         2883.0      57000   \n",
       "\n",
       "  DVC_CTG_NM       ZON_NM CLNT_GENDER CLNT_AGE  MONTH     DAY  WEEKDAY  \\\n",
       "0     mobile  Gyeonggi-do           M    young      6   first        2   \n",
       "1     mobile        Seoul           M    young      6   first        1   \n",
       "2     mobile  Gyeonggi-do           F     30.0      9  second        1   \n",
       "3     mobile         city           M     40.0      9  second        0   \n",
       "4     mobile         city           M     40.0      9  second        1   \n",
       "\n",
       "   SEARCH_CNT  ONE_PAG_HR_V  \n",
       "0           0      9.631579  \n",
       "1           0      8.509091  \n",
       "2           1     27.726562  \n",
       "3           0      8.854839  \n",
       "4           0     35.592593  "
      ]
     },
     "execution_count": 7,
     "metadata": {},
     "output_type": "execute_result"
    }
   ],
   "source": [
    "final_df = pd.read_csv('data/time_df_RF.csv')\n",
    "final_df.head()"
   ]
  },
  {
   "cell_type": "code",
   "execution_count": 8,
   "metadata": {},
   "outputs": [
    {
     "name": "stderr",
     "output_type": "stream",
     "text": [
      "C:\\anaconda\\lib\\site-packages\\ipykernel_launcher.py:2: SettingWithCopyWarning: \n",
      "A value is trying to be set on a copy of a slice from a DataFrame\n",
      "\n",
      "See the caveats in the documentation: http://pandas.pydata.org/pandas-docs/stable/indexing.html#indexing-view-versus-copy\n",
      "  \n"
     ]
    }
   ],
   "source": [
    "temp_product = product[['CLNT_ID','SESS_ID','PD_C']]\n",
    "temp_product.drop_duplicates(inplace = True)\n",
    "\n",
    "temp_merge = pd.merge(temp_product, master[['PD_C','CLAC1_NM']], how = 'left')\n",
    "temp_merge = temp_merge[['CLNT_ID','SESS_ID','CLAC1_NM']]\n",
    "temp_merge.drop_duplicates(inplace = True)\n",
    "\n",
    "temp_count = temp_merge.groupby(['CLNT_ID','SESS_ID']).count().reset_index()\n",
    "\n",
    "association_df = pd.merge(temp_count[lambda x : x.CLAC1_NM == 1][['CLNT_ID','SESS_ID']], temp_merge, how = 'left', on = ['CLNT_ID','SESS_ID'])"
   ]
  },
  {
   "cell_type": "code",
   "execution_count": 9,
   "metadata": {},
   "outputs": [
    {
     "data": {
      "text/html": [
       "<div>\n",
       "<style>\n",
       "    .dataframe thead tr:only-child th {\n",
       "        text-align: right;\n",
       "    }\n",
       "\n",
       "    .dataframe thead th {\n",
       "        text-align: left;\n",
       "    }\n",
       "\n",
       "    .dataframe tbody tr th {\n",
       "        vertical-align: top;\n",
       "    }\n",
       "</style>\n",
       "<table border=\"1\" class=\"dataframe\">\n",
       "  <thead>\n",
       "    <tr style=\"text-align: right;\">\n",
       "      <th></th>\n",
       "      <th>CLNT_ID</th>\n",
       "      <th>SESS_ID</th>\n",
       "      <th>CLAC1_NM</th>\n",
       "    </tr>\n",
       "  </thead>\n",
       "  <tbody>\n",
       "    <tr>\n",
       "      <th>0</th>\n",
       "      <td>8</td>\n",
       "      <td>6964877</td>\n",
       "      <td>패션잡화</td>\n",
       "    </tr>\n",
       "  </tbody>\n",
       "</table>\n",
       "</div>"
      ],
      "text/plain": [
       "   CLNT_ID  SESS_ID CLAC1_NM\n",
       "0        8  6964877     패션잡화"
      ]
     },
     "execution_count": 9,
     "metadata": {},
     "output_type": "execute_result"
    }
   ],
   "source": [
    "association_df.head(1)"
   ]
  },
  {
   "cell_type": "code",
   "execution_count": 10,
   "metadata": {
    "collapsed": true
   },
   "outputs": [],
   "source": [
    "temp_df = pd.merge(association_df, final_df[score1_list + score2_list+['CLNT_ID','SESS_ID']], how = 'left', on = ['CLNT_ID','SESS_ID'])"
   ]
  },
  {
   "cell_type": "code",
   "execution_count": 11,
   "metadata": {},
   "outputs": [
    {
     "data": {
      "text/html": [
       "<div>\n",
       "<style>\n",
       "    .dataframe thead tr:only-child th {\n",
       "        text-align: right;\n",
       "    }\n",
       "\n",
       "    .dataframe thead th {\n",
       "        text-align: left;\n",
       "    }\n",
       "\n",
       "    .dataframe tbody tr th {\n",
       "        vertical-align: top;\n",
       "    }\n",
       "</style>\n",
       "<table border=\"1\" class=\"dataframe\">\n",
       "  <thead>\n",
       "    <tr style=\"text-align: right;\">\n",
       "      <th></th>\n",
       "      <th>CLNT_ID</th>\n",
       "      <th>SESS_ID</th>\n",
       "      <th>CLAC1_NM</th>\n",
       "      <th>TOT_SESS_HR_V</th>\n",
       "      <th>CLNT_AGE</th>\n",
       "    </tr>\n",
       "  </thead>\n",
       "  <tbody>\n",
       "    <tr>\n",
       "      <th>0</th>\n",
       "      <td>8</td>\n",
       "      <td>6964877</td>\n",
       "      <td>패션잡화</td>\n",
       "      <td>366.0</td>\n",
       "      <td>young</td>\n",
       "    </tr>\n",
       "  </tbody>\n",
       "</table>\n",
       "</div>"
      ],
      "text/plain": [
       "   CLNT_ID  SESS_ID CLAC1_NM  TOT_SESS_HR_V CLNT_AGE\n",
       "0        8  6964877     패션잡화          366.0    young"
      ]
     },
     "execution_count": 11,
     "metadata": {},
     "output_type": "execute_result"
    }
   ],
   "source": [
    "temp_df.head(1)"
   ]
  },
  {
   "cell_type": "markdown",
   "metadata": {},
   "source": [
    "### 소비자 행동지수"
   ]
  },
  {
   "cell_type": "code",
   "execution_count": 12,
   "metadata": {
    "collapsed": true
   },
   "outputs": [],
   "source": [
    "def 행동선호지수(tot_sess_hr_v) : \n",
    "    \n",
    "    temp_score1 = temp_df.groupby('CLAC1_NM')[score1_list].mean().reset_index()\n",
    "    \n",
    "    def score_TOT_SESS_HR_V(tot_sess_hr_v):\n",
    "        cut2 = temp_score1['TOT_SESS_HR_V'].quantile(0.20) \n",
    "        cut1 = temp_score1['TOT_SESS_HR_V'].quantile(0.80)\n",
    "        \n",
    "        if tot_sess_hr_v > cut1: \n",
    "            return temp_score1[lambda x: x.TOT_SESS_HR_V > cut1].CLAC1_NM.tolist()\n",
    "        elif (tot_sess_hr_v > cut2 and tot_sess_hr_v < cut1) :\n",
    "            return temp_score1[lambda x: cut2 < x.TOT_SESS_HR_V < cut1].CLAC1_NM.tolist()\n",
    "        else : \n",
    "            return temp_score1[lambda x: x.TOT_SESS_HR_V < cut2].CLAC1_NM.tolist()\n",
    "    \n",
    "    def score1(x):\n",
    "        if x in TOT_SESS_HR_V_list: return 1\n",
    "        else : return 0\n",
    "        \n",
    "    TOT_SESS_HR_V_list = score_TOT_SESS_HR_V(tot_sess_hr_v)\n",
    "    \n",
    "    temp_score1['행동선호지수'] = temp_score1.CLAC1_NM.map(score1)\n",
    "    \n",
    "    return temp_score1.sort_values('행동선호지수', ascending = False).reset_index(drop=True)"
   ]
  },
  {
   "cell_type": "code",
   "execution_count": 19,
   "metadata": {
    "scrolled": false
   },
   "outputs": [
    {
     "data": {
      "text/html": [
       "<div>\n",
       "<style>\n",
       "    .dataframe thead tr:only-child th {\n",
       "        text-align: right;\n",
       "    }\n",
       "\n",
       "    .dataframe thead th {\n",
       "        text-align: left;\n",
       "    }\n",
       "\n",
       "    .dataframe tbody tr th {\n",
       "        vertical-align: top;\n",
       "    }\n",
       "</style>\n",
       "<table border=\"1\" class=\"dataframe\">\n",
       "  <thead>\n",
       "    <tr style=\"text-align: right;\">\n",
       "      <th></th>\n",
       "      <th>CLAC1_NM</th>\n",
       "      <th>TOT_SESS_HR_V</th>\n",
       "      <th>행동선호지수</th>\n",
       "    </tr>\n",
       "  </thead>\n",
       "  <tbody>\n",
       "    <tr>\n",
       "      <th>0</th>\n",
       "      <td>완구</td>\n",
       "      <td>991.131129</td>\n",
       "      <td>1</td>\n",
       "    </tr>\n",
       "  </tbody>\n",
       "</table>\n",
       "</div>"
      ],
      "text/plain": [
       "  CLAC1_NM  TOT_SESS_HR_V  행동선호지수\n",
       "0       완구     991.131129       1"
      ]
     },
     "execution_count": 19,
     "metadata": {},
     "output_type": "execute_result"
    }
   ],
   "source": [
    "행동선호지수(366.0).head(1)"
   ]
  },
  {
   "cell_type": "markdown",
   "metadata": {},
   "source": [
    "### 소비자 상태지수"
   ]
  },
  {
   "cell_type": "code",
   "execution_count": 14,
   "metadata": {
    "collapsed": true
   },
   "outputs": [],
   "source": [
    "def 상태선호지수(clnt_age):\n",
    "    \n",
    "    age_ = temp_df.groupby('CLNT_AGE')['CLAC1_NM'].value_counts() / temp_df.groupby('CLNT_AGE')['CLAC1_NM'].count()\n",
    "    age_df = pd.DataFrame(age_)\n",
    "    age_df.columns = ['비율']\n",
    "    age_df.reset_index(inplace = True)\n",
    "    temp_score2 = age_df[age_df.CLNT_AGE == clnt_age].sort_values('비율', ascending = False).reset_index(drop = True)\n",
    "    age_list = temp_score2.CLAC1_NM[:7].tolist()\n",
    "\n",
    "    def score2(x):\n",
    "        if x in age_list: return 1\n",
    "        else : return 0\n",
    "        \n",
    "    temp_score2['상태선호지수'] = temp_score2.CLAC1_NM.map(score2)\n",
    "    return temp_score2"
   ]
  },
  {
   "cell_type": "code",
   "execution_count": 15,
   "metadata": {},
   "outputs": [
    {
     "data": {
      "text/html": [
       "<div>\n",
       "<style>\n",
       "    .dataframe thead tr:only-child th {\n",
       "        text-align: right;\n",
       "    }\n",
       "\n",
       "    .dataframe thead th {\n",
       "        text-align: left;\n",
       "    }\n",
       "\n",
       "    .dataframe tbody tr th {\n",
       "        vertical-align: top;\n",
       "    }\n",
       "</style>\n",
       "<table border=\"1\" class=\"dataframe\">\n",
       "  <thead>\n",
       "    <tr style=\"text-align: right;\">\n",
       "      <th></th>\n",
       "      <th>CLNT_AGE</th>\n",
       "      <th>CLAC1_NM</th>\n",
       "      <th>비율</th>\n",
       "      <th>상태선호지수</th>\n",
       "    </tr>\n",
       "  </thead>\n",
       "  <tbody>\n",
       "    <tr>\n",
       "      <th>0</th>\n",
       "      <td>young</td>\n",
       "      <td>화장품/뷰티케어</td>\n",
       "      <td>0.26789</td>\n",
       "      <td>1</td>\n",
       "    </tr>\n",
       "  </tbody>\n",
       "</table>\n",
       "</div>"
      ],
      "text/plain": [
       "  CLNT_AGE  CLAC1_NM       비율  상태선호지수\n",
       "0    young  화장품/뷰티케어  0.26789       1"
      ]
     },
     "execution_count": 15,
     "metadata": {},
     "output_type": "execute_result"
    }
   ],
   "source": [
    "상태선호지수('young').head(1)"
   ]
  },
  {
   "cell_type": "markdown",
   "metadata": {},
   "source": [
    "### 소비자 구매지수"
   ]
  },
  {
   "cell_type": "code",
   "execution_count": 16,
   "metadata": {
    "collapsed": true
   },
   "outputs": [],
   "source": [
    "def 상품군구매지수(product):\n",
    "    temp_score3 = pd.DataFrame(np.arange(len(master.CLAC1_NM.unique())),master.CLAC1_NM.unique())\n",
    "    temp_score3.reset_index(inplace = True)\n",
    "    temp_score3.columns = ['CLAC1_NM', 'score3_final']      \n",
    "\n",
    "    def score3(x):\n",
    "        if x == product : return 1\n",
    "        else : return 0\n",
    "\n",
    "    temp_score3['상품군구매지수'] = temp_score3.CLAC1_NM.map(score3)\n",
    "    return temp_score3[['CLAC1_NM', '상품군구매지수']]"
   ]
  },
  {
   "cell_type": "code",
   "execution_count": 17,
   "metadata": {},
   "outputs": [
    {
     "data": {
      "text/html": [
       "<div>\n",
       "<style>\n",
       "    .dataframe thead tr:only-child th {\n",
       "        text-align: right;\n",
       "    }\n",
       "\n",
       "    .dataframe thead th {\n",
       "        text-align: left;\n",
       "    }\n",
       "\n",
       "    .dataframe tbody tr th {\n",
       "        vertical-align: top;\n",
       "    }\n",
       "</style>\n",
       "<table border=\"1\" class=\"dataframe\">\n",
       "  <thead>\n",
       "    <tr style=\"text-align: right;\">\n",
       "      <th></th>\n",
       "      <th>CLAC1_NM</th>\n",
       "      <th>상품군구매지수</th>\n",
       "    </tr>\n",
       "  </thead>\n",
       "  <tbody>\n",
       "    <tr>\n",
       "      <th>0</th>\n",
       "      <td>스포츠패션</td>\n",
       "      <td>0</td>\n",
       "    </tr>\n",
       "  </tbody>\n",
       "</table>\n",
       "</div>"
      ],
      "text/plain": [
       "  CLAC1_NM  상품군구매지수\n",
       "0    스포츠패션        0"
      ]
     },
     "execution_count": 17,
     "metadata": {},
     "output_type": "execute_result"
    }
   ],
   "source": [
    "상품군구매지수('패션잡화').head(1)"
   ]
  },
  {
   "cell_type": "markdown",
   "metadata": {},
   "source": [
    "### 상품군선호지수"
   ]
  },
  {
   "cell_type": "code",
   "execution_count": 20,
   "metadata": {
    "collapsed": true
   },
   "outputs": [],
   "source": [
    "def 상품군선호지수(tot_sess_hr_v,clnt_age,product):\n",
    "    \n",
    "    def 소비자행동지수(tot_sess_hr_v) : \n",
    "        temp_score1 = temp_df.groupby('CLAC1_NM')[score1_list].mean().reset_index()\n",
    "        def score_TOT_SESS_HR_V(tot_sess_hr_v):\n",
    "            cut2 = temp_score1['TOT_SESS_HR_V'].quantile(0.20) \n",
    "            cut1 = temp_score1['TOT_SESS_HR_V'].quantile(0.80)\n",
    "            if tot_sess_hr_v > cut1: \n",
    "                return temp_score1[lambda x: x.TOT_SESS_HR_V > cut1].CLAC1_NM.tolist()\n",
    "            elif (tot_sess_hr_v > cut2 and tot_sess_hr_v < cut1) :\n",
    "                return temp_score1[lambda x: cut2 < x.TOT_SESS_HR_V < cut1].CLAC1_NM.tolist()\n",
    "            else : \n",
    "                return temp_score1[lambda x: x.TOT_SESS_HR_V < cut2].CLAC1_NM.tolist()\n",
    "        def score1(x):\n",
    "            if x in TOT_SESS_HR_V_list: return 1\n",
    "            else : return 0\n",
    "        TOT_SESS_HR_V_list = score_TOT_SESS_HR_V(tot_sess_hr_v)\n",
    "        temp_score1['소비자행동지수'] = temp_score1.CLAC1_NM.map(score1)\n",
    "        return temp_score1.sort_values('소비자행동지수', ascending = False).reset_index(drop=True)\n",
    "\n",
    "    def 소비자상태지수(clnt_age):\n",
    "        age_ = temp_df.groupby('CLNT_AGE')['CLAC1_NM'].value_counts() / temp_df.groupby('CLNT_AGE')['CLAC1_NM'].count()\n",
    "        age_df = pd.DataFrame(age_)\n",
    "        age_df.columns = ['비율']\n",
    "        age_df.reset_index(inplace = True)\n",
    "        temp_score2 = age_df[age_df.CLNT_AGE == clnt_age].sort_values('비율', ascending = False).reset_index(drop = True)\n",
    "        age_list = temp_score2.CLAC1_NM[:7].tolist()\n",
    "        def score2(x):\n",
    "            if x in age_list: return 1\n",
    "            else : return 0\n",
    "        temp_score2['소비자상태지수'] = temp_score2.CLAC1_NM.map(score2)\n",
    "        return temp_score2\n",
    "    \n",
    "    def 소비자구매지수(product):\n",
    "        temp_score3 = pd.DataFrame(np.arange(len(master.CLAC1_NM.unique())),master.CLAC1_NM.unique())\n",
    "        temp_score3.reset_index(inplace = True)\n",
    "        temp_score3.columns = ['CLAC1_NM', 'score3_final']      \n",
    "        def score3(x):\n",
    "            if x == product : return 1\n",
    "            else : return 0\n",
    "        temp_score3['소비자구매지수'] = temp_score3.CLAC1_NM.map(score3)\n",
    "        return temp_score3[['CLAC1_NM', '소비자구매지수']]\n",
    "\n",
    "    df1 = 소비자행동지수(tot_sess_hr_v)\n",
    "    df2 = 소비자상태지수(clnt_age)\n",
    "    df3 = 소비자구매지수(product)\n",
    "    \n",
    "    df = pd.merge(df1, df2, on = 'CLAC1_NM')\n",
    "    df = pd.merge(df, df3, on = 'CLAC1_NM')\n",
    "    df = df[['CLAC1_NM','소비자행동지수','소비자상태지수','소비자구매지수']]\n",
    "    df['상품군선호지수'] = df.소비자행동지수 * 0.25 + df.소비자상태지수 * 0.25 + df.소비자구매지수 * 0.5\n",
    "    return df.sort_values('상품군선호지수', ascending = False)"
   ]
  },
  {
   "cell_type": "code",
   "execution_count": 21,
   "metadata": {},
   "outputs": [
    {
     "data": {
      "text/html": [
       "<div>\n",
       "<style>\n",
       "    .dataframe thead tr:only-child th {\n",
       "        text-align: right;\n",
       "    }\n",
       "\n",
       "    .dataframe thead th {\n",
       "        text-align: left;\n",
       "    }\n",
       "\n",
       "    .dataframe tbody tr th {\n",
       "        vertical-align: top;\n",
       "    }\n",
       "</style>\n",
       "<table border=\"1\" class=\"dataframe\">\n",
       "  <thead>\n",
       "    <tr style=\"text-align: right;\">\n",
       "      <th></th>\n",
       "      <th>CLAC1_NM</th>\n",
       "      <th>소비자행동지수</th>\n",
       "      <th>소비자상태지수</th>\n",
       "      <th>소비자구매지수</th>\n",
       "      <th>상품군선호지수</th>\n",
       "    </tr>\n",
       "  </thead>\n",
       "  <tbody>\n",
       "    <tr>\n",
       "      <th>17</th>\n",
       "      <td>패션잡화</td>\n",
       "      <td>0</td>\n",
       "      <td>1</td>\n",
       "      <td>1</td>\n",
       "      <td>0.75</td>\n",
       "    </tr>\n",
       "    <tr>\n",
       "      <th>2</th>\n",
       "      <td>퍼스널케어</td>\n",
       "      <td>1</td>\n",
       "      <td>1</td>\n",
       "      <td>0</td>\n",
       "      <td>0.50</td>\n",
       "    </tr>\n",
       "    <tr>\n",
       "      <th>0</th>\n",
       "      <td>완구</td>\n",
       "      <td>1</td>\n",
       "      <td>0</td>\n",
       "      <td>0</td>\n",
       "      <td>0.25</td>\n",
       "    </tr>\n",
       "    <tr>\n",
       "      <th>32</th>\n",
       "      <td>남성의류</td>\n",
       "      <td>0</td>\n",
       "      <td>1</td>\n",
       "      <td>0</td>\n",
       "      <td>0.25</td>\n",
       "    </tr>\n",
       "    <tr>\n",
       "      <th>26</th>\n",
       "      <td>속옷/양말/홈웨어</td>\n",
       "      <td>0</td>\n",
       "      <td>1</td>\n",
       "      <td>0</td>\n",
       "      <td>0.25</td>\n",
       "    </tr>\n",
       "    <tr>\n",
       "      <th>25</th>\n",
       "      <td>스포츠패션</td>\n",
       "      <td>0</td>\n",
       "      <td>1</td>\n",
       "      <td>0</td>\n",
       "      <td>0.25</td>\n",
       "    </tr>\n",
       "    <tr>\n",
       "      <th>21</th>\n",
       "      <td>여성의류</td>\n",
       "      <td>0</td>\n",
       "      <td>1</td>\n",
       "      <td>0</td>\n",
       "      <td>0.25</td>\n",
       "    </tr>\n",
       "    <tr>\n",
       "      <th>1</th>\n",
       "      <td>세제/위생</td>\n",
       "      <td>1</td>\n",
       "      <td>0</td>\n",
       "      <td>0</td>\n",
       "      <td>0.25</td>\n",
       "    </tr>\n",
       "    <tr>\n",
       "      <th>36</th>\n",
       "      <td>화장품/뷰티케어</td>\n",
       "      <td>0</td>\n",
       "      <td>1</td>\n",
       "      <td>0</td>\n",
       "      <td>0.25</td>\n",
       "    </tr>\n",
       "    <tr>\n",
       "      <th>3</th>\n",
       "      <td>컴퓨터</td>\n",
       "      <td>1</td>\n",
       "      <td>0</td>\n",
       "      <td>0</td>\n",
       "      <td>0.25</td>\n",
       "    </tr>\n",
       "    <tr>\n",
       "      <th>7</th>\n",
       "      <td>상품권</td>\n",
       "      <td>1</td>\n",
       "      <td>0</td>\n",
       "      <td>0</td>\n",
       "      <td>0.25</td>\n",
       "    </tr>\n",
       "    <tr>\n",
       "      <th>6</th>\n",
       "      <td>냉장식품</td>\n",
       "      <td>1</td>\n",
       "      <td>0</td>\n",
       "      <td>0</td>\n",
       "      <td>0.25</td>\n",
       "    </tr>\n",
       "    <tr>\n",
       "      <th>4</th>\n",
       "      <td>음료</td>\n",
       "      <td>1</td>\n",
       "      <td>0</td>\n",
       "      <td>0</td>\n",
       "      <td>0.25</td>\n",
       "    </tr>\n",
       "    <tr>\n",
       "      <th>5</th>\n",
       "      <td>출산/육아용품</td>\n",
       "      <td>1</td>\n",
       "      <td>0</td>\n",
       "      <td>0</td>\n",
       "      <td>0.25</td>\n",
       "    </tr>\n",
       "    <tr>\n",
       "      <th>9</th>\n",
       "      <td>유아동의류</td>\n",
       "      <td>0</td>\n",
       "      <td>0</td>\n",
       "      <td>0</td>\n",
       "      <td>0.00</td>\n",
       "    </tr>\n",
       "    <tr>\n",
       "      <th>24</th>\n",
       "      <td>시즌스포츠</td>\n",
       "      <td>0</td>\n",
       "      <td>0</td>\n",
       "      <td>0</td>\n",
       "      <td>0.00</td>\n",
       "    </tr>\n",
       "    <tr>\n",
       "      <th>35</th>\n",
       "      <td>계절가전</td>\n",
       "      <td>0</td>\n",
       "      <td>0</td>\n",
       "      <td>0</td>\n",
       "      <td>0.00</td>\n",
       "    </tr>\n",
       "    <tr>\n",
       "      <th>34</th>\n",
       "      <td>과일</td>\n",
       "      <td>0</td>\n",
       "      <td>0</td>\n",
       "      <td>0</td>\n",
       "      <td>0.00</td>\n",
       "    </tr>\n",
       "    <tr>\n",
       "      <th>33</th>\n",
       "      <td>구기/필드스포츠</td>\n",
       "      <td>0</td>\n",
       "      <td>0</td>\n",
       "      <td>0</td>\n",
       "      <td>0.00</td>\n",
       "    </tr>\n",
       "    <tr>\n",
       "      <th>31</th>\n",
       "      <td>냉동식품</td>\n",
       "      <td>0</td>\n",
       "      <td>0</td>\n",
       "      <td>0</td>\n",
       "      <td>0.00</td>\n",
       "    </tr>\n",
       "    <tr>\n",
       "      <th>30</th>\n",
       "      <td>냉장/세탁가전</td>\n",
       "      <td>0</td>\n",
       "      <td>0</td>\n",
       "      <td>0</td>\n",
       "      <td>0.00</td>\n",
       "    </tr>\n",
       "    <tr>\n",
       "      <th>29</th>\n",
       "      <td>모바일</td>\n",
       "      <td>0</td>\n",
       "      <td>0</td>\n",
       "      <td>0</td>\n",
       "      <td>0.00</td>\n",
       "    </tr>\n",
       "    <tr>\n",
       "      <th>28</th>\n",
       "      <td>문구/사무용품</td>\n",
       "      <td>0</td>\n",
       "      <td>0</td>\n",
       "      <td>0</td>\n",
       "      <td>0.00</td>\n",
       "    </tr>\n",
       "    <tr>\n",
       "      <th>27</th>\n",
       "      <td>생활/주방가전</td>\n",
       "      <td>0</td>\n",
       "      <td>0</td>\n",
       "      <td>0</td>\n",
       "      <td>0.00</td>\n",
       "    </tr>\n",
       "    <tr>\n",
       "      <th>23</th>\n",
       "      <td>식기/조리기구</td>\n",
       "      <td>0</td>\n",
       "      <td>0</td>\n",
       "      <td>0</td>\n",
       "      <td>0.00</td>\n",
       "    </tr>\n",
       "    <tr>\n",
       "      <th>10</th>\n",
       "      <td>인테리어/조명</td>\n",
       "      <td>0</td>\n",
       "      <td>0</td>\n",
       "      <td>0</td>\n",
       "      <td>0.00</td>\n",
       "    </tr>\n",
       "    <tr>\n",
       "      <th>22</th>\n",
       "      <td>건강식품</td>\n",
       "      <td>0</td>\n",
       "      <td>0</td>\n",
       "      <td>0</td>\n",
       "      <td>0.00</td>\n",
       "    </tr>\n",
       "    <tr>\n",
       "      <th>20</th>\n",
       "      <td>아웃도어/레저</td>\n",
       "      <td>0</td>\n",
       "      <td>0</td>\n",
       "      <td>0</td>\n",
       "      <td>0.00</td>\n",
       "    </tr>\n",
       "    <tr>\n",
       "      <th>19</th>\n",
       "      <td>청소/세탁/욕실용품</td>\n",
       "      <td>0</td>\n",
       "      <td>0</td>\n",
       "      <td>0</td>\n",
       "      <td>0.00</td>\n",
       "    </tr>\n",
       "    <tr>\n",
       "      <th>8</th>\n",
       "      <td>원예/애완</td>\n",
       "      <td>0</td>\n",
       "      <td>0</td>\n",
       "      <td>0</td>\n",
       "      <td>0.00</td>\n",
       "    </tr>\n",
       "    <tr>\n",
       "      <th>16</th>\n",
       "      <td>침구/수예</td>\n",
       "      <td>0</td>\n",
       "      <td>0</td>\n",
       "      <td>0</td>\n",
       "      <td>0.00</td>\n",
       "    </tr>\n",
       "    <tr>\n",
       "      <th>15</th>\n",
       "      <td>축산물</td>\n",
       "      <td>0</td>\n",
       "      <td>0</td>\n",
       "      <td>0</td>\n",
       "      <td>0.00</td>\n",
       "    </tr>\n",
       "    <tr>\n",
       "      <th>14</th>\n",
       "      <td>영상/음향가전</td>\n",
       "      <td>0</td>\n",
       "      <td>0</td>\n",
       "      <td>0</td>\n",
       "      <td>0.00</td>\n",
       "    </tr>\n",
       "    <tr>\n",
       "      <th>13</th>\n",
       "      <td>주방잡화</td>\n",
       "      <td>0</td>\n",
       "      <td>0</td>\n",
       "      <td>0</td>\n",
       "      <td>0.00</td>\n",
       "    </tr>\n",
       "    <tr>\n",
       "      <th>12</th>\n",
       "      <td>가구</td>\n",
       "      <td>0</td>\n",
       "      <td>0</td>\n",
       "      <td>0</td>\n",
       "      <td>0.00</td>\n",
       "    </tr>\n",
       "    <tr>\n",
       "      <th>11</th>\n",
       "      <td>자동차용품</td>\n",
       "      <td>0</td>\n",
       "      <td>0</td>\n",
       "      <td>0</td>\n",
       "      <td>0.00</td>\n",
       "    </tr>\n",
       "    <tr>\n",
       "      <th>18</th>\n",
       "      <td>헬스/피트니스</td>\n",
       "      <td>0</td>\n",
       "      <td>0</td>\n",
       "      <td>0</td>\n",
       "      <td>0.00</td>\n",
       "    </tr>\n",
       "  </tbody>\n",
       "</table>\n",
       "</div>"
      ],
      "text/plain": [
       "      CLAC1_NM  소비자행동지수  소비자상태지수  소비자구매지수  상품군선호지수\n",
       "17        패션잡화        0        1        1     0.75\n",
       "2        퍼스널케어        1        1        0     0.50\n",
       "0           완구        1        0        0     0.25\n",
       "32        남성의류        0        1        0     0.25\n",
       "26   속옷/양말/홈웨어        0        1        0     0.25\n",
       "25       스포츠패션        0        1        0     0.25\n",
       "21        여성의류        0        1        0     0.25\n",
       "1        세제/위생        1        0        0     0.25\n",
       "36    화장품/뷰티케어        0        1        0     0.25\n",
       "3          컴퓨터        1        0        0     0.25\n",
       "7          상품권        1        0        0     0.25\n",
       "6         냉장식품        1        0        0     0.25\n",
       "4           음료        1        0        0     0.25\n",
       "5      출산/육아용품        1        0        0     0.25\n",
       "9        유아동의류        0        0        0     0.00\n",
       "24       시즌스포츠        0        0        0     0.00\n",
       "35        계절가전        0        0        0     0.00\n",
       "34          과일        0        0        0     0.00\n",
       "33    구기/필드스포츠        0        0        0     0.00\n",
       "31        냉동식품        0        0        0     0.00\n",
       "30     냉장/세탁가전        0        0        0     0.00\n",
       "29         모바일        0        0        0     0.00\n",
       "28     문구/사무용품        0        0        0     0.00\n",
       "27     생활/주방가전        0        0        0     0.00\n",
       "23     식기/조리기구        0        0        0     0.00\n",
       "10     인테리어/조명        0        0        0     0.00\n",
       "22        건강식품        0        0        0     0.00\n",
       "20     아웃도어/레저        0        0        0     0.00\n",
       "19  청소/세탁/욕실용품        0        0        0     0.00\n",
       "8        원예/애완        0        0        0     0.00\n",
       "16       침구/수예        0        0        0     0.00\n",
       "15         축산물        0        0        0     0.00\n",
       "14     영상/음향가전        0        0        0     0.00\n",
       "13        주방잡화        0        0        0     0.00\n",
       "12          가구        0        0        0     0.00\n",
       "11       자동차용품        0        0        0     0.00\n",
       "18     헬스/피트니스        0        0        0     0.00"
      ]
     },
     "execution_count": 21,
     "metadata": {},
     "output_type": "execute_result"
    }
   ],
   "source": [
    "상품군선호지수(366,'young','패션잡화')"
   ]
  }
 ],
 "metadata": {
  "kernelspec": {
   "display_name": "Python 3",
   "language": "python",
   "name": "python3"
  },
  "language_info": {
   "codemirror_mode": {
    "name": "ipython",
    "version": 3
   },
   "file_extension": ".py",
   "mimetype": "text/x-python",
   "name": "python",
   "nbconvert_exporter": "python",
   "pygments_lexer": "ipython3",
   "version": "3.6.3"
  }
 },
 "nbformat": 4,
 "nbformat_minor": 2
}
