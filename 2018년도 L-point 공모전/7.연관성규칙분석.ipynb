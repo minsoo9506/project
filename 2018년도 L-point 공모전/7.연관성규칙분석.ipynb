{
 "cells": [
  {
   "cell_type": "code",
   "execution_count": 2,
   "metadata": {
    "collapsed": true
   },
   "outputs": [],
   "source": [
    "import pandas as pd\n",
    "import numpy as np\n",
    "import matplotlib.pyplot as plt\n",
    "import seaborn as sns\n",
    "\n",
    "%matplotlib inline\n",
    "\n",
    "pd.set_option('display.max_columns',999)"
   ]
  },
  {
   "cell_type": "code",
   "execution_count": 31,
   "metadata": {
    "collapsed": true
   },
   "outputs": [],
   "source": [
    "# temp_product = product[['CLNT_ID','SESS_ID','PD_C']]\n",
    "# temp_product.drop_duplicates(inplace = True)\n",
    "\n",
    "# temp_merge = pd.merge(temp_product, master[['PD_C','CLAC1_NM']], how = 'left')\n",
    "# temp_merge = temp_merge[['CLNT_ID','SESS_ID','CLAC1_NM']]\n",
    "# temp_merge.drop_duplicates(inplace = True)\n",
    "\n",
    "# temp_count = temp_merge.groupby(['CLNT_ID','SESS_ID']).count().reset_index()\n",
    "\n",
    "# association_df = pd.merge(temp_count[lambda x : x.CLAC1_NM > 1][['CLNT_ID','SESS_ID']], temp_merge, how = 'left', on = ['CLNT_ID','SESS_ID'])\n",
    "\n",
    "# association_dummydf = pd.get_dummies(association_df, prefix = 'CLAC1_NM').groupby(['CLNT_ID','SESS_ID']).sum()\n",
    "# association_dummydf.to_csv('data/association_dummydf.csv',  index = False)"
   ]
  },
  {
   "cell_type": "markdown",
   "metadata": {},
   "source": [
    "### 상품군을 동시에 1개 이상 구매한 경우 : df 만들기"
   ]
  },
  {
   "cell_type": "markdown",
   "metadata": {},
   "source": [
    "# 연관규칙 분석"
   ]
  },
  {
   "cell_type": "markdown",
   "metadata": {},
   "source": [
    "<연관성 규칙 분석>\n",
    "- 특정 제품, 사건들이 동시에 발생하는 패턴을 파악하는데 이용\n",
    "- 단, 인과관계는 아님"
   ]
  },
  {
   "cell_type": "markdown",
   "metadata": {},
   "source": [
    "< 적용 분야 >\n",
    "- 교차 판매, 상품진열, 보험 부정행위 적발 등등\n",
    "\n",
    "< 연관성 규칙 결과 유형 >\n",
    "- useful result : 마케팅 전략상 유용한 결과가 나온 경우\n",
    "- triivalresult : 기존의 마케팅 전략에 의해 연관성이 높게 나온 경우\n",
    "- inexplicable result : 의미를 발견하기 위해 많은 고민이 필요한 경우\n",
    "\n",
    "< 연관성규칙 생성 과정 >\n",
    "- 최소지지도를 기준으로 상품묶음 명단을 정하고, 명단 모두 신뢰도를 계산하여 어떤 놈이 선행이 되는 것인지 판단하여 규칙을 생성하고 강도 판단, 향상도를 통해 해당 규칙 판단\n",
    "\n",
    "1단계 : 지지도\n",
    "- 빈발항목집합들(frequent item sets)에 기초하여 후보규칙들의 집합결정\n",
    "- 대표 알고리즘 : Apriori\n",
    "- 전체 구매중 얘가 구매에 포함되어 있을 확률\n",
    "    \n",
    "2단계 : 신뢰도\n",
    "- 연관 규칙의 강도\n",
    "- A를 구매한 경우, 이 중에서 얼마나 항목 B를 구매할 것인지를 의미\n",
    "(지지도는 같이 사는 놈들을 걸러준다면 신뢰도는 같이 살 때 어떤 놈이 선행되서 사는 것인지 판단)\n",
    "\n",
    "3단계 : 향상도\n",
    "- 향상도 > 1 : 두 품목이 서로 양의 상관관계\n",
    "- 향상도 < 1 : 두 품목이 서로 음의 상관관계\n",
    "- 향상도 = 1 : 두 품목이 서로 독립\n",
    "<br>\n",
    "\n",
    "< 확률모형 >\n",
    "A->B 를 if A then B라는 연관규칙이라고 하면,\n",
    "- 지지도(support) s(A→B) \n",
    "= A와 B를 동시에 포함하는 거래 수 / 전체 거래 수  = P(A∩B)\n",
    "- 신뢰도(Confidence) c(A→B) \n",
    "= A와 B를 동시에 포함하는 거래 수 / A가 포함된 거래 수 =  P(A∩B) / P(A) = 지지도/P(A)\n",
    "- 향상도(Lift)\n",
    "= A와 B를 동시에 포함할 확률 / A의 확률 * B의 확률 = P(A∩B) / P(A)*P(B)  = P (B|A) / P (B) = 신뢰도 / P(B)\n",
    "\n",
    "<예시> \n",
    "맥주 -> 콜라 : 지지도 = 0.5, 신뢰도 = 1, 향상도 = 1.5\n",
    "- 지지도 : 맥주와 콜라를 동시에 구매한 사람은 전체구매 중 0.5\n",
    "- 신뢰도 : 맥주를 구매한 사람들은 모두 콜라도 같이 구매\n",
    "- 향상도 : 맥주 구매시 콜라를 구입하게 될 가능성은 그냥 콜라를 구매할 때 보다 1.5배 높아짐"
   ]
  },
  {
   "cell_type": "markdown",
   "metadata": {},
   "source": [
    "<순차패턴분석>\n",
    "- 연관규칙에 시간의 변이를 추가한 방법\n",
    "- 주가변동패턴, 구매패턴"
   ]
  },
  {
   "cell_type": "code",
   "execution_count": 3,
   "metadata": {},
   "outputs": [],
   "source": [
    "association_dummydf = pd.read_csv('data/association_dummydf.csv', encoding = 'euc-kr')"
   ]
  },
  {
   "cell_type": "code",
   "execution_count": 4,
   "metadata": {
    "collapsed": true
   },
   "outputs": [],
   "source": [
    "df = association_dummydf.copy()"
   ]
  },
  {
   "cell_type": "code",
   "execution_count": 5,
   "metadata": {
    "collapsed": true
   },
   "outputs": [],
   "source": [
    "import pandas as pd \n",
    "import itertools \n",
    "\n",
    "def support(df, item_lst):\n",
    "    return (df[list(item_lst)].sum(axis=1)==len(item_lst)).mean()\n",
    "\n",
    "def make_all_set_over_support(df, support_threshold):\n",
    "    items = []\n",
    "    single_items = [col for col in df.columns if support(df, [col]) > support_threshold] # size 1 items\n",
    "    \n",
    "    size = 2\n",
    "    while True:\n",
    "        new_items = []\n",
    "        for item_cand in itertools.combinations(single_items, size):\n",
    "            #print(item_cand, (df[list(item_cand)].sum(axis=1)==size).mean())\n",
    "            if support(df, list(item_cand)) > support_threshold:\n",
    "                new_items.append(list(item_cand))\n",
    "        if len(new_items)==0:\n",
    "            break\n",
    "        else:\n",
    "            items+=new_items\n",
    "            size+=1\n",
    "    items += [ [s] for s in single_items]# 이렇게 해줘야 모든 type이 list가 됨\n",
    "    return items\n",
    "\n",
    "def make_confidence_lst(df, item_set_over_support, confidence_threshold):\n",
    "    r_lst = []\n",
    "    for item1 in item_set_over_support:\n",
    "        for item2 in item_set_over_support:\n",
    "            if len(set(item1).intersection(set(item2)))==0:\n",
    "                conf = support(df, list(set(item1).union(set(item2))))/ support(df, item1)\n",
    "                if conf > confidence_threshold:\n",
    "                    r_lst.append((item1, item2, conf))\n",
    "            else:\n",
    "                continue\n",
    "    return sorted(r_lst, key=lambda x: x[2], reverse=True)\n",
    "\n",
    "def make_lift_lst(df, item_set_over_support, lift_threhsold):\n",
    "    r_lst = []\n",
    "    for item1 in item_set_over_support:\n",
    "        for item2 in item_set_over_support:\n",
    "            if len(set(item1).intersection(set(item2)))==0:\n",
    "                lift = support(df, list(set(item1).union(set(item2))))\n",
    "                lift /= support(df, item1)\n",
    "                lift /= support(df, item2)\n",
    "                if lift > lift_threhsold:\n",
    "                    r_lst.append((item1, item2, lift))\n",
    "            else:\n",
    "                continue\n",
    "    return sorted(r_lst, key=lambda x: x[2], reverse=True)"
   ]
  },
  {
   "cell_type": "code",
   "execution_count": 30,
   "metadata": {},
   "outputs": [
    {
     "data": {
      "text/plain": [
       "3504.36"
      ]
     },
     "execution_count": 30,
     "metadata": {},
     "output_type": "execute_result"
    }
   ],
   "source": [
    "len(df) / 100"
   ]
  },
  {
   "cell_type": "code",
   "execution_count": 26,
   "metadata": {},
   "outputs": [
    {
     "name": "stdout",
     "output_type": "stream",
     "text": [
      "[['CLAC1_NM_건강식품', 'CLAC1_NM_화장품/뷰티케어'], ['CLAC1_NM_구기/필드스포츠', 'CLAC1_NM_스포츠패션'], ['CLAC1_NM_남성의류', 'CLAC1_NM_속옷/양말/홈웨어'], ['CLAC1_NM_남성의류', 'CLAC1_NM_스포츠패션'], ['CLAC1_NM_남성의류', 'CLAC1_NM_시즌스포츠'], ['CLAC1_NM_남성의류', 'CLAC1_NM_여성의류'], ['CLAC1_NM_남성의류', 'CLAC1_NM_유아동의류'], ['CLAC1_NM_남성의류', 'CLAC1_NM_패션잡화'], ['CLAC1_NM_남성의류', 'CLAC1_NM_화장품/뷰티케어'], ['CLAC1_NM_속옷/양말/홈웨어', 'CLAC1_NM_스포츠패션'], ['CLAC1_NM_속옷/양말/홈웨어', 'CLAC1_NM_여성의류'], ['CLAC1_NM_속옷/양말/홈웨어', 'CLAC1_NM_유아동의류'], ['CLAC1_NM_속옷/양말/홈웨어', 'CLAC1_NM_출산/육아용품'], ['CLAC1_NM_속옷/양말/홈웨어', 'CLAC1_NM_패션잡화'], ['CLAC1_NM_속옷/양말/홈웨어', 'CLAC1_NM_화장품/뷰티케어'], ['CLAC1_NM_스포츠패션', 'CLAC1_NM_시즌스포츠'], ['CLAC1_NM_스포츠패션', 'CLAC1_NM_아웃도어/레저'], ['CLAC1_NM_스포츠패션', 'CLAC1_NM_여성의류'], ['CLAC1_NM_스포츠패션', 'CLAC1_NM_유아동의류'], ['CLAC1_NM_스포츠패션', 'CLAC1_NM_패션잡화'], ['CLAC1_NM_스포츠패션', 'CLAC1_NM_화장품/뷰티케어'], ['CLAC1_NM_시즌스포츠', 'CLAC1_NM_여성의류'], ['CLAC1_NM_시즌스포츠', 'CLAC1_NM_유아동의류'], ['CLAC1_NM_시즌스포츠', 'CLAC1_NM_패션잡화'], ['CLAC1_NM_식기/조리기구', 'CLAC1_NM_주방잡화'], ['CLAC1_NM_여성의류', 'CLAC1_NM_유아동의류'], ['CLAC1_NM_여성의류', 'CLAC1_NM_패션잡화'], ['CLAC1_NM_여성의류', 'CLAC1_NM_퍼스널케어'], ['CLAC1_NM_여성의류', 'CLAC1_NM_화장품/뷰티케어'], ['CLAC1_NM_유아동의류', 'CLAC1_NM_패션잡화'], ['CLAC1_NM_유아동의류', 'CLAC1_NM_화장품/뷰티케어'], ['CLAC1_NM_출산/육아용품', 'CLAC1_NM_패션잡화'], ['CLAC1_NM_출산/육아용품', 'CLAC1_NM_화장품/뷰티케어'], ['CLAC1_NM_패션잡화', 'CLAC1_NM_화장품/뷰티케어'], ['CLAC1_NM_퍼스널케어', 'CLAC1_NM_화장품/뷰티케어'], ['CLAC1_NM_가구'], ['CLAC1_NM_건강식품'], ['CLAC1_NM_과일'], ['CLAC1_NM_구기/필드스포츠'], ['CLAC1_NM_남성의류'], ['CLAC1_NM_모바일'], ['CLAC1_NM_문구/사무용품'], ['CLAC1_NM_생활/주방가전'], ['CLAC1_NM_세제/위생'], ['CLAC1_NM_속옷/양말/홈웨어'], ['CLAC1_NM_스포츠패션'], ['CLAC1_NM_시즌스포츠'], ['CLAC1_NM_식기/조리기구'], ['CLAC1_NM_아웃도어/레저'], ['CLAC1_NM_여성의류'], ['CLAC1_NM_완구'], ['CLAC1_NM_원예/애완'], ['CLAC1_NM_유아동의류'], ['CLAC1_NM_음료'], ['CLAC1_NM_주방잡화'], ['CLAC1_NM_청소/세탁/욕실용품'], ['CLAC1_NM_출산/육아용품'], ['CLAC1_NM_침구/수예'], ['CLAC1_NM_컴퓨터'], ['CLAC1_NM_패션잡화'], ['CLAC1_NM_퍼스널케어'], ['CLAC1_NM_헬스/피트니스'], ['CLAC1_NM_화장품/뷰티케어']]\n"
     ]
    }
   ],
   "source": [
    "over_support_lst = make_all_set_over_support(df, 0.01)\n",
    "print(over_support_lst)"
   ]
  },
  {
   "cell_type": "code",
   "execution_count": 27,
   "metadata": {},
   "outputs": [
    {
     "name": "stdout",
     "output_type": "stream",
     "text": [
      "over confidence list\n",
      "['CLAC1_NM_구기/필드스포츠'] => ['CLAC1_NM_스포츠패션']: 0.5400661409310608\n",
      "['CLAC1_NM_퍼스널케어'] => ['CLAC1_NM_화장품/뷰티케어']: 0.4706255091880148\n",
      "['CLAC1_NM_아웃도어/레저'] => ['CLAC1_NM_스포츠패션']: 0.4343526087395297\n",
      "['CLAC1_NM_헬스/피트니스'] => ['CLAC1_NM_스포츠패션']: 0.38895582329317263\n",
      "['CLAC1_NM_남성의류'] => ['CLAC1_NM_여성의류']: 0.38091041845007306\n",
      "['CLAC1_NM_여성의류'] => ['CLAC1_NM_남성의류']: 0.3229828250589755\n",
      "['CLAC1_NM_주방잡화'] => ['CLAC1_NM_식기/조리기구']: 0.30517068990144264\n",
      "['CLAC1_NM_시즌스포츠'] => ['CLAC1_NM_스포츠패션']: 0.28740172433438416\n",
      "['CLAC1_NM_식기/조리기구'] => ['CLAC1_NM_주방잡화']: 0.2812109246462652\n",
      "['CLAC1_NM_세제/위생'] => ['CLAC1_NM_출산/육아용품']: 0.27228721258572003\n",
      "['CLAC1_NM_남성의류'] => ['CLAC1_NM_스포츠패션']: 0.26606324588347857\n",
      "['CLAC1_NM_유아동의류'] => ['CLAC1_NM_스포츠패션']: 0.2572892636992777\n",
      "['CLAC1_NM_시즌스포츠'] => ['CLAC1_NM_패션잡화']: 0.2542063883930267\n",
      "['CLAC1_NM_여성의류', 'CLAC1_NM_퍼스널케어'] => ['CLAC1_NM_화장품/뷰티케어']: 0.24615384615384617\n",
      "['CLAC1_NM_유아동의류'] => ['CLAC1_NM_속옷/양말/홈웨어']: 0.2459819233823696\n",
      "['CLAC1_NM_패션잡화'] => ['CLAC1_NM_여성의류']: 0.2443099301739262\n",
      "['CLAC1_NM_스포츠패션'] => ['CLAC1_NM_남성의류']: 0.23154031551270818\n",
      "['CLAC1_NM_건강식품'] => ['CLAC1_NM_화장품/뷰티케어']: 0.2254257383056693\n",
      "['CLAC1_NM_남성의류', 'CLAC1_NM_속옷/양말/홈웨어'] => ['CLAC1_NM_여성의류']: 0.22477227019992901\n",
      "['CLAC1_NM_여성의류'] => ['CLAC1_NM_패션잡화']: 0.22445908008923712\n",
      "['CLAC1_NM_음료'] => ['CLAC1_NM_건강식품']: 0.22337692666978046\n",
      "['CLAC1_NM_속옷/양말/홈웨어'] => ['CLAC1_NM_유아동의류']: 0.2226539100073596\n",
      "['CLAC1_NM_남성의류', 'CLAC1_NM_패션잡화'] => ['CLAC1_NM_여성의류']: 0.22218814689871963\n",
      "['CLAC1_NM_패션잡화'] => ['CLAC1_NM_스포츠패션']: 0.2220608567345564\n",
      "['CLAC1_NM_화장품/뷰티케어'] => ['CLAC1_NM_퍼스널케어']: 0.22032461753612745\n",
      "['CLAC1_NM_속옷/양말/홈웨어', 'CLAC1_NM_출산/육아용품'] => ['CLAC1_NM_유아동의류']: 0.21417797888386125\n",
      "['CLAC1_NM_완구'] => ['CLAC1_NM_출산/육아용품']: 0.21360082608054284\n",
      "['CLAC1_NM_유아동의류'] => ['CLAC1_NM_패션잡화']: 0.21308096660741974\n",
      "['CLAC1_NM_남성의류', 'CLAC1_NM_화장품/뷰티케어'] => ['CLAC1_NM_여성의류']: 0.21233201581027666\n",
      "['CLAC1_NM_속옷/양말/홈웨어'] => ['CLAC1_NM_여성의류']: 0.21027949406952265\n",
      "['CLAC1_NM_스포츠패션'] => ['CLAC1_NM_패션잡화']: 0.20938869412795796\n",
      "['CLAC1_NM_원예/애완'] => ['CLAC1_NM_화장품/뷰티케어']: 0.20652173913043478\n"
     ]
    }
   ],
   "source": [
    "print(\"over confidence list\")\n",
    "for a, b, conf in  make_confidence_lst(df, over_support_lst, 0.2):\n",
    "    print(\"{} => {}: {}\".format(a, b, conf))"
   ]
  },
  {
   "cell_type": "code",
   "execution_count": 28,
   "metadata": {},
   "outputs": [
    {
     "name": "stdout",
     "output_type": "stream",
     "text": [
      "over lift list\n",
      "['CLAC1_NM_모바일'] => ['CLAC1_NM_컴퓨터']: 10.084226298226007\n",
      "['CLAC1_NM_컴퓨터'] => ['CLAC1_NM_모바일']: 10.084226298226007\n",
      "['CLAC1_NM_식기/조리기구'] => ['CLAC1_NM_주방잡화']: 7.038025395610526\n",
      "['CLAC1_NM_주방잡화'] => ['CLAC1_NM_식기/조리기구']: 7.038025395610526\n",
      "['CLAC1_NM_가구'] => ['CLAC1_NM_청소/세탁/욕실용품']: 5.313282044767689\n",
      "['CLAC1_NM_청소/세탁/욕실용품'] => ['CLAC1_NM_가구']: 5.313282044767688\n",
      "['CLAC1_NM_주방잡화'] => ['CLAC1_NM_청소/세탁/욕실용품']: 4.490026606164778\n",
      "['CLAC1_NM_청소/세탁/욕실용품'] => ['CLAC1_NM_주방잡화']: 4.490026606164778\n",
      "['CLAC1_NM_건강식품'] => ['CLAC1_NM_음료']: 4.218544765814356\n",
      "['CLAC1_NM_음료'] => ['CLAC1_NM_건강식품']: 4.218544765814356\n",
      "['CLAC1_NM_모바일'] => ['CLAC1_NM_문구/사무용품']: 3.89779061975316\n",
      "['CLAC1_NM_문구/사무용품'] => ['CLAC1_NM_모바일']: 3.89779061975316\n",
      "['CLAC1_NM_출산/육아용품'] => ['CLAC1_NM_세제/위생']: 3.7222251464673057\n",
      "['CLAC1_NM_세제/위생'] => ['CLAC1_NM_출산/육아용품']: 3.7222251464673053\n",
      "['CLAC1_NM_과일'] => ['CLAC1_NM_건강식품']: 3.632512494295128\n",
      "['CLAC1_NM_건강식품'] => ['CLAC1_NM_과일']: 3.6325124942951277\n",
      "['CLAC1_NM_문구/사무용품'] => ['CLAC1_NM_컴퓨터']: 3.5922701285002163\n",
      "['CLAC1_NM_컴퓨터'] => ['CLAC1_NM_문구/사무용품']: 3.5922701285002163\n",
      "['CLAC1_NM_가구'] => ['CLAC1_NM_침구/수예']: 3.3682335016249696\n",
      "['CLAC1_NM_침구/수예'] => ['CLAC1_NM_가구']: 3.3682335016249696\n",
      "['CLAC1_NM_과일'] => ['CLAC1_NM_음료']: 3.3430302296096635\n",
      "['CLAC1_NM_음료'] => ['CLAC1_NM_과일']: 3.3430302296096635\n",
      "['CLAC1_NM_완구'] => ['CLAC1_NM_출산/육아용품']: 2.9199695372873458\n",
      "['CLAC1_NM_출산/육아용품'] => ['CLAC1_NM_완구']: 2.9199695372873458\n",
      "['CLAC1_NM_문구/사무용품'] => ['CLAC1_NM_청소/세탁/욕실용품']: 2.8396082103699936\n",
      "['CLAC1_NM_청소/세탁/욕실용품'] => ['CLAC1_NM_문구/사무용품']: 2.8396082103699936\n",
      "['CLAC1_NM_주방잡화'] => ['CLAC1_NM_문구/사무용품']: 2.7613457037434457\n",
      "['CLAC1_NM_문구/사무용품'] => ['CLAC1_NM_주방잡화']: 2.7613457037434452\n",
      "['CLAC1_NM_식기/조리기구', 'CLAC1_NM_주방잡화'] => ['CLAC1_NM_청소/세탁/욕실용품']: 2.61584418397158\n",
      "['CLAC1_NM_청소/세탁/욕실용품'] => ['CLAC1_NM_식기/조리기구', 'CLAC1_NM_주방잡화']: 2.61584418397158\n",
      "['CLAC1_NM_세제/위생'] => ['CLAC1_NM_음료']: 2.4561702137280577\n",
      "['CLAC1_NM_음료'] => ['CLAC1_NM_세제/위생']: 2.4561702137280577\n",
      "['CLAC1_NM_생활/주방가전'] => ['CLAC1_NM_가구']: 2.4512274108191257\n",
      "['CLAC1_NM_가구'] => ['CLAC1_NM_생활/주방가전']: 2.451227410819125\n",
      "['CLAC1_NM_문구/사무용품'] => ['CLAC1_NM_완구']: 2.346997705586259\n",
      "['CLAC1_NM_완구'] => ['CLAC1_NM_문구/사무용품']: 2.346997705586259\n",
      "['CLAC1_NM_퍼스널케어'] => ['CLAC1_NM_화장품/뷰티케어']: 2.329732888895639\n",
      "['CLAC1_NM_화장품/뷰티케어'] => ['CLAC1_NM_퍼스널케어']: 2.3297328888956383\n",
      "['CLAC1_NM_청소/세탁/욕실용품'] => ['CLAC1_NM_침구/수예']: 2.2697139208512276\n",
      "['CLAC1_NM_침구/수예'] => ['CLAC1_NM_청소/세탁/욕실용품']: 2.2697139208512276\n",
      "['CLAC1_NM_컴퓨터'] => ['CLAC1_NM_가구']: 2.2604203684855686\n",
      "['CLAC1_NM_가구'] => ['CLAC1_NM_컴퓨터']: 2.260420368485568\n",
      "['CLAC1_NM_원예/애완'] => ['CLAC1_NM_문구/사무용품']: 2.195733185217665\n",
      "['CLAC1_NM_문구/사무용품'] => ['CLAC1_NM_원예/애완']: 2.1957331852176645\n",
      "['CLAC1_NM_완구'] => ['CLAC1_NM_출산/육아용품', 'CLAC1_NM_패션잡화']: 2.1813142091064455\n",
      "['CLAC1_NM_출산/육아용품', 'CLAC1_NM_패션잡화'] => ['CLAC1_NM_완구']: 2.181314209106445\n",
      "['CLAC1_NM_생활/주방가전'] => ['CLAC1_NM_식기/조리기구']: 2.1366041609713937\n",
      "['CLAC1_NM_식기/조리기구'] => ['CLAC1_NM_생활/주방가전']: 2.1366041609713937\n",
      "['CLAC1_NM_구기/필드스포츠'] => ['CLAC1_NM_스포츠패션']: 2.073385387415833\n",
      "['CLAC1_NM_스포츠패션'] => ['CLAC1_NM_구기/필드스포츠']: 2.073385387415833\n",
      "['CLAC1_NM_식기/조리기구'] => ['CLAC1_NM_청소/세탁/욕실용품']: 2.0450221574678373\n",
      "['CLAC1_NM_청소/세탁/욕실용품'] => ['CLAC1_NM_식기/조리기구']: 2.0450221574678373\n",
      "['CLAC1_NM_세제/위생'] => ['CLAC1_NM_퍼스널케어']: 1.997091615556006\n",
      "['CLAC1_NM_퍼스널케어'] => ['CLAC1_NM_세제/위생']: 1.997091615556006\n",
      "['CLAC1_NM_가구'] => ['CLAC1_NM_주방잡화']: 1.9847188891917502\n",
      "['CLAC1_NM_주방잡화'] => ['CLAC1_NM_가구']: 1.9847188891917502\n",
      "['CLAC1_NM_생활/주방가전'] => ['CLAC1_NM_주방잡화']: 1.9699077098235993\n",
      "['CLAC1_NM_주방잡화'] => ['CLAC1_NM_생활/주방가전']: 1.9699077098235993\n",
      "['CLAC1_NM_출산/육아용품'] => ['CLAC1_NM_침구/수예']: 1.8353725966056988\n",
      "['CLAC1_NM_침구/수예'] => ['CLAC1_NM_출산/육아용품']: 1.8353725966056988\n",
      "['CLAC1_NM_남성의류', 'CLAC1_NM_화장품/뷰티케어'] => ['CLAC1_NM_여성의류', 'CLAC1_NM_퍼스널케어']: 1.8287491859918736\n",
      "['CLAC1_NM_여성의류', 'CLAC1_NM_퍼스널케어'] => ['CLAC1_NM_남성의류', 'CLAC1_NM_화장품/뷰티케어']: 1.8287491859918736\n",
      "['CLAC1_NM_속옷/양말/홈웨어', 'CLAC1_NM_출산/육아용품'] => ['CLAC1_NM_완구']: 1.7933183327003341\n",
      "['CLAC1_NM_완구'] => ['CLAC1_NM_속옷/양말/홈웨어', 'CLAC1_NM_출산/육아용품']: 1.7933183327003341\n",
      "['CLAC1_NM_가구'] => ['CLAC1_NM_문구/사무용품']: 1.7829096483152678\n",
      "['CLAC1_NM_문구/사무용품'] => ['CLAC1_NM_가구']: 1.7829096483152678\n",
      "['CLAC1_NM_출산/육아용품', 'CLAC1_NM_화장품/뷰티케어'] => ['CLAC1_NM_세제/위생']: 1.6758377061880465\n",
      "['CLAC1_NM_세제/위생'] => ['CLAC1_NM_출산/육아용품', 'CLAC1_NM_화장품/뷰티케어']: 1.6758377061880463\n",
      "['CLAC1_NM_스포츠패션'] => ['CLAC1_NM_아웃도어/레저']: 1.667537147198136\n",
      "['CLAC1_NM_아웃도어/레저'] => ['CLAC1_NM_스포츠패션']: 1.6675371471981357\n",
      "['CLAC1_NM_속옷/양말/홈웨어', 'CLAC1_NM_출산/육아용품'] => ['CLAC1_NM_세제/위생']: 1.5422583791328304\n",
      "['CLAC1_NM_세제/위생'] => ['CLAC1_NM_속옷/양말/홈웨어', 'CLAC1_NM_출산/육아용품']: 1.5422583791328304\n",
      "['CLAC1_NM_컴퓨터'] => ['CLAC1_NM_생활/주방가전']: 1.5303425966566095\n",
      "['CLAC1_NM_생활/주방가전'] => ['CLAC1_NM_컴퓨터']: 1.5303425966566093\n",
      "['CLAC1_NM_스포츠패션'] => ['CLAC1_NM_헬스/피트니스']: 1.493252880056598\n",
      "['CLAC1_NM_헬스/피트니스'] => ['CLAC1_NM_스포츠패션']: 1.4932528800565978\n",
      "['CLAC1_NM_문구/사무용품'] => ['CLAC1_NM_식기/조리기구']: 1.4897714785406144\n",
      "['CLAC1_NM_식기/조리기구'] => ['CLAC1_NM_문구/사무용품']: 1.4897714785406144\n",
      "['CLAC1_NM_속옷/양말/홈웨어', 'CLAC1_NM_화장품/뷰티케어'] => ['CLAC1_NM_여성의류', 'CLAC1_NM_퍼스널케어']: 1.4897272939826132\n",
      "['CLAC1_NM_여성의류', 'CLAC1_NM_퍼스널케어'] => ['CLAC1_NM_속옷/양말/홈웨어', 'CLAC1_NM_화장품/뷰티케어']: 1.4897272939826132\n",
      "['CLAC1_NM_가구'] => ['CLAC1_NM_식기/조리기구']: 1.4824509671217407\n",
      "['CLAC1_NM_식기/조리기구'] => ['CLAC1_NM_가구']: 1.4824509671217407\n",
      "['CLAC1_NM_속옷/양말/홈웨어', 'CLAC1_NM_출산/육아용품'] => ['CLAC1_NM_유아동의류', 'CLAC1_NM_패션잡화']: 1.4774757483489924\n",
      "['CLAC1_NM_유아동의류', 'CLAC1_NM_패션잡화'] => ['CLAC1_NM_속옷/양말/홈웨어', 'CLAC1_NM_출산/육아용품']: 1.4774757483489924\n",
      "['CLAC1_NM_속옷/양말/홈웨어'] => ['CLAC1_NM_유아동의류']: 1.4753610711216403\n",
      "['CLAC1_NM_유아동의류'] => ['CLAC1_NM_속옷/양말/홈웨어']: 1.4753610711216403\n",
      "['CLAC1_NM_주방잡화'] => ['CLAC1_NM_침구/수예']: 1.434872836443856\n",
      "['CLAC1_NM_침구/수예'] => ['CLAC1_NM_주방잡화']: 1.434872836443856\n",
      "['CLAC1_NM_컴퓨터'] => ['CLAC1_NM_청소/세탁/욕실용품']: 1.429732835936444\n",
      "['CLAC1_NM_청소/세탁/욕실용품'] => ['CLAC1_NM_컴퓨터']: 1.4297328359364438\n",
      "['CLAC1_NM_속옷/양말/홈웨어', 'CLAC1_NM_출산/육아용품'] => ['CLAC1_NM_유아동의류', 'CLAC1_NM_화장품/뷰티케어']: 1.4278418334237126\n",
      "['CLAC1_NM_유아동의류', 'CLAC1_NM_화장품/뷰티케어'] => ['CLAC1_NM_속옷/양말/홈웨어', 'CLAC1_NM_출산/육아용품']: 1.4278418334237124\n",
      "['CLAC1_NM_남성의류'] => ['CLAC1_NM_여성의류']: 1.4248553462204436\n",
      "['CLAC1_NM_여성의류'] => ['CLAC1_NM_남성의류']: 1.4248553462204434\n",
      "['CLAC1_NM_속옷/양말/홈웨어', 'CLAC1_NM_출산/육아용품'] => ['CLAC1_NM_유아동의류']: 1.4191974096763755\n",
      "['CLAC1_NM_유아동의류'] => ['CLAC1_NM_속옷/양말/홈웨어', 'CLAC1_NM_출산/육아용품']: 1.4191974096763755\n",
      "['CLAC1_NM_식기/조리기구', 'CLAC1_NM_주방잡화'] => ['CLAC1_NM_가구']: 1.4038684253824925\n",
      "['CLAC1_NM_가구'] => ['CLAC1_NM_식기/조리기구', 'CLAC1_NM_주방잡화']: 1.4038684253824922\n",
      "['CLAC1_NM_원예/애완'] => ['CLAC1_NM_세제/위생']: 1.3864609127184018\n",
      "['CLAC1_NM_세제/위생'] => ['CLAC1_NM_원예/애완']: 1.3864609127184016\n",
      "['CLAC1_NM_청소/세탁/욕실용품'] => ['CLAC1_NM_세제/위생']: 1.3830743996460175\n",
      "['CLAC1_NM_세제/위생'] => ['CLAC1_NM_청소/세탁/욕실용품']: 1.3830743996460173\n",
      "['CLAC1_NM_속옷/양말/홈웨어', 'CLAC1_NM_유아동의류'] => ['CLAC1_NM_출산/육아용품', 'CLAC1_NM_패션잡화']: 1.377137024194128\n",
      "['CLAC1_NM_출산/육아용품', 'CLAC1_NM_패션잡화'] => ['CLAC1_NM_속옷/양말/홈웨어', 'CLAC1_NM_유아동의류']: 1.377137024194128\n",
      "['CLAC1_NM_침구/수예'] => ['CLAC1_NM_식기/조리기구']: 1.3753894119757022\n",
      "['CLAC1_NM_식기/조리기구'] => ['CLAC1_NM_침구/수예']: 1.375389411975702\n",
      "['CLAC1_NM_가구'] => ['CLAC1_NM_완구']: 1.3724962847633102\n",
      "['CLAC1_NM_완구'] => ['CLAC1_NM_가구']: 1.3724962847633102\n",
      "['CLAC1_NM_출산/육아용품', 'CLAC1_NM_화장품/뷰티케어'] => ['CLAC1_NM_퍼스널케어']: 1.337123739542011\n",
      "['CLAC1_NM_퍼스널케어'] => ['CLAC1_NM_출산/육아용품', 'CLAC1_NM_화장품/뷰티케어']: 1.3371237395420108\n",
      "['CLAC1_NM_구기/필드스포츠'] => ['CLAC1_NM_아웃도어/레저']: 1.3269906492505867\n",
      "['CLAC1_NM_아웃도어/레저'] => ['CLAC1_NM_구기/필드스포츠']: 1.3269906492505867\n",
      "['CLAC1_NM_유아동의류', 'CLAC1_NM_화장품/뷰티케어'] => ['CLAC1_NM_출산/육아용품', 'CLAC1_NM_패션잡화']: 1.3268638140732172\n",
      "['CLAC1_NM_출산/육아용품', 'CLAC1_NM_패션잡화'] => ['CLAC1_NM_유아동의류', 'CLAC1_NM_화장품/뷰티케어']: 1.3268638140732172\n",
      "['CLAC1_NM_주방잡화'] => ['CLAC1_NM_세제/위생']: 1.3205348236139147\n",
      "['CLAC1_NM_세제/위생'] => ['CLAC1_NM_주방잡화']: 1.3205348236139145\n",
      "['CLAC1_NM_문구/사무용품'] => ['CLAC1_NM_침구/수예']: 1.3104000451953677\n",
      "['CLAC1_NM_침구/수예'] => ['CLAC1_NM_문구/사무용품']: 1.3104000451953675\n",
      "['CLAC1_NM_원예/애완'] => ['CLAC1_NM_음료']: 1.3084776185872717\n",
      "['CLAC1_NM_음료'] => ['CLAC1_NM_원예/애완']: 1.3084776185872717\n",
      "['CLAC1_NM_식기/조리기구', 'CLAC1_NM_주방잡화'] => ['CLAC1_NM_문구/사무용품']: 1.300469309159152\n",
      "['CLAC1_NM_문구/사무용품'] => ['CLAC1_NM_식기/조리기구', 'CLAC1_NM_주방잡화']: 1.3004693091591517\n",
      "['CLAC1_NM_과일'] => ['CLAC1_NM_건강식품', 'CLAC1_NM_화장품/뷰티케어']: 1.2957657144019241\n",
      "['CLAC1_NM_건강식품', 'CLAC1_NM_화장품/뷰티케어'] => ['CLAC1_NM_과일']: 1.295765714401924\n",
      "['CLAC1_NM_속옷/양말/홈웨어', 'CLAC1_NM_패션잡화'] => ['CLAC1_NM_시즌스포츠', 'CLAC1_NM_유아동의류']: 1.288239480375827\n",
      "['CLAC1_NM_시즌스포츠', 'CLAC1_NM_유아동의류'] => ['CLAC1_NM_속옷/양말/홈웨어', 'CLAC1_NM_패션잡화']: 1.288239480375827\n",
      "['CLAC1_NM_시즌스포츠', 'CLAC1_NM_유아동의류'] => ['CLAC1_NM_출산/육아용품', 'CLAC1_NM_패션잡화']: 1.2866204666782035\n",
      "['CLAC1_NM_출산/육아용품', 'CLAC1_NM_패션잡화'] => ['CLAC1_NM_시즌스포츠', 'CLAC1_NM_유아동의류']: 1.2866204666782035\n",
      "['CLAC1_NM_출산/육아용품', 'CLAC1_NM_패션잡화'] => ['CLAC1_NM_세제/위생']: 1.2847600231449177\n",
      "['CLAC1_NM_세제/위생'] => ['CLAC1_NM_출산/육아용품', 'CLAC1_NM_패션잡화']: 1.2847600231449177\n",
      "['CLAC1_NM_속옷/양말/홈웨어', 'CLAC1_NM_출산/육아용품'] => ['CLAC1_NM_침구/수예']: 1.2524823356001815\n",
      "['CLAC1_NM_침구/수예'] => ['CLAC1_NM_속옷/양말/홈웨어', 'CLAC1_NM_출산/육아용품']: 1.2524823356001815\n",
      "['CLAC1_NM_여성의류', 'CLAC1_NM_퍼스널케어'] => ['CLAC1_NM_출산/육아용품', 'CLAC1_NM_패션잡화']: 1.2461808572817499\n",
      "['CLAC1_NM_출산/육아용품', 'CLAC1_NM_패션잡화'] => ['CLAC1_NM_여성의류', 'CLAC1_NM_퍼스널케어']: 1.2461808572817499\n",
      "['CLAC1_NM_모바일'] => ['CLAC1_NM_생활/주방가전']: 1.2433249167417408\n",
      "['CLAC1_NM_생활/주방가전'] => ['CLAC1_NM_모바일']: 1.2433249167417408\n",
      "['CLAC1_NM_과일'] => ['CLAC1_NM_세제/위생']: 1.2389834034803713\n",
      "['CLAC1_NM_세제/위생'] => ['CLAC1_NM_과일']: 1.2389834034803713\n",
      "['CLAC1_NM_식기/조리기구', 'CLAC1_NM_주방잡화'] => ['CLAC1_NM_생활/주방가전']: 1.2354260815580658\n",
      "['CLAC1_NM_생활/주방가전'] => ['CLAC1_NM_식기/조리기구', 'CLAC1_NM_주방잡화']: 1.2354260815580658\n",
      "['CLAC1_NM_생활/주방가전'] => ['CLAC1_NM_청소/세탁/욕실용품']: 1.2344438421330126\n",
      "['CLAC1_NM_청소/세탁/욕실용품'] => ['CLAC1_NM_생활/주방가전']: 1.2344438421330126\n",
      "['CLAC1_NM_여성의류', 'CLAC1_NM_퍼스널케어'] => ['CLAC1_NM_세제/위생']: 1.2337033261212367\n",
      "['CLAC1_NM_세제/위생'] => ['CLAC1_NM_여성의류', 'CLAC1_NM_퍼스널케어']: 1.2337033261212367\n",
      "['CLAC1_NM_생활/주방가전'] => ['CLAC1_NM_원예/애완']: 1.2287807737992635\n",
      "['CLAC1_NM_원예/애완'] => ['CLAC1_NM_생활/주방가전']: 1.2287807737992635\n",
      "['CLAC1_NM_건강식품', 'CLAC1_NM_화장품/뷰티케어'] => ['CLAC1_NM_여성의류', 'CLAC1_NM_퍼스널케어']: 1.2185634494599353\n",
      "['CLAC1_NM_여성의류', 'CLAC1_NM_퍼스널케어'] => ['CLAC1_NM_건강식품', 'CLAC1_NM_화장품/뷰티케어']: 1.218563449459935\n",
      "['CLAC1_NM_여성의류', 'CLAC1_NM_퍼스널케어'] => ['CLAC1_NM_화장품/뷰티케어']: 1.2185329947418349\n",
      "['CLAC1_NM_화장품/뷰티케어'] => ['CLAC1_NM_여성의류', 'CLAC1_NM_퍼스널케어']: 1.2185329947418349\n",
      "['CLAC1_NM_여성의류', 'CLAC1_NM_퍼스널케어'] => ['CLAC1_NM_패션잡화', 'CLAC1_NM_화장품/뷰티케어']: 1.1966147297518537\n",
      "['CLAC1_NM_패션잡화', 'CLAC1_NM_화장품/뷰티케어'] => ['CLAC1_NM_여성의류', 'CLAC1_NM_퍼스널케어']: 1.1966147297518535\n",
      "['CLAC1_NM_생활/주방가전'] => ['CLAC1_NM_침구/수예']: 1.1731507770613487\n",
      "['CLAC1_NM_침구/수예'] => ['CLAC1_NM_생활/주방가전']: 1.1731507770613487\n",
      "['CLAC1_NM_남성의류', 'CLAC1_NM_속옷/양말/홈웨어'] => ['CLAC1_NM_여성의류', 'CLAC1_NM_유아동의류']: 1.1477938719873684\n",
      "['CLAC1_NM_여성의류', 'CLAC1_NM_유아동의류'] => ['CLAC1_NM_남성의류', 'CLAC1_NM_속옷/양말/홈웨어']: 1.1477938719873684\n",
      "['CLAC1_NM_출산/육아용품', 'CLAC1_NM_화장품/뷰티케어'] => ['CLAC1_NM_완구']: 1.141553526015509\n",
      "['CLAC1_NM_완구'] => ['CLAC1_NM_출산/육아용품', 'CLAC1_NM_화장품/뷰티케어']: 1.1415535260155087\n",
      "['CLAC1_NM_건강식품'] => ['CLAC1_NM_원예/애완']: 1.1314006235000176\n",
      "['CLAC1_NM_원예/애완'] => ['CLAC1_NM_건강식품']: 1.1314006235000176\n",
      "['CLAC1_NM_유아동의류'] => ['CLAC1_NM_속옷/양말/홈웨어', 'CLAC1_NM_패션잡화']: 1.1287102213811446\n",
      "['CLAC1_NM_속옷/양말/홈웨어', 'CLAC1_NM_패션잡화'] => ['CLAC1_NM_유아동의류']: 1.1287102213811444\n",
      "['CLAC1_NM_청소/세탁/욕실용품'] => ['CLAC1_NM_출산/육아용품']: 1.127783271328607\n",
      "['CLAC1_NM_출산/육아용품'] => ['CLAC1_NM_청소/세탁/욕실용품']: 1.1277832713286067\n",
      "['CLAC1_NM_출산/육아용품'] => ['CLAC1_NM_퍼스널케어']: 1.1161885836690224\n",
      "['CLAC1_NM_퍼스널케어'] => ['CLAC1_NM_출산/육아용품']: 1.1161885836690224\n",
      "['CLAC1_NM_건강식품'] => ['CLAC1_NM_화장품/뷰티케어']: 1.115922843707329\n",
      "['CLAC1_NM_화장품/뷰티케어'] => ['CLAC1_NM_건강식품']: 1.115922843707329\n",
      "['CLAC1_NM_모바일'] => ['CLAC1_NM_청소/세탁/욕실용품']: 1.107181531882232\n",
      "['CLAC1_NM_청소/세탁/욕실용품'] => ['CLAC1_NM_모바일']: 1.107181531882232\n",
      "['CLAC1_NM_모바일'] => ['CLAC1_NM_완구']: 1.1046816563695843\n",
      "['CLAC1_NM_완구'] => ['CLAC1_NM_모바일']: 1.1046816563695843\n",
      "['CLAC1_NM_스포츠패션'] => ['CLAC1_NM_시즌스포츠']: 1.1033732544790125\n",
      "['CLAC1_NM_시즌스포츠'] => ['CLAC1_NM_스포츠패션']: 1.1033732544790125\n",
      "['CLAC1_NM_건강식품', 'CLAC1_NM_화장품/뷰티케어'] => ['CLAC1_NM_퍼스널케어']: 1.1021526024429424\n",
      "['CLAC1_NM_퍼스널케어'] => ['CLAC1_NM_건강식품', 'CLAC1_NM_화장품/뷰티케어']: 1.1021526024429424\n",
      "['CLAC1_NM_모바일'] => ['CLAC1_NM_원예/애완']: 1.099150861684411\n",
      "['CLAC1_NM_원예/애완'] => ['CLAC1_NM_모바일']: 1.099150861684411\n",
      "['CLAC1_NM_스포츠패션', 'CLAC1_NM_아웃도어/레저'] => ['CLAC1_NM_구기/필드스포츠']: 1.0874084698975544\n",
      "['CLAC1_NM_구기/필드스포츠'] => ['CLAC1_NM_스포츠패션', 'CLAC1_NM_아웃도어/레저']: 1.0874084698975544\n",
      "['CLAC1_NM_원예/애완'] => ['CLAC1_NM_청소/세탁/욕실용품']: 1.0730102495895597\n",
      "['CLAC1_NM_청소/세탁/욕실용품'] => ['CLAC1_NM_원예/애완']: 1.0730102495895597\n",
      "['CLAC1_NM_주방잡화'] => ['CLAC1_NM_출산/육아용품']: 1.0729587155023996\n",
      "['CLAC1_NM_출산/육아용품'] => ['CLAC1_NM_주방잡화']: 1.0729587155023996\n",
      "['CLAC1_NM_가구'] => ['CLAC1_NM_출산/육아용품']: 1.0554123481900342\n",
      "['CLAC1_NM_출산/육아용품'] => ['CLAC1_NM_가구']: 1.0554123481900342\n",
      "['CLAC1_NM_스포츠패션', 'CLAC1_NM_화장품/뷰티케어'] => ['CLAC1_NM_여성의류', 'CLAC1_NM_퍼스널케어']: 1.054857874341336\n",
      "['CLAC1_NM_여성의류', 'CLAC1_NM_퍼스널케어'] => ['CLAC1_NM_스포츠패션', 'CLAC1_NM_화장품/뷰티케어']: 1.054857874341336\n",
      "['CLAC1_NM_원예/애완'] => ['CLAC1_NM_침구/수예']: 1.051808946987412\n",
      "['CLAC1_NM_침구/수예'] => ['CLAC1_NM_원예/애완']: 1.0518089469874117\n",
      "['CLAC1_NM_음료'] => ['CLAC1_NM_퍼스널케어']: 1.0458029377852103\n",
      "['CLAC1_NM_퍼스널케어'] => ['CLAC1_NM_음료']: 1.0458029377852103\n",
      "['CLAC1_NM_아웃도어/레저'] => ['CLAC1_NM_시즌스포츠']: 1.0450188362087707\n",
      "['CLAC1_NM_시즌스포츠'] => ['CLAC1_NM_아웃도어/레저']: 1.0450188362087705\n",
      "['CLAC1_NM_완구'] => ['CLAC1_NM_컴퓨터']: 1.037483613844215\n",
      "['CLAC1_NM_컴퓨터'] => ['CLAC1_NM_완구']: 1.0374836138442147\n",
      "['CLAC1_NM_시즌스포츠'] => ['CLAC1_NM_패션잡화']: 1.0349951775034416\n",
      "['CLAC1_NM_패션잡화'] => ['CLAC1_NM_시즌스포츠']: 1.0349951775034416\n",
      "['CLAC1_NM_남성의류', 'CLAC1_NM_시즌스포츠'] => ['CLAC1_NM_여성의류', 'CLAC1_NM_유아동의류']: 1.0342819072531713\n",
      "['CLAC1_NM_여성의류', 'CLAC1_NM_유아동의류'] => ['CLAC1_NM_남성의류', 'CLAC1_NM_시즌스포츠']: 1.0342819072531713\n",
      "['CLAC1_NM_남성의류', 'CLAC1_NM_유아동의류'] => ['CLAC1_NM_시즌스포츠', 'CLAC1_NM_여성의류']: 1.031143989494776\n",
      "['CLAC1_NM_시즌스포츠', 'CLAC1_NM_여성의류'] => ['CLAC1_NM_남성의류', 'CLAC1_NM_유아동의류']: 1.031143989494776\n",
      "['CLAC1_NM_여성의류', 'CLAC1_NM_퍼스널케어'] => ['CLAC1_NM_출산/육아용품', 'CLAC1_NM_화장품/뷰티케어']: 1.0253562337244349\n",
      "['CLAC1_NM_출산/육아용품', 'CLAC1_NM_화장품/뷰티케어'] => ['CLAC1_NM_여성의류', 'CLAC1_NM_퍼스널케어']: 1.0253562337244346\n",
      "['CLAC1_NM_문구/사무용품'] => ['CLAC1_NM_출산/육아용품']: 1.0233837590792272\n",
      "['CLAC1_NM_출산/육아용품'] => ['CLAC1_NM_문구/사무용품']: 1.0233837590792272\n",
      "['CLAC1_NM_원예/애완'] => ['CLAC1_NM_화장품/뷰티케어']: 1.0223425601264715\n",
      "['CLAC1_NM_화장품/뷰티케어'] => ['CLAC1_NM_원예/애완']: 1.0223425601264713\n",
      "['CLAC1_NM_남성의류'] => ['CLAC1_NM_스포츠패션']: 1.0214520117706256\n",
      "['CLAC1_NM_스포츠패션'] => ['CLAC1_NM_남성의류']: 1.0214520117706254\n",
      "['CLAC1_NM_문구/사무용품'] => ['CLAC1_NM_생활/주방가전']: 1.0206665760629396\n",
      "['CLAC1_NM_생활/주방가전'] => ['CLAC1_NM_문구/사무용품']: 1.0206665760629394\n",
      "['CLAC1_NM_과일'] => ['CLAC1_NM_원예/애완']: 1.0188059132311464\n",
      "['CLAC1_NM_원예/애완'] => ['CLAC1_NM_과일']: 1.0188059132311464\n",
      "['CLAC1_NM_식기/조리기구', 'CLAC1_NM_주방잡화'] => ['CLAC1_NM_침구/수예']: 1.0084439149186957\n",
      "['CLAC1_NM_침구/수예'] => ['CLAC1_NM_식기/조리기구', 'CLAC1_NM_주방잡화']: 1.0084439149186957\n",
      "['CLAC1_NM_완구'] => ['CLAC1_NM_침구/수예']: 1.0051237780805053\n",
      "['CLAC1_NM_침구/수예'] => ['CLAC1_NM_완구']: 1.0051237780805053\n",
      "['CLAC1_NM_남성의류', 'CLAC1_NM_속옷/양말/홈웨어'] => ['CLAC1_NM_시즌스포츠', 'CLAC1_NM_여성의류']: 1.0031621915407836\n",
      "['CLAC1_NM_시즌스포츠', 'CLAC1_NM_여성의류'] => ['CLAC1_NM_남성의류', 'CLAC1_NM_속옷/양말/홈웨어']: 1.0031621915407836\n"
     ]
    }
   ],
   "source": [
    "print(\"over lift list\")\n",
    "for a, b, lift in  make_lift_lst(df, over_support_lst, 1):\n",
    "    print(\"{} => {}: {}\".format(a, b, lift))"
   ]
  },
  {
   "cell_type": "code",
   "execution_count": 31,
   "metadata": {},
   "outputs": [
    {
     "data": {
      "text/plain": [
       "Index(['CLAC1_NM_가구', 'CLAC1_NM_건강식품', 'CLAC1_NM_계절가전', 'CLAC1_NM_과일',\n",
       "       'CLAC1_NM_구기/필드스포츠', 'CLAC1_NM_남성의류', 'CLAC1_NM_냉동식품',\n",
       "       'CLAC1_NM_냉장/세탁가전', 'CLAC1_NM_냉장식품', 'CLAC1_NM_모바일', 'CLAC1_NM_문구/사무용품',\n",
       "       'CLAC1_NM_상품권', 'CLAC1_NM_생활/주방가전', 'CLAC1_NM_세제/위생',\n",
       "       'CLAC1_NM_속옷/양말/홈웨어', 'CLAC1_NM_스포츠패션', 'CLAC1_NM_시즌스포츠',\n",
       "       'CLAC1_NM_식기/조리기구', 'CLAC1_NM_아웃도어/레저', 'CLAC1_NM_여성의류',\n",
       "       'CLAC1_NM_영상/음향가전', 'CLAC1_NM_완구', 'CLAC1_NM_원예/애완', 'CLAC1_NM_유아동의류',\n",
       "       'CLAC1_NM_음료', 'CLAC1_NM_인테리어/조명', 'CLAC1_NM_자동차용품', 'CLAC1_NM_주방잡화',\n",
       "       'CLAC1_NM_청소/세탁/욕실용품', 'CLAC1_NM_축산물', 'CLAC1_NM_출산/육아용품',\n",
       "       'CLAC1_NM_침구/수예', 'CLAC1_NM_컴퓨터', 'CLAC1_NM_패션잡화', 'CLAC1_NM_퍼스널케어',\n",
       "       'CLAC1_NM_헬스/피트니스', 'CLAC1_NM_화장품/뷰티케어'],\n",
       "      dtype='object')"
      ]
     },
     "execution_count": 31,
     "metadata": {},
     "output_type": "execute_result"
    }
   ],
   "source": [
    "df.columns"
   ]
  },
  {
   "cell_type": "code",
   "execution_count": null,
   "metadata": {
    "collapsed": true
   },
   "outputs": [],
   "source": []
  }
 ],
 "metadata": {
  "kernelspec": {
   "display_name": "Python 3",
   "language": "python",
   "name": "python3"
  },
  "language_info": {
   "codemirror_mode": {
    "name": "ipython",
    "version": 3
   },
   "file_extension": ".py",
   "mimetype": "text/x-python",
   "name": "python",
   "nbconvert_exporter": "python",
   "pygments_lexer": "ipython3",
   "version": "3.6.3"
  }
 },
 "nbformat": 4,
 "nbformat_minor": 2
}
